{
 "cells": [
  {
   "cell_type": "markdown",
   "metadata": {},
   "source": [
    "# Practicum II - Movie Database Applicaton\n",
    "### Collaborators: Abasamia Akpan, Rebecca Brent and Alessia Pizzoccheri\n",
    "\n",
    "This Notebook provides context, documentation and sample code for a Database Application using IMBd datasets; for clarity, this document has been divided into the following sections:\n",
    "\n",
    "### 1. Introduction\n",
    "### 2. Assumptions\n",
    "### 3. Logical Models\n",
    "### 4. Database and Relations Definition¶\n",
    "### 1. Introduction\n",
    "#### 1.1. Looking at the data\n",
    "In this section, we analyze and deconstruct the various data sets found on the IMBd page; data is organized in seven TSV files, specifically:\n",
    "\n",
    "Title AKAs\n",
    "Title Basics\n",
    "Title Episodes\n",
    "Title Ratings\n",
    "Title Crew\n",
    "Name Basics\n",
    "Title Principles Our first step is to establish relationships between each data set and identify a primary key (PK) on each table. Since no information was provided regarding the role of columns, we devised a solution to find unique identifiers within each data set; that is, for each table we compare the total number of rows against the total number of unique values for a given column.\n",
    "1.2 Establishing PKs"
   ]
  },
  {
   "cell_type": "code",
   "execution_count": 7,
   "metadata": {},
   "outputs": [
    {
     "name": "stderr",
     "output_type": "stream",
     "text": [
      "WARNING: pip is being invoked by an old script wrapper. This will fail in a future version of pip.\n",
      "Please see https://github.com/pypa/pip/issues/5599 for advice on fixing the underlying issue.\n",
      "To avoid this problem you can invoke Python with '-m pip' instead of running pip directly.\n"
     ]
    },
    {
     "name": "stdout",
     "output_type": "stream",
     "text": [
      "Requirement already satisfied: prettytable in /opt/anaconda3/lib/python3.8/site-packages (1.0.1)\n",
      "Requirement already satisfied: wcwidth in /opt/anaconda3/lib/python3.8/site-packages (from prettytable) (0.2.5)\n",
      "Requirement already satisfied: setuptools in /opt/anaconda3/lib/python3.8/site-packages (from prettytable) (49.2.0.post20200714)\n"
     ]
    },
    {
     "name": "stderr",
     "output_type": "stream",
     "text": [
      "WARNING: pip is being invoked by an old script wrapper. This will fail in a future version of pip.\n",
      "Please see https://github.com/pypa/pip/issues/5599 for advice on fixing the underlying issue.\n",
      "To avoid this problem you can invoke Python with '-m pip' instead of running pip directly.\n"
     ]
    },
    {
     "name": "stdout",
     "output_type": "stream",
     "text": [
      "Requirement already satisfied: mysql-connector-python in /opt/anaconda3/lib/python3.8/site-packages (8.0.22)\n",
      "Requirement already satisfied: protobuf>=3.0.0 in /opt/anaconda3/lib/python3.8/site-packages (from mysql-connector-python) (3.13.0)\n",
      "Requirement already satisfied: six>=1.9 in /opt/anaconda3/lib/python3.8/site-packages (from protobuf>=3.0.0->mysql-connector-python) (1.15.0)\n",
      "Requirement already satisfied: setuptools in /opt/anaconda3/lib/python3.8/site-packages (from protobuf>=3.0.0->mysql-connector-python) (49.2.0.post20200714)\n"
     ]
    },
    {
     "name": "stderr",
     "output_type": "stream",
     "text": [
      "WARNING: pip is being invoked by an old script wrapper. This will fail in a future version of pip.\n",
      "Please see https://github.com/pypa/pip/issues/5599 for advice on fixing the underlying issue.\n",
      "To avoid this problem you can invoke Python with '-m pip' instead of running pip directly.\n"
     ]
    },
    {
     "name": "stdout",
     "output_type": "stream",
     "text": [
      "Requirement already satisfied: tqdm in /opt/anaconda3/lib/python3.8/site-packages (4.47.0)\n"
     ]
    },
    {
     "name": "stderr",
     "output_type": "stream",
     "text": [
      "WARNING: pip is being invoked by an old script wrapper. This will fail in a future version of pip.\n",
      "Please see https://github.com/pypa/pip/issues/5599 for advice on fixing the underlying issue.\n",
      "To avoid this problem you can invoke Python with '-m pip' instead of running pip directly.\n"
     ]
    },
    {
     "name": "stdout",
     "output_type": "stream",
     "text": [
      "Requirement already satisfied: pymysql in /opt/anaconda3/lib/python3.8/site-packages (0.10.1)\n"
     ]
    },
    {
     "name": "stderr",
     "output_type": "stream",
     "text": [
      "WARNING: pip is being invoked by an old script wrapper. This will fail in a future version of pip.\n",
      "Please see https://github.com/pypa/pip/issues/5599 for advice on fixing the underlying issue.\n",
      "To avoid this problem you can invoke Python with '-m pip' instead of running pip directly.\n",
      "ERROR: Could not find a version that satisfies the requirement tkinter (from versions: none)\n",
      "ERROR: No matching distribution found for tkinter\n"
     ]
    },
    {
     "name": "stdout",
     "output_type": "stream",
     "text": [
      "Please enter the password for connecting to SQL (root): new_password\n"
     ]
    }
   ],
   "source": [
    "import pandas as pd\n",
    "import numpy as np\n",
    "import os\n",
    "import sys\n",
    "import pip\n",
    "\n",
    "from tqdm import tqdm\n",
    "import mysql.connector\n",
    "from mysql.connector import Error\n",
    "# install packages used below if not already installed -- not necessary to run this chunk if they are\n",
    "pip.main(['install','prettytable'])\n",
    "pip.main(['install','mysql-connector-python'])\n",
    "pip.main(['install','tqdm'])\n",
    "pip.main(['install','pymysql'])\n",
    "pip.main(['install', 'tkinter'])\n",
    "\n",
    "host_name = \"localhost\"\n",
    "user_name = \"root\"\n",
    "database = \"imdb\"\n",
    "password = input(\"Please enter the password for connecting to SQL (root): \")\n",
    "\n",
    "BATCH_SIZE = 10000"
   ]
  },
  {
   "cell_type": "code",
   "execution_count": 8,
   "metadata": {},
   "outputs": [
    {
     "name": "stdout",
     "output_type": "stream",
     "text": [
      "Connection to MySQL DB successful\n",
      "Database created successfully\n",
      "Connection to MySQL DB successful\n",
      "Successfully created table: titlebasics\n",
      "Successfully created table: titleratings\n",
      "Successfully created table: titleepisodes\n",
      "Successfully created table: namebasics\n",
      "Successfully created table: genres\n",
      "Successfully created table: knownfortitles\n",
      "Successfully created table: primaryprofession\n",
      "Successfully created table: genretitlebasics\n",
      "Successfully created table: primaryprofessiontitlenames\n"
     ]
    }
   ],
   "source": [
    "def create_connection_nodb():\n",
    "    \"\"\" create a connection to mysql host\n",
    "    :param host_name: string host name (ie. \"localhost\")\n",
    "    :param user_name: string username (ie. \"root\")\n",
    "    :param user_password: string the password to connect to mysql\n",
    "    :return: connection object\n",
    "    \"\"\"\n",
    "    connection = None\n",
    "    try:\n",
    "        connection = mysql.connector.connect(\n",
    "            host=host_name,\n",
    "            user=user_name,\n",
    "            passwd=password\n",
    "        )\n",
    "        print(\"Connection to MySQL DB successful\")\n",
    "    except Error as e:\n",
    "        print(f\"The error '{e}' occurred\")\n",
    "\n",
    "    return connection\n",
    "\n",
    "def create_database(connection):\n",
    "    \"\"\" create a database \n",
    "    :param connection: Connection object\n",
    "    :param db_name: name of database in form of string\n",
    "    :return:\n",
    "    \"\"\"\n",
    "    cursor = connection.cursor()\n",
    "    try:\n",
    "        query = \"CREATE DATABASE IF NOT EXISTS \" + database\n",
    "        cursor.execute(query)\n",
    "        print(\"Database created successfully\")\n",
    "    except Error as e:\n",
    "        print(f\"The error '{e}' occurred\")\n",
    "        \n",
    "def create_connection():\n",
    "    \"\"\" create a connection to the (possibly newly created) database\n",
    "    :param host_name: string host name (ie. \"localhost\")\n",
    "    :param user_name: string username (ie. \"root\")\n",
    "    :param user_password: string the password to connect to mysql\n",
    "    :param db_name: string name of database \n",
    "    :return: connection object\n",
    "    \"\"\"\n",
    "    connection = None\n",
    "    try:\n",
    "        connection = mysql.connector.connect(\n",
    "            host=host_name,\n",
    "            user=user_name,\n",
    "            passwd=password,\n",
    "            database=database\n",
    "        )\n",
    "        print(\"Connection to MySQL DB successful\")\n",
    "    except Error as e:\n",
    "        print(f\"The error '{e}' occurred\")\n",
    "\n",
    "    return connection\n",
    "\n",
    "def create_table(conn, create_table_sql):\n",
    "    \"\"\" create a table from the create_table_sql statement\n",
    "    :param conn: Connection object\n",
    "    :param create_table_sql: a CREATE TABLE statement\n",
    "    :return:\n",
    "    \"\"\"\n",
    "    try:\n",
    "        c = conn.cursor()\n",
    "        c.execute(create_table_sql)\n",
    "        table_name = create_table_sql.split(\" \")[5].split(\"(\")[0]\n",
    "        print(\"Successfully created table: \" + table_name)\n",
    "    except Error as e:\n",
    "        print(e)\n",
    "        \n",
    "def main():\n",
    "    \n",
    "    create_table_titlebasics = \"\"\"CREATE TABLE IF NOT EXISTS titlebasics(\n",
    "                                    tconst VARCHAR(11) PRIMARY KEY,\n",
    "                                    titleType TEXT,\n",
    "                                    primaryTitle MEDIUMTEXT,\n",
    "                                    originalTitle MEDIUMTEXT,\n",
    "                                    isAdult BOOLEAN,\n",
    "                                    startYear DATE,\n",
    "                                    endYear DATE,\n",
    "                                    runTimeMinutes TIME)\"\"\"\n",
    "    \n",
    "    create_table_titleratings = \"\"\"CREATE TABLE IF NOT EXISTS titleratings(\n",
    "                                    tconst VARCHAR(11) PRIMARY KEY,\n",
    "                                    averageRating FLOAT,\n",
    "                                    numVotes INT,\n",
    "                                    FOREIGN KEY (tconst) REFERENCES titlebasics(tconst))\"\"\"\n",
    "\n",
    "\n",
    "    create_table_titleepisodes = \"\"\"CREATE TABLE IF NOT EXISTS titleepisodes(\n",
    "                                    tconst VARCHAR(11) PRIMARY KEY,\n",
    "                                    seasonNumber INT,\n",
    "                                    episodeNumber INT,\n",
    "                                    parentTconst VARCHAR(11),\n",
    "                                    FOREIGN KEY (parentTconst) REFERENCES titlebasics(tconst))\"\"\"\n",
    "\n",
    "\n",
    "    create_table_namebasics = \"\"\"CREATE TABLE IF NOT EXISTS namebasics(\n",
    "                                nconst VARCHAR(11) PRIMARY KEY,\n",
    "                                primaryname TEXT,\n",
    "                                birthyear DATE,\n",
    "                                deathyear DATE,\n",
    "                                noofmovies INT,\n",
    "                                age INT)\"\"\"\n",
    "    \n",
    "    \n",
    "    create_table_genres = \"\"\"CREATE TABLE IF NOT EXISTS genres(\n",
    "                                genreID INT AUTO_INCREMENT  PRIMARY KEY,\n",
    "                                genre VARCHAR(256) UNIQUE)\"\"\"\n",
    "    \n",
    "    create_table_primaryprofession = \"\"\"CREATE TABLE IF NOT EXISTS primaryprofession(\n",
    "                                primaryprofessionID INT AUTO_INCREMENT PRIMARY KEY,\n",
    "                                profession VARCHAR(256) UNIQUE)\"\"\"\n",
    "    \n",
    " \n",
    "    \n",
    "    \n",
    "    create_table_genretitlebasics = \"\"\"CREATE TABLE IF NOT EXISTS genretitlebasics(\n",
    "                                titlebasicsID VARCHAR(11),\n",
    "                                genreID INT,\n",
    "                                PRIMARY KEY (titlebasicsID, genreID),\n",
    "                                FOREIGN KEY (titlebasicsID) REFERENCES titlebasics(tconst),\n",
    "                                FOREIGN KEY (genreID) REFERENCES genres(genreID))\"\"\"\n",
    "    \n",
    "\n",
    "    \n",
    "    create_table_primaryprofessiontitlenames = \"\"\"CREATE TABLE IF NOT EXISTS primaryprofessiontitlenames(\n",
    "                                primaryprofessionid INT,\n",
    "                                namebasicsid VARCHAR(11),\n",
    "                                PRIMARY KEY (primaryprofessionid, namebasicsid),\n",
    "                                FOREIGN KEY (primaryprofessionid) REFERENCES primaryprofession(primaryprofessionid),\n",
    "                                FOREIGN KEY (namebasicsid) REFERENCES namebasics(nconst))\"\"\"\n",
    "    \n",
    "    create_table_knownfortitles = \"\"\"CREATE TABLE IF NOT EXISTS knownfortitles(\n",
    "                                namebasicsid VARCHAR(11),\n",
    "                                knownfortitle VARCHAR(11),\n",
    "                                PRIMARY KEY (namebasicsid, knownfortitle),\n",
    "                                FOREIGN KEY (namebasicsid) REFERENCES namebasics(nconst),\n",
    "                                FOREIGN KEY (knownfortitle) REFERENCES titlebasics(tconst))\"\"\"\n",
    "    \n",
    "    \n",
    "    conn = create_connection_nodb()\n",
    "    \n",
    "    # create database object if not already created and then connect the cursor to it\n",
    "    if conn is not None:\n",
    "        create_database(conn)\n",
    "        conn = create_connection()\n",
    "        \n",
    "        # create tables\n",
    "        if conn is not None:\n",
    "            \n",
    "            # create Title Basics table\n",
    "            create_table(conn, create_table_titlebasics)\n",
    "\n",
    "            # create Title Ratings table\n",
    "            create_table(conn, create_table_titleratings)\n",
    "            \n",
    "            # create title episodes table\n",
    "            create_table(conn, create_table_titleepisodes)\n",
    "            \n",
    "            # create name basics table\n",
    "            create_table(conn, create_table_namebasics)\n",
    "            \n",
    "            # create genres table\n",
    "            create_table(conn,create_table_genres)\n",
    "            \n",
    "            # create known for titles table\n",
    "            create_table(conn,create_table_knownfortitles)\n",
    "            \n",
    "            # create primary profession table\n",
    "            create_table(conn,create_table_primaryprofession)\n",
    "            \n",
    "            # create genre title basics table\n",
    "            create_table(conn, create_table_genretitlebasics)\n",
    "\n",
    "            # create Primary Profession Title Names table\n",
    "            create_table(conn, create_table_primaryprofessiontitlenames)\n",
    "            \n",
    "                \n",
    "        else:\n",
    "            print(\"Error! cannot create the database connection.\")\n",
    "    \n",
    "    else:\n",
    "        print(\"Error! Cannot create the MySQL connection.\")\n",
    "    \n",
    "    \n",
    "\n",
    "\n",
    "if __name__ == '__main__':\n",
    "    main()\n",
    "\n"
   ]
  },
  {
   "cell_type": "markdown",
   "metadata": {},
   "source": [
    "## SQL communication helper"
   ]
  },
  {
   "cell_type": "code",
   "execution_count": 9,
   "metadata": {},
   "outputs": [],
   "source": [
    "import sqlalchemy\n",
    "database_connection = sqlalchemy.create_engine('mysql+mysqlconnector://{0}:{1}@{2}/{3}'.\n",
    "                                               format(user_name, password, \n",
    "                                                      host_name, database))"
   ]
  },
  {
   "cell_type": "code",
   "execution_count": 10,
   "metadata": {},
   "outputs": [],
   "source": [
    "## Helper Functions"
   ]
  },
  {
   "cell_type": "code",
   "execution_count": 11,
   "metadata": {},
   "outputs": [],
   "source": [
    "def load_dataframe(data_frame,table_name):\n",
    "    data_frame_new=data_frame\n",
    "    \n",
    "    data_frame_new.to_sql(table_name,con=database_connection, if_exists='append',index=False)\n",
    "    \n",
    "    return \n",
    "\n",
    "def batch(iterable, n=1):\n",
    "    l = len(iterable)\n",
    "    for ndx in range(0, l, n):\n",
    "        yield iterable[ndx:min(ndx + n, l)]"
   ]
  },
  {
   "cell_type": "code",
   "execution_count": 12,
   "metadata": {},
   "outputs": [],
   "source": [
    "def preprocess_dataframe_parsing(data_frame, column_name, final_column_name):\n",
    "    \n",
    "    data_frame=data_frame.to_frame()\n",
    "    data_frame=data_frame.assign(name=data_frame[column_name].str.split(\",\"))\n",
    "    #type(x.iloc[0,1])\n",
    "    data_frame=data_frame.explode('name')\n",
    "    data_preprocessed_unique= pd.DataFrame(data_frame.name.unique())\n",
    "    data_preprocessed_unique_column_rename=data_preprocessed_unique.rename(columns={0:final_column_name})\n",
    "    \n",
    "    return data_preprocessed_unique_column_rename"
   ]
  },
  {
   "cell_type": "markdown",
   "metadata": {},
   "source": [
    "## Title Basics"
   ]
  },
  {
   "cell_type": "code",
   "execution_count": 44,
   "metadata": {},
   "outputs": [
    {
     "name": "stderr",
     "output_type": "stream",
     "text": [
      "/opt/anaconda3/lib/python3.8/site-packages/IPython/core/interactiveshell.py:3071: DtypeWarning: Columns (5) have mixed types.Specify dtype option on import or set low_memory=False.\n",
      "  has_raised = await self.run_ast_nodes(code_ast.body, cell_name,\n"
     ]
    }
   ],
   "source": [
    "# read title basic file\n",
    "title_basics = pd.read_csv('title.basics.tsv', delimiter='\\t',encoding='utf-8')"
   ]
  },
  {
   "cell_type": "code",
   "execution_count": 14,
   "metadata": {},
   "outputs": [
    {
     "name": "stdout",
     "output_type": "stream",
     "text": [
      "Note: NumExpr detected 12 cores but \"NUMEXPR_MAX_THREADS\" not set, so enforcing safe limit of 8.\n",
      "NumExpr defaulting to 8 threads.\n"
     ]
    }
   ],
   "source": [
    "def preprocess_dataframe_title_basics(data_frame):\n",
    "    title_basics_new_series=data_frame\n",
    "\n",
    "    b = pd.to_datetime(title_basics_new_series['runtimeMinutes'], errors='coerce', format='%M')\n",
    "\n",
    "    b.to_frame().runtimeMinutes\n",
    "    df_1 = pd.DataFrame(dict(time_stamps = b)) \n",
    "\n",
    "    df_1['runtimeMinutes'] = df_1['time_stamps'].dt.minute\n",
    "    title_basics_new_series=title_basics_new_series.drop(['runtimeMinutes'],axis=1)\n",
    "    title_basics_new_series['runtimeMinutes']=df_1['runtimeMinutes']\n",
    "    \n",
    "    title_basics_new_frame_transpose=title_basics_new_series.astype({'isAdult': 'int32'})\n",
    "    \n",
    "    title_basics_new_frame_transpose[\"isAdult\"]=title_basics_new_frame_transpose.isAdult.mask(title_basics_new_frame_transpose.isAdult > 1,1)\n",
    "\n",
    "    title_basics_new_frame_transpose['startYear']= pd.to_datetime(title_basics.startYear, errors='coerce', format='%Y')\n",
    "\n",
    "    \n",
    "    title_basics_new_frame_transpose['endYear']= pd.to_datetime(title_basics.endYear, errors='coerce', format='%Y')\n",
    "    title_basics_new_frame_transpose=title_basics_new_frame_transpose.drop(['genres'],axis=1)\n",
    "  \n",
    "\n",
    "    title_basics_new_frame_transpose_new=title_basics_new_frame_transpose.rename(columns={\"runtimeMinutes\": \"runTimeMinutes\"})\n",
    "\n",
    "    return title_basics_new_frame_transpose_new\n",
    "\n",
    "title_basics_preprocessed=preprocess_dataframe_title_basics(title_basics)"
   ]
  },
  {
   "cell_type": "code",
   "execution_count": 15,
   "metadata": {},
   "outputs": [
    {
     "name": "stderr",
     "output_type": "stream",
     "text": [
      "100%|██████████| 730/730 [03:54<00:00,  3.11it/s]\n"
     ]
    }
   ],
   "source": [
    "length = len(title_basics_preprocessed)//BATCH_SIZE+1\n",
    "\n",
    "for chunk in tqdm(batch(title_basics_preprocessed,BATCH_SIZE),total=length):\n",
    "    load_dataframe(chunk,'titlebasics')"
   ]
  },
  {
   "cell_type": "code",
   "execution_count": 223,
   "metadata": {},
   "outputs": [],
   "source": [
    "genres_preprocessed = preprocess_dataframe_parsing(title_basics.genres, \"genres\", \"genre\")\n",
    "genres_preprocessed.dropna(inplace=True)\n",
    "genres_preprocessed = genres_preprocessed[genres_preprocessed.genre != '\\\\N']"
   ]
  },
  {
   "cell_type": "code",
   "execution_count": 54,
   "metadata": {},
   "outputs": [
    {
     "name": "stderr",
     "output_type": "stream",
     "text": [
      "100%|██████████| 1/1 [00:00<00:00, 36.34it/s]\n"
     ]
    }
   ],
   "source": [
    "length = len(genres_preprocessed)//BATCH_SIZE+1\n",
    "\n",
    "for chunk in tqdm(batch(genres_preprocessed,BATCH_SIZE),total=length):\n",
    "    load_dataframe(chunk,'genres')"
   ]
  },
  {
   "cell_type": "code",
   "execution_count": 224,
   "metadata": {},
   "outputs": [],
   "source": [
    "# Create dictionary of genres with their id for mapping the genres in the association table\n",
    "conn = mysql.connector.connect(\n",
    "            host=host_name,\n",
    "            user=user_name,\n",
    "            passwd=password,\n",
    "            database=database\n",
    "        )\n",
    "c = conn.cursor()\n",
    "c.execute(\"SELECT * FROM genres\")\n",
    "records = c.fetchall()\n",
    "genre_dict = {}\n",
    "for row in records:\n",
    "    genre_dict.update({row[1]:row[0]})\n",
    "c.close()\n",
    "conn.close()"
   ]
  },
  {
   "cell_type": "code",
   "execution_count": 225,
   "metadata": {},
   "outputs": [],
   "source": [
    "def preprocess_dataframe__for_genres(data_frame):\n",
    "    df = data_frame\n",
    "    lst_col = 'genres'\n",
    "  \n",
    "    df = df.drop(['titleType'], axis=1)\n",
    "    df = df.drop(['primaryTitle'], axis=1)\n",
    "    df = df.drop(['originalTitle'], axis=1)\n",
    "    df=df.drop(['isAdult'], axis=1)\n",
    "    df=df.drop(['startYear'], axis=1)\n",
    "    df=df.drop(['endYear'], axis=1)\n",
    "    df=df.drop(['runtimeMinutes'],axis=1)\n",
    "    \n",
    "    x = df.assign(**{lst_col:df[lst_col].str.split(',')})\n",
    "    genres_df = x.explode('genres')\n",
    "\n",
    "    return genres_df\n",
    "\n",
    "df =  preprocess_dataframe__for_genres(title_basics)\n",
    "df = df[df.genres != '\\\\N']\n",
    "df = df.replace({\"genres\":genre_dict})\n",
    "df = df.rename(columns={\"tconst\" : \"titlebasicsID\", \"genres\" : \"genreID\"})"
   ]
  },
  {
   "cell_type": "code",
   "execution_count": 226,
   "metadata": {},
   "outputs": [
    {
     "data": {
      "text/html": [
       "<div>\n",
       "<style scoped>\n",
       "    .dataframe tbody tr th:only-of-type {\n",
       "        vertical-align: middle;\n",
       "    }\n",
       "\n",
       "    .dataframe tbody tr th {\n",
       "        vertical-align: top;\n",
       "    }\n",
       "\n",
       "    .dataframe thead th {\n",
       "        text-align: right;\n",
       "    }\n",
       "</style>\n",
       "<table border=\"1\" class=\"dataframe\">\n",
       "  <thead>\n",
       "    <tr style=\"text-align: right;\">\n",
       "      <th></th>\n",
       "      <th>titlebasicsID</th>\n",
       "      <th>genreID</th>\n",
       "    </tr>\n",
       "  </thead>\n",
       "  <tbody>\n",
       "    <tr>\n",
       "      <th>0</th>\n",
       "      <td>tt0000001</td>\n",
       "      <td>1.0</td>\n",
       "    </tr>\n",
       "    <tr>\n",
       "      <th>0</th>\n",
       "      <td>tt0000001</td>\n",
       "      <td>2.0</td>\n",
       "    </tr>\n",
       "    <tr>\n",
       "      <th>1</th>\n",
       "      <td>tt0000002</td>\n",
       "      <td>3.0</td>\n",
       "    </tr>\n",
       "    <tr>\n",
       "      <th>1</th>\n",
       "      <td>tt0000002</td>\n",
       "      <td>2.0</td>\n",
       "    </tr>\n",
       "    <tr>\n",
       "      <th>2</th>\n",
       "      <td>tt0000003</td>\n",
       "      <td>3.0</td>\n",
       "    </tr>\n",
       "    <tr>\n",
       "      <th>...</th>\n",
       "      <td>...</td>\n",
       "      <td>...</td>\n",
       "    </tr>\n",
       "    <tr>\n",
       "      <th>7292278</th>\n",
       "      <td>tt9916852</td>\n",
       "      <td>17.0</td>\n",
       "    </tr>\n",
       "    <tr>\n",
       "      <th>7292279</th>\n",
       "      <td>tt9916856</td>\n",
       "      <td>2.0</td>\n",
       "    </tr>\n",
       "    <tr>\n",
       "      <th>7292280</th>\n",
       "      <td>tt9916880</td>\n",
       "      <td>3.0</td>\n",
       "    </tr>\n",
       "    <tr>\n",
       "      <th>7292280</th>\n",
       "      <td>tt9916880</td>\n",
       "      <td>4.0</td>\n",
       "    </tr>\n",
       "    <tr>\n",
       "      <th>7292280</th>\n",
       "      <td>tt9916880</td>\n",
       "      <td>17.0</td>\n",
       "    </tr>\n",
       "  </tbody>\n",
       "</table>\n",
       "<p>11012290 rows × 2 columns</p>\n",
       "</div>"
      ],
      "text/plain": [
       "        titlebasicsID  genreID\n",
       "0           tt0000001      1.0\n",
       "0           tt0000001      2.0\n",
       "1           tt0000002      3.0\n",
       "1           tt0000002      2.0\n",
       "2           tt0000003      3.0\n",
       "...               ...      ...\n",
       "7292278     tt9916852     17.0\n",
       "7292279     tt9916856      2.0\n",
       "7292280     tt9916880      3.0\n",
       "7292280     tt9916880      4.0\n",
       "7292280     tt9916880     17.0\n",
       "\n",
       "[11012290 rows x 2 columns]"
      ]
     },
     "execution_count": 226,
     "metadata": {},
     "output_type": "execute_result"
    }
   ],
   "source": [
    "df"
   ]
  },
  {
   "cell_type": "code",
   "execution_count": 228,
   "metadata": {},
   "outputs": [],
   "source": [
    "df_new=df.dropna(inplace=True)"
   ]
  },
  {
   "cell_type": "code",
   "execution_count": 229,
   "metadata": {},
   "outputs": [
    {
     "name": "stderr",
     "output_type": "stream",
     "text": [
      "100%|██████████| 1102/1102 [04:15<00:00,  4.31it/s]\n"
     ]
    }
   ],
   "source": [
    "length = len(df_new)//BATCH_SIZE+1\n",
    "\n",
    "for chunk in tqdm(batch(df_new,BATCH_SIZE),total=length):\n",
    "    load_dataframe(chunk,'genretitlebasics')"
   ]
  },
  {
   "cell_type": "code",
   "execution_count": 21,
   "metadata": {},
   "outputs": [],
   "source": [
    "del df\n",
    "del title_basics\n",
    "del genres_preprocessed\n",
    "del genre_dict\n",
    "# title_basics_preprocessed is used later on so will not delete until after"
   ]
  },
  {
   "cell_type": "markdown",
   "metadata": {},
   "source": [
    "## Title ratings"
   ]
  },
  {
   "cell_type": "code",
   "execution_count": 344,
   "metadata": {},
   "outputs": [
    {
     "data": {
      "text/html": [
       "<div>\n",
       "<style scoped>\n",
       "    .dataframe tbody tr th:only-of-type {\n",
       "        vertical-align: middle;\n",
       "    }\n",
       "\n",
       "    .dataframe tbody tr th {\n",
       "        vertical-align: top;\n",
       "    }\n",
       "\n",
       "    .dataframe thead th {\n",
       "        text-align: right;\n",
       "    }\n",
       "</style>\n",
       "<table border=\"1\" class=\"dataframe\">\n",
       "  <thead>\n",
       "    <tr style=\"text-align: right;\">\n",
       "      <th></th>\n",
       "      <th>tconst</th>\n",
       "      <th>averageRating</th>\n",
       "      <th>numVotes</th>\n",
       "    </tr>\n",
       "  </thead>\n",
       "  <tbody>\n",
       "    <tr>\n",
       "      <th>0</th>\n",
       "      <td>tt0000001</td>\n",
       "      <td>5.6</td>\n",
       "      <td>1656</td>\n",
       "    </tr>\n",
       "    <tr>\n",
       "      <th>1</th>\n",
       "      <td>tt0000002</td>\n",
       "      <td>6.1</td>\n",
       "      <td>201</td>\n",
       "    </tr>\n",
       "    <tr>\n",
       "      <th>2</th>\n",
       "      <td>tt0000003</td>\n",
       "      <td>6.5</td>\n",
       "      <td>1369</td>\n",
       "    </tr>\n",
       "    <tr>\n",
       "      <th>3</th>\n",
       "      <td>tt0000004</td>\n",
       "      <td>6.2</td>\n",
       "      <td>122</td>\n",
       "    </tr>\n",
       "    <tr>\n",
       "      <th>4</th>\n",
       "      <td>tt0000005</td>\n",
       "      <td>6.2</td>\n",
       "      <td>2151</td>\n",
       "    </tr>\n",
       "    <tr>\n",
       "      <th>...</th>\n",
       "      <td>...</td>\n",
       "      <td>...</td>\n",
       "      <td>...</td>\n",
       "    </tr>\n",
       "    <tr>\n",
       "      <th>1086697</th>\n",
       "      <td>tt9916580</td>\n",
       "      <td>7.2</td>\n",
       "      <td>5</td>\n",
       "    </tr>\n",
       "    <tr>\n",
       "      <th>1086698</th>\n",
       "      <td>tt9916690</td>\n",
       "      <td>6.6</td>\n",
       "      <td>5</td>\n",
       "    </tr>\n",
       "    <tr>\n",
       "      <th>1086699</th>\n",
       "      <td>tt9916720</td>\n",
       "      <td>6.0</td>\n",
       "      <td>65</td>\n",
       "    </tr>\n",
       "    <tr>\n",
       "      <th>1086700</th>\n",
       "      <td>tt9916766</td>\n",
       "      <td>6.9</td>\n",
       "      <td>14</td>\n",
       "    </tr>\n",
       "    <tr>\n",
       "      <th>1086701</th>\n",
       "      <td>tt9916778</td>\n",
       "      <td>7.3</td>\n",
       "      <td>24</td>\n",
       "    </tr>\n",
       "  </tbody>\n",
       "</table>\n",
       "<p>1086702 rows × 3 columns</p>\n",
       "</div>"
      ],
      "text/plain": [
       "            tconst  averageRating  numVotes\n",
       "0        tt0000001            5.6      1656\n",
       "1        tt0000002            6.1       201\n",
       "2        tt0000003            6.5      1369\n",
       "3        tt0000004            6.2       122\n",
       "4        tt0000005            6.2      2151\n",
       "...            ...            ...       ...\n",
       "1086697  tt9916580            7.2         5\n",
       "1086698  tt9916690            6.6         5\n",
       "1086699  tt9916720            6.0        65\n",
       "1086700  tt9916766            6.9        14\n",
       "1086701  tt9916778            7.3        24\n",
       "\n",
       "[1086702 rows x 3 columns]"
      ]
     },
     "execution_count": 344,
     "metadata": {},
     "output_type": "execute_result"
    }
   ],
   "source": [
    "# read data from title ratings file\n",
    "title_ratings = pd.read_csv('title.ratings.tsv', delimiter='\\t',encoding='utf-8')\n",
    "title_ratings"
   ]
  },
  {
   "cell_type": "code",
   "execution_count": 345,
   "metadata": {},
   "outputs": [],
   "source": [
    "def preprocess_dataframe_title_ratings(data_frame):\n",
    "    title_ratings_new_series=data_frame\n",
    "    \n",
    "    title_ratings_new_frame_avg_rating= title_ratings_new_series.astype({'averageRating': 'float'})\n",
    "    title_ratings_new_frame_avg_rating= title_ratings_new_series.astype({'numVotes': 'int32'})\n",
    "    #title_ratings_preprocessed.tconst = title_ratings_preprocessed.tconst.mask(~title_ratings_preprocessed.tconst.isin(title_basics_preprocessed.tconst),None)\n",
    "    return title_ratings_new_frame_avg_rating\n",
    "\n",
    "title_ratings_preprocessed=preprocess_dataframe_title_ratings(title_ratings)"
   ]
  },
  {
   "cell_type": "code",
   "execution_count": 347,
   "metadata": {},
   "outputs": [
    {
     "name": "stderr",
     "output_type": "stream",
     "text": [
      "100%|██████████| 109/109 [00:47<00:00,  2.30it/s]\n"
     ]
    }
   ],
   "source": [
    "length = len(title_ratings_preprocessed)//BATCH_SIZE+1\n",
    "\n",
    "for chunk in tqdm(batch(title_ratings_preprocessed,BATCH_SIZE),total=length):\n",
    "    load_dataframe(chunk,'titleratings')"
   ]
  },
  {
   "cell_type": "code",
   "execution_count": 24,
   "metadata": {},
   "outputs": [],
   "source": [
    "# delete now unrequired tables to free memory\n",
    "del title_ratings\n",
    "del title_ratings_preprocessed"
   ]
  },
  {
   "cell_type": "markdown",
   "metadata": {},
   "source": [
    "## Title Episodes\n"
   ]
  },
  {
   "cell_type": "code",
   "execution_count": 25,
   "metadata": {},
   "outputs": [
    {
     "data": {
      "text/html": [
       "<div>\n",
       "<style scoped>\n",
       "    .dataframe tbody tr th:only-of-type {\n",
       "        vertical-align: middle;\n",
       "    }\n",
       "\n",
       "    .dataframe tbody tr th {\n",
       "        vertical-align: top;\n",
       "    }\n",
       "\n",
       "    .dataframe thead th {\n",
       "        text-align: right;\n",
       "    }\n",
       "</style>\n",
       "<table border=\"1\" class=\"dataframe\">\n",
       "  <thead>\n",
       "    <tr style=\"text-align: right;\">\n",
       "      <th></th>\n",
       "      <th>tconst</th>\n",
       "      <th>parentTconst</th>\n",
       "      <th>seasonNumber</th>\n",
       "      <th>episodeNumber</th>\n",
       "    </tr>\n",
       "  </thead>\n",
       "  <tbody>\n",
       "    <tr>\n",
       "      <th>0</th>\n",
       "      <td>tt0041951</td>\n",
       "      <td>tt0041038</td>\n",
       "      <td>1</td>\n",
       "      <td>9</td>\n",
       "    </tr>\n",
       "    <tr>\n",
       "      <th>1</th>\n",
       "      <td>tt0042816</td>\n",
       "      <td>tt0989125</td>\n",
       "      <td>1</td>\n",
       "      <td>17</td>\n",
       "    </tr>\n",
       "    <tr>\n",
       "      <th>2</th>\n",
       "      <td>tt0042889</td>\n",
       "      <td>tt0989125</td>\n",
       "      <td>\\N</td>\n",
       "      <td>\\N</td>\n",
       "    </tr>\n",
       "    <tr>\n",
       "      <th>3</th>\n",
       "      <td>tt0043426</td>\n",
       "      <td>tt0040051</td>\n",
       "      <td>3</td>\n",
       "      <td>42</td>\n",
       "    </tr>\n",
       "    <tr>\n",
       "      <th>4</th>\n",
       "      <td>tt0043631</td>\n",
       "      <td>tt0989125</td>\n",
       "      <td>2</td>\n",
       "      <td>16</td>\n",
       "    </tr>\n",
       "    <tr>\n",
       "      <th>...</th>\n",
       "      <td>...</td>\n",
       "      <td>...</td>\n",
       "      <td>...</td>\n",
       "      <td>...</td>\n",
       "    </tr>\n",
       "    <tr>\n",
       "      <th>5252722</th>\n",
       "      <td>tt9916846</td>\n",
       "      <td>tt1289683</td>\n",
       "      <td>3</td>\n",
       "      <td>18</td>\n",
       "    </tr>\n",
       "    <tr>\n",
       "      <th>5252723</th>\n",
       "      <td>tt9916848</td>\n",
       "      <td>tt1289683</td>\n",
       "      <td>3</td>\n",
       "      <td>17</td>\n",
       "    </tr>\n",
       "    <tr>\n",
       "      <th>5252724</th>\n",
       "      <td>tt9916850</td>\n",
       "      <td>tt1289683</td>\n",
       "      <td>3</td>\n",
       "      <td>19</td>\n",
       "    </tr>\n",
       "    <tr>\n",
       "      <th>5252725</th>\n",
       "      <td>tt9916852</td>\n",
       "      <td>tt1289683</td>\n",
       "      <td>3</td>\n",
       "      <td>20</td>\n",
       "    </tr>\n",
       "    <tr>\n",
       "      <th>5252726</th>\n",
       "      <td>tt9916880</td>\n",
       "      <td>tt0985991</td>\n",
       "      <td>4</td>\n",
       "      <td>2</td>\n",
       "    </tr>\n",
       "  </tbody>\n",
       "</table>\n",
       "<p>5252727 rows × 4 columns</p>\n",
       "</div>"
      ],
      "text/plain": [
       "            tconst parentTconst seasonNumber episodeNumber\n",
       "0        tt0041951    tt0041038            1             9\n",
       "1        tt0042816    tt0989125            1            17\n",
       "2        tt0042889    tt0989125           \\N            \\N\n",
       "3        tt0043426    tt0040051            3            42\n",
       "4        tt0043631    tt0989125            2            16\n",
       "...            ...          ...          ...           ...\n",
       "5252722  tt9916846    tt1289683            3            18\n",
       "5252723  tt9916848    tt1289683            3            17\n",
       "5252724  tt9916850    tt1289683            3            19\n",
       "5252725  tt9916852    tt1289683            3            20\n",
       "5252726  tt9916880    tt0985991            4             2\n",
       "\n",
       "[5252727 rows x 4 columns]"
      ]
     },
     "execution_count": 25,
     "metadata": {},
     "output_type": "execute_result"
    }
   ],
   "source": [
    "# read title episodes data\n",
    "title_episodes = pd.read_csv('title.episode.tsv', delimiter='\\t',encoding='utf-8')\n",
    "title_episodes"
   ]
  },
  {
   "cell_type": "code",
   "execution_count": 26,
   "metadata": {},
   "outputs": [],
   "source": [
    "def preprocess_dataframe_title_episodes(data_frame):\n",
    "    title_episodes_new_series=data_frame\n",
    "    title_episodes_coerce_seasonNum = pd.to_numeric(title_episodes_new_series['seasonNumber'], errors='coerce')\n",
    "    title_episodes_coerce_episodeNum = pd.to_numeric(title_episodes_new_series['episodeNumber'], errors='coerce')\n",
    "\n",
    "    df_1 = pd.DataFrame(dict(test_column_1 = title_episodes_coerce_seasonNum)) \n",
    "    df_2 = pd.DataFrame(dict(test_column_2 = title_episodes_coerce_episodeNum)) \n",
    "\n",
    "    df_1['seasonNumber'] = df_1['test_column_1']\n",
    "    df_2['episodeNumber'] = df_2['test_column_2']\n",
    "    \n",
    "    title_episodes_new_frame=title_episodes_new_series.drop(['seasonNumber'],axis=1)\n",
    "    title_episodes_new_frame=title_episodes_new_series.drop(['episodeNumber'],axis=1)\n",
    "    \n",
    "    title_episodes_new_frame['seasonNumber']=df_1['seasonNumber']\n",
    "    title_episodes_new_frame['episodeNumber']=df_2['episodeNumber']\n",
    "    return title_episodes_new_frame\n",
    "\n",
    "title_episodes_preprocessed = preprocess_dataframe_title_episodes(title_episodes)\n",
    "\n",
    "# removes any episodes that do not have a corresponding key in title basics table \n",
    "title_episodes_preprocessed=title_episodes_preprocessed[\n",
    "    title_episodes_preprocessed.parentTconst.isin(title_basics_preprocessed.tconst)]"
   ]
  },
  {
   "cell_type": "code",
   "execution_count": 27,
   "metadata": {},
   "outputs": [
    {
     "name": "stderr",
     "output_type": "stream",
     "text": [
      "100%|██████████| 526/526 [03:42<00:00,  2.36it/s]\n"
     ]
    }
   ],
   "source": [
    "# load dataframe into corresponding SQL table\n",
    "length = len(title_episodes_preprocessed)//BATCH_SIZE+1\n",
    "\n",
    "for chunk in tqdm(batch(title_episodes_preprocessed,BATCH_SIZE),total=length):\n",
    "    load_dataframe(chunk,'titleepisodes')"
   ]
  },
  {
   "cell_type": "code",
   "execution_count": 28,
   "metadata": {},
   "outputs": [],
   "source": [
    "del title_episodes_preprocessed\n",
    "del title_episodes"
   ]
  },
  {
   "cell_type": "markdown",
   "metadata": {},
   "source": [
    "## Name Basics"
   ]
  },
  {
   "cell_type": "code",
   "execution_count": 70,
   "metadata": {},
   "outputs": [
    {
     "data": {
      "text/html": [
       "<div>\n",
       "<style scoped>\n",
       "    .dataframe tbody tr th:only-of-type {\n",
       "        vertical-align: middle;\n",
       "    }\n",
       "\n",
       "    .dataframe tbody tr th {\n",
       "        vertical-align: top;\n",
       "    }\n",
       "\n",
       "    .dataframe thead th {\n",
       "        text-align: right;\n",
       "    }\n",
       "</style>\n",
       "<table border=\"1\" class=\"dataframe\">\n",
       "  <thead>\n",
       "    <tr style=\"text-align: right;\">\n",
       "      <th></th>\n",
       "      <th>nconst</th>\n",
       "      <th>primaryName</th>\n",
       "      <th>birthYear</th>\n",
       "      <th>deathYear</th>\n",
       "      <th>primaryProfession</th>\n",
       "      <th>knownForTitles</th>\n",
       "    </tr>\n",
       "  </thead>\n",
       "  <tbody>\n",
       "    <tr>\n",
       "      <th>0</th>\n",
       "      <td>nm0000001</td>\n",
       "      <td>Fred Astaire</td>\n",
       "      <td>1899</td>\n",
       "      <td>1987</td>\n",
       "      <td>soundtrack,actor,miscellaneous</td>\n",
       "      <td>tt0031983,tt0072308,tt0053137,tt0050419</td>\n",
       "    </tr>\n",
       "    <tr>\n",
       "      <th>1</th>\n",
       "      <td>nm0000002</td>\n",
       "      <td>Lauren Bacall</td>\n",
       "      <td>1924</td>\n",
       "      <td>2014</td>\n",
       "      <td>actress,soundtrack</td>\n",
       "      <td>tt0037382,tt0117057,tt0038355,tt0071877</td>\n",
       "    </tr>\n",
       "    <tr>\n",
       "      <th>2</th>\n",
       "      <td>nm0000003</td>\n",
       "      <td>Brigitte Bardot</td>\n",
       "      <td>1934</td>\n",
       "      <td>\\N</td>\n",
       "      <td>actress,soundtrack,music_department</td>\n",
       "      <td>tt0049189,tt0054452,tt0059956,tt0057345</td>\n",
       "    </tr>\n",
       "    <tr>\n",
       "      <th>3</th>\n",
       "      <td>nm0000004</td>\n",
       "      <td>John Belushi</td>\n",
       "      <td>1949</td>\n",
       "      <td>1982</td>\n",
       "      <td>actor,soundtrack,writer</td>\n",
       "      <td>tt0078723,tt0072562,tt0080455,tt0077975</td>\n",
       "    </tr>\n",
       "    <tr>\n",
       "      <th>4</th>\n",
       "      <td>nm0000005</td>\n",
       "      <td>Ingmar Bergman</td>\n",
       "      <td>1918</td>\n",
       "      <td>2007</td>\n",
       "      <td>writer,director,actor</td>\n",
       "      <td>tt0060827,tt0050976,tt0083922,tt0050986</td>\n",
       "    </tr>\n",
       "    <tr>\n",
       "      <th>...</th>\n",
       "      <td>...</td>\n",
       "      <td>...</td>\n",
       "      <td>...</td>\n",
       "      <td>...</td>\n",
       "      <td>...</td>\n",
       "      <td>...</td>\n",
       "    </tr>\n",
       "    <tr>\n",
       "      <th>10464396</th>\n",
       "      <td>nm9993714</td>\n",
       "      <td>Romeo del Rosario</td>\n",
       "      <td>\\N</td>\n",
       "      <td>\\N</td>\n",
       "      <td>animation_department,art_department</td>\n",
       "      <td>tt2455546</td>\n",
       "    </tr>\n",
       "    <tr>\n",
       "      <th>10464397</th>\n",
       "      <td>nm9993716</td>\n",
       "      <td>Essias Loberg</td>\n",
       "      <td>\\N</td>\n",
       "      <td>\\N</td>\n",
       "      <td>NaN</td>\n",
       "      <td>\\N</td>\n",
       "    </tr>\n",
       "    <tr>\n",
       "      <th>10464398</th>\n",
       "      <td>nm9993717</td>\n",
       "      <td>Harikrishnan Rajan</td>\n",
       "      <td>\\N</td>\n",
       "      <td>\\N</td>\n",
       "      <td>cinematographer</td>\n",
       "      <td>tt8736744</td>\n",
       "    </tr>\n",
       "    <tr>\n",
       "      <th>10464399</th>\n",
       "      <td>nm9993718</td>\n",
       "      <td>Aayush Nair</td>\n",
       "      <td>\\N</td>\n",
       "      <td>\\N</td>\n",
       "      <td>cinematographer</td>\n",
       "      <td>\\N</td>\n",
       "    </tr>\n",
       "    <tr>\n",
       "      <th>10464400</th>\n",
       "      <td>nm9993719</td>\n",
       "      <td>Andre Hill</td>\n",
       "      <td>\\N</td>\n",
       "      <td>\\N</td>\n",
       "      <td>NaN</td>\n",
       "      <td>\\N</td>\n",
       "    </tr>\n",
       "  </tbody>\n",
       "</table>\n",
       "<p>10464401 rows × 6 columns</p>\n",
       "</div>"
      ],
      "text/plain": [
       "             nconst         primaryName birthYear deathYear  \\\n",
       "0         nm0000001        Fred Astaire      1899      1987   \n",
       "1         nm0000002       Lauren Bacall      1924      2014   \n",
       "2         nm0000003     Brigitte Bardot      1934        \\N   \n",
       "3         nm0000004        John Belushi      1949      1982   \n",
       "4         nm0000005      Ingmar Bergman      1918      2007   \n",
       "...             ...                 ...       ...       ...   \n",
       "10464396  nm9993714   Romeo del Rosario        \\N        \\N   \n",
       "10464397  nm9993716       Essias Loberg        \\N        \\N   \n",
       "10464398  nm9993717  Harikrishnan Rajan        \\N        \\N   \n",
       "10464399  nm9993718         Aayush Nair        \\N        \\N   \n",
       "10464400  nm9993719          Andre Hill        \\N        \\N   \n",
       "\n",
       "                            primaryProfession  \\\n",
       "0              soundtrack,actor,miscellaneous   \n",
       "1                          actress,soundtrack   \n",
       "2         actress,soundtrack,music_department   \n",
       "3                     actor,soundtrack,writer   \n",
       "4                       writer,director,actor   \n",
       "...                                       ...   \n",
       "10464396  animation_department,art_department   \n",
       "10464397                                  NaN   \n",
       "10464398                      cinematographer   \n",
       "10464399                      cinematographer   \n",
       "10464400                                  NaN   \n",
       "\n",
       "                                   knownForTitles  \n",
       "0         tt0031983,tt0072308,tt0053137,tt0050419  \n",
       "1         tt0037382,tt0117057,tt0038355,tt0071877  \n",
       "2         tt0049189,tt0054452,tt0059956,tt0057345  \n",
       "3         tt0078723,tt0072562,tt0080455,tt0077975  \n",
       "4         tt0060827,tt0050976,tt0083922,tt0050986  \n",
       "...                                           ...  \n",
       "10464396                                tt2455546  \n",
       "10464397                                       \\N  \n",
       "10464398                                tt8736744  \n",
       "10464399                                       \\N  \n",
       "10464400                                       \\N  \n",
       "\n",
       "[10464401 rows x 6 columns]"
      ]
     },
     "execution_count": 70,
     "metadata": {},
     "output_type": "execute_result"
    }
   ],
   "source": [
    "name_basics = pd.read_csv('name.basics.tsv', delimiter='\\t',encoding='utf-8')\n",
    "name_basics"
   ]
  },
  {
   "cell_type": "code",
   "execution_count": 30,
   "metadata": {},
   "outputs": [],
   "source": [
    "def preprocess_dataframe_name_basics(data_frame):\n",
    "    name_basics_new_series=data_frame\n",
    "    name_basics_new_series=name_basics_new_series.drop(['primaryProfession', 'knownForTitles'],axis=1)\n",
    "    \n",
    "    name_basics_new_series['birthYear']= pd.to_datetime(name_basics_new_series.birthYear, errors='coerce', format='%Y')\n",
    "\n",
    "    \n",
    "    name_basics_new_series['deathYear']= pd.to_datetime(name_basics_new_series.deathYear, errors='coerce', format='%Y')\n",
    "    \n",
    "    return name_basics_new_series\n",
    "\n",
    "name_basics_preprocessed = preprocess_dataframe_name_basics(name_basics)\n",
    "\n",
    "name_basics_preprocessed[\"noofmovies\"] = \"\"\n",
    "name_basics_preprocessed[\"age\"] = \"\"\n",
    "\n",
    "name_basics_preprocessed_new= pd.to_numeric(name_basics_preprocessed['noofmovies'], errors='coerce')\n",
    "name_basics_preprocessed_new = pd.to_numeric(name_basics_preprocessed['age'], errors='coerce')\n",
    "\n",
    "df_1 = pd.DataFrame(dict(test_column_1 = name_basics_preprocessed_new)) \n",
    "df_2 = pd.DataFrame(dict(test_column_2 = name_basics_preprocessed_new)) \n",
    "\n",
    "df_1['noofmovies'] = df_1['test_column_1']\n",
    "df_2['age'] = df_2['test_column_2']\n",
    "\n",
    "name_basics_preprocessed['noofmovies']=df_1['noofmovies']\n",
    "name_basics_preprocessed['age']=df_2['age']\n",
    "\n",
    "del df_1\n",
    "del df_2"
   ]
  },
  {
   "cell_type": "code",
   "execution_count": 31,
   "metadata": {},
   "outputs": [
    {
     "name": "stderr",
     "output_type": "stream",
     "text": [
      "100%|██████████| 1047/1047 [04:16<00:00,  4.09it/s]\n"
     ]
    }
   ],
   "source": [
    "# load dataframe into corresponding SQL table\n",
    "length = len(name_basics_preprocessed)//BATCH_SIZE+1\n",
    "\n",
    "for chunk in tqdm(batch(name_basics_preprocessed,BATCH_SIZE),total=length):\n",
    "    load_dataframe(chunk,'namebasics')"
   ]
  },
  {
   "cell_type": "code",
   "execution_count": 86,
   "metadata": {},
   "outputs": [],
   "source": [
    "profession_preprocessed=preprocess_dataframe_parsing(name_basics.primaryProfession, \"primaryProfession\", \"profession\")\n",
    "profession_preprocessed.dropna(inplace=True)"
   ]
  },
  {
   "cell_type": "code",
   "execution_count": 33,
   "metadata": {},
   "outputs": [
    {
     "name": "stderr",
     "output_type": "stream",
     "text": [
      "100%|██████████| 1/1 [00:00<00:00,  9.48it/s]\n"
     ]
    }
   ],
   "source": [
    "# load dataframe into corresponding SQL table\n",
    "length = len(profession_preprocessed)//BATCH_SIZE+1\n",
    "\n",
    "for chunk in tqdm(batch(profession_preprocessed,BATCH_SIZE),total=length):\n",
    "    load_dataframe(profession_preprocessed,'primaryprofession')"
   ]
  },
  {
   "cell_type": "code",
   "execution_count": 34,
   "metadata": {},
   "outputs": [],
   "source": [
    "# Create dictionary of professions with their id for mapping the professions in the association table\n",
    "conn = mysql.connector.connect(\n",
    "            host=host_name,\n",
    "            user=user_name,\n",
    "            passwd=password,\n",
    "            database=database\n",
    "        )\n",
    "c = conn.cursor()\n",
    "c.execute(\"SELECT * FROM primaryprofession\")\n",
    "records = c.fetchall()\n",
    "prof_dict = {}\n",
    "for row in records:\n",
    "    prof_dict.update({row[1]:row[0]})\n",
    "c.close()\n",
    "conn.close()"
   ]
  },
  {
   "cell_type": "code",
   "execution_count": 35,
   "metadata": {},
   "outputs": [],
   "source": [
    "def preprocess_dataframe_for_primaryprof(data_frame):\n",
    "    df = data_frame\n",
    "    lst_col = 'primaryProfession'\n",
    "  \n",
    "    df = df.drop(['primaryName'], axis=1)\n",
    "    df = df.drop(['birthYear'], axis=1)\n",
    "    df = df.drop(['deathYear'], axis=1)\n",
    "    df=df.drop(['knownForTitles'], axis=1)\n",
    "\n",
    "    \n",
    "    x = df.assign(**{lst_col:df[lst_col].str.split(',')})\n",
    "    primaryprof_df = x.explode('primaryProfession')\n",
    "\n",
    "    return primaryprof_df\n",
    "\n",
    "df =  preprocess_dataframe_for_primaryprof(name_basics)\n",
    "\n",
    "df=df[df.primaryProfession.isin(profession_preprocessed.profession)]\n",
    "df.dropna(inplace=True)\n",
    "df = df.replace({\"primaryProfession\":prof_dict})\n",
    "# delete dictionary because no longer needed\n",
    "del prof_dict\n",
    "# rename columns to match the SQL variables for loading\n",
    "df = df.rename(columns={\"nconst\" : \"namebasicsID\", \"primaryProfession\" : \"primaryprofessionID\"})"
   ]
  },
  {
   "cell_type": "code",
   "execution_count": 36,
   "metadata": {},
   "outputs": [
    {
     "name": "stderr",
     "output_type": "stream",
     "text": [
      "100%|██████████| 1143/1143 [05:57<00:00,  3.20it/s]\n"
     ]
    }
   ],
   "source": [
    "# load dataframe into corresponding SQL table\n",
    "length = len(df)//BATCH_SIZE+1\n",
    "\n",
    "for chunk in tqdm(batch(df,BATCH_SIZE),total=length):\n",
    "    load_dataframe(chunk,'primaryprofessiontitlenames')"
   ]
  },
  {
   "cell_type": "code",
   "execution_count": 37,
   "metadata": {},
   "outputs": [],
   "source": [
    "def preprocess_dataframe_for_knownfortitles(data_frame):\n",
    "    df = data_frame\n",
    "    lst_col = 'knownForTitles'\n",
    "  \n",
    "    df = df.drop(['primaryName'], axis=1)\n",
    "    df = df.drop(['birthYear'], axis=1)\n",
    "    df = df.drop(['deathYear'], axis=1)\n",
    "    df=df.drop(['primaryProfession'], axis=1)\n",
    "    \n",
    "    x = df.assign(**{lst_col:df[lst_col].str.split(',')})\n",
    "    kft_df = pd.DataFrame({\n",
    "                      col:np.repeat(x[col].values, x[lst_col].str.len())\n",
    "                      for col in x.columns.difference([lst_col])\n",
    "                      }).assign(**{lst_col:np.concatenate(x[lst_col].values)})[x.columns.tolist()]\n",
    "\n",
    "    return kft_df\n",
    "\n",
    "kft_df =  preprocess_dataframe_for_knownfortitles(name_basics)\n",
    "\n",
    "\n",
    "kft_df = kft_df[kft_df.knownForTitles != '\\\\N']\n",
    "kft_df=kft_df[kft_df.knownForTitles.isin(title_basics_preprocessed.tconst)]\n",
    "kft_df = kft_df.rename(columns={\"nconst\" : \"namebasicsID\", \"knownForTitles\" : \"knownfortitle\"})"
   ]
  },
  {
   "cell_type": "code",
   "execution_count": 38,
   "metadata": {},
   "outputs": [
    {
     "name": "stderr",
     "output_type": "stream",
     "text": [
      "100%|██████████| 1643/1643 [17:48<00:00,  1.54it/s]\n"
     ]
    }
   ],
   "source": [
    "# load dataframe into corresponding SQL table\n",
    "length = len(kft_df)//BATCH_SIZE+1\n",
    "\n",
    "for chunk in tqdm(batch(kft_df,BATCH_SIZE),total=length):\n",
    "    load_dataframe(chunk,'knownfortitles')"
   ]
  },
  {
   "cell_type": "code",
   "execution_count": 39,
   "metadata": {},
   "outputs": [],
   "source": [
    "# delete all dataframes out of memory since all information is now in SQL DB Tables\n",
    "del kft_df\n",
    "del df\n",
    "del name_basics_preprocessed\n",
    "#del profession_preprocessed\n",
    "#del name_basics\n",
    "del title_basics_preprocessed"
   ]
  },
  {
   "cell_type": "markdown",
   "metadata": {},
   "source": [
    "## Question 5"
   ]
  },
  {
   "cell_type": "code",
   "execution_count": 40,
   "metadata": {},
   "outputs": [
    {
     "ename": "TypeError",
     "evalue": "create_connection() takes 0 positional arguments but 4 were given",
     "output_type": "error",
     "traceback": [
      "\u001b[0;31m---------------------------------------------------------------------------\u001b[0m",
      "\u001b[0;31mTypeError\u001b[0m                                 Traceback (most recent call last)",
      "\u001b[0;32m<ipython-input-40-102483ed7800>\u001b[0m in \u001b[0;36m<module>\u001b[0;34m\u001b[0m\n\u001b[0;32m----> 1\u001b[0;31m \u001b[0mconn\u001b[0m \u001b[0;34m=\u001b[0m \u001b[0mcreate_connection\u001b[0m\u001b[0;34m(\u001b[0m\u001b[0;34m\"localhost\"\u001b[0m\u001b[0;34m,\u001b[0m \u001b[0;34m\"root\"\u001b[0m\u001b[0;34m,\u001b[0m \u001b[0;34m\"new_password\"\u001b[0m\u001b[0;34m,\u001b[0m \u001b[0;34m\"testing_rebecca\"\u001b[0m\u001b[0;34m)\u001b[0m\u001b[0;34m\u001b[0m\u001b[0;34m\u001b[0m\u001b[0m\n\u001b[0m\u001b[1;32m      2\u001b[0m \u001b[0mc\u001b[0m \u001b[0;34m=\u001b[0m \u001b[0mconn\u001b[0m\u001b[0;34m.\u001b[0m\u001b[0mcursor\u001b[0m\u001b[0;34m(\u001b[0m\u001b[0;34m)\u001b[0m\u001b[0;34m\u001b[0m\u001b[0;34m\u001b[0m\u001b[0m\n\u001b[1;32m      3\u001b[0m \u001b[0;34m\u001b[0m\u001b[0m\n\u001b[1;32m      4\u001b[0m operation = \"\"\"SELECT COUNT(KT.knownfortitle)\n\u001b[1;32m      5\u001b[0m                 \u001b[0mFROM\u001b[0m \u001b[0mknownforTitles\u001b[0m \u001b[0mAS\u001b[0m \u001b[0mKT\u001b[0m\u001b[0;34m\u001b[0m\u001b[0;34m\u001b[0m\u001b[0m\n",
      "\u001b[0;31mTypeError\u001b[0m: create_connection() takes 0 positional arguments but 4 were given"
     ]
    }
   ],
   "source": [
    "conn = create_connection(\"localhost\", \"root\", \"new_password\", \"imdb\")\n",
    "c = conn.cursor()\n",
    "\n",
    "operation = \"\"\"SELECT COUNT(KT.knownfortitle)\n",
    "                FROM knownforTitles AS KT \n",
    "                WHERE KT.knownfortitle IN (SELECT tconst\n",
    "                                            FROM titlebasics AS TB \n",
    "                                            WHERE TB.titletype = 'Movie')\n",
    "                GROUP BY namebasicsID\n",
    "                LIMIT 5\"\"\"\n",
    "\n",
    "for result in c.execute(operation, multi=True):\n",
    "    if result.with_rows:\n",
    "        print(\"Rows produced by statement '{}':\".format(\n",
    "          result.statement))\n",
    "        print(result.fetchall())\n",
    "    else:\n",
    "        print(\"Number of rows affected by statement '{}': {}\".format(\n",
    "          result.statement, result.rowcount))\n"
   ]
  },
  {
   "cell_type": "code",
   "execution_count": null,
   "metadata": {},
   "outputs": [],
   "source": []
  },
  {
   "cell_type": "markdown",
   "metadata": {},
   "source": [
    "## Question 6"
   ]
  },
  {
   "cell_type": "code",
   "execution_count": null,
   "metadata": {},
   "outputs": [],
   "source": []
  },
  {
   "cell_type": "markdown",
   "metadata": {},
   "source": [
    "## Question 7 "
   ]
  },
  {
   "cell_type": "markdown",
   "metadata": {},
   "source": [
    "#### RUN ONLY ONCE. WILL FAIL ON SECOND ATTEMPT. CANNOT CREATE THE SAME VIEW TWICE"
   ]
  },
  {
   "cell_type": "code",
   "execution_count": 348,
   "metadata": {},
   "outputs": [],
   "source": [
    "with database_connection.connect() as con:\n",
    "\n",
    "    \n",
    "        rs = con.execute(\"\"\"CREATE VIEW new_view AS SELECT primaryname,CASE WHEN deathyear IS NOT NULL\n",
    "                        THEN TRUE ELSE FALSE END AS isalive,age,noofmovies FROM namebasics n\n",
    "                        Inner Join primaryprofessiontitlenames pptn on n.nconst=pptn.namebasicsid \n",
    "                        Inner Join primaryprofession pp on pptn.primaryprofessionid=pp.primaryprofessionID \n",
    "                        WHERE pp.profession=\"actress\" or pp.profession=\"actor\";\"\"\")\n",
    "        con.close()\n",
    "\n",
    "    "
   ]
  },
  {
   "cell_type": "markdown",
   "metadata": {},
   "source": [
    "## Alive: 1 Dead: 0"
   ]
  },
  {
   "cell_type": "code",
   "execution_count": 349,
   "metadata": {},
   "outputs": [],
   "source": [
    "with database_connection.connect() as con:\n",
    "        \n",
    "    alive_or_dead_list = pd.read_sql('SELECT * from new_view', database_connection.connect())"
   ]
  },
  {
   "cell_type": "code",
   "execution_count": 350,
   "metadata": {},
   "outputs": [
    {
     "data": {
      "text/html": [
       "<div>\n",
       "<style scoped>\n",
       "    .dataframe tbody tr th:only-of-type {\n",
       "        vertical-align: middle;\n",
       "    }\n",
       "\n",
       "    .dataframe tbody tr th {\n",
       "        vertical-align: top;\n",
       "    }\n",
       "\n",
       "    .dataframe thead th {\n",
       "        text-align: right;\n",
       "    }\n",
       "</style>\n",
       "<table border=\"1\" class=\"dataframe\">\n",
       "  <thead>\n",
       "    <tr style=\"text-align: right;\">\n",
       "      <th></th>\n",
       "      <th>primaryname</th>\n",
       "      <th>isalive</th>\n",
       "      <th>age</th>\n",
       "      <th>noofmovies</th>\n",
       "    </tr>\n",
       "  </thead>\n",
       "  <tbody>\n",
       "    <tr>\n",
       "      <th>0</th>\n",
       "      <td>Fred Astaire</td>\n",
       "      <td>1</td>\n",
       "      <td>121.0</td>\n",
       "      <td>None</td>\n",
       "    </tr>\n",
       "    <tr>\n",
       "      <th>1</th>\n",
       "      <td>John Belushi</td>\n",
       "      <td>1</td>\n",
       "      <td>71.0</td>\n",
       "      <td>None</td>\n",
       "    </tr>\n",
       "    <tr>\n",
       "      <th>2</th>\n",
       "      <td>Ingmar Bergman</td>\n",
       "      <td>1</td>\n",
       "      <td>102.0</td>\n",
       "      <td>None</td>\n",
       "    </tr>\n",
       "    <tr>\n",
       "      <th>3</th>\n",
       "      <td>Humphrey Bogart</td>\n",
       "      <td>1</td>\n",
       "      <td>121.0</td>\n",
       "      <td>None</td>\n",
       "    </tr>\n",
       "    <tr>\n",
       "      <th>4</th>\n",
       "      <td>Marlon Brando</td>\n",
       "      <td>1</td>\n",
       "      <td>96.0</td>\n",
       "      <td>None</td>\n",
       "    </tr>\n",
       "    <tr>\n",
       "      <th>...</th>\n",
       "      <td>...</td>\n",
       "      <td>...</td>\n",
       "      <td>...</td>\n",
       "      <td>...</td>\n",
       "    </tr>\n",
       "    <tr>\n",
       "      <th>3875455</th>\n",
       "      <td>Cheryl Clark</td>\n",
       "      <td>0</td>\n",
       "      <td>NaN</td>\n",
       "      <td>None</td>\n",
       "    </tr>\n",
       "    <tr>\n",
       "      <th>3875456</th>\n",
       "      <td>Yukari Funaki</td>\n",
       "      <td>0</td>\n",
       "      <td>NaN</td>\n",
       "      <td>None</td>\n",
       "    </tr>\n",
       "    <tr>\n",
       "      <th>3875457</th>\n",
       "      <td>Hiroko Ide</td>\n",
       "      <td>0</td>\n",
       "      <td>NaN</td>\n",
       "      <td>None</td>\n",
       "    </tr>\n",
       "    <tr>\n",
       "      <th>3875458</th>\n",
       "      <td>Anketa Maharana</td>\n",
       "      <td>0</td>\n",
       "      <td>NaN</td>\n",
       "      <td>None</td>\n",
       "    </tr>\n",
       "    <tr>\n",
       "      <th>3875459</th>\n",
       "      <td>Sexy Angel</td>\n",
       "      <td>0</td>\n",
       "      <td>NaN</td>\n",
       "      <td>None</td>\n",
       "    </tr>\n",
       "  </tbody>\n",
       "</table>\n",
       "<p>3875460 rows × 4 columns</p>\n",
       "</div>"
      ],
      "text/plain": [
       "             primaryname  isalive    age noofmovies\n",
       "0           Fred Astaire        1  121.0       None\n",
       "1           John Belushi        1   71.0       None\n",
       "2         Ingmar Bergman        1  102.0       None\n",
       "3        Humphrey Bogart        1  121.0       None\n",
       "4          Marlon Brando        1   96.0       None\n",
       "...                  ...      ...    ...        ...\n",
       "3875455     Cheryl Clark        0    NaN       None\n",
       "3875456    Yukari Funaki        0    NaN       None\n",
       "3875457       Hiroko Ide        0    NaN       None\n",
       "3875458  Anketa Maharana        0    NaN       None\n",
       "3875459       Sexy Angel        0    NaN       None\n",
       "\n",
       "[3875460 rows x 4 columns]"
      ]
     },
     "execution_count": 350,
     "metadata": {},
     "output_type": "execute_result"
    }
   ],
   "source": [
    "alive_or_dead_list"
   ]
  },
  {
   "cell_type": "markdown",
   "metadata": {},
   "source": [
    "## QUESTION 8"
   ]
  },
  {
   "cell_type": "code",
   "execution_count": 351,
   "metadata": {},
   "outputs": [],
   "source": [
    "no_of_seasons = pd.read_sql(\"\"\"SELECT tb.originalTitle, COUNT(DISTINCT(te.seasonNumber))\n",
    "                 as noOfSeasons FROM titleepisodes AS te \n",
    "                 INNER JOIN titlebasics tb on te.parentTconst=tb.tconst \n",
    "                 GROUP BY tb.originalTitle;\"\"\", database_connection.connect())\n"
   ]
  },
  {
   "cell_type": "code",
   "execution_count": 352,
   "metadata": {},
   "outputs": [
    {
     "data": {
      "text/html": [
       "<div>\n",
       "<style scoped>\n",
       "    .dataframe tbody tr th:only-of-type {\n",
       "        vertical-align: middle;\n",
       "    }\n",
       "\n",
       "    .dataframe tbody tr th {\n",
       "        vertical-align: top;\n",
       "    }\n",
       "\n",
       "    .dataframe thead th {\n",
       "        text-align: right;\n",
       "    }\n",
       "</style>\n",
       "<table border=\"1\" class=\"dataframe\">\n",
       "  <thead>\n",
       "    <tr style=\"text-align: right;\">\n",
       "      <th></th>\n",
       "      <th>originalTitle</th>\n",
       "      <th>noOfSeasons</th>\n",
       "    </tr>\n",
       "  </thead>\n",
       "  <tbody>\n",
       "    <tr>\n",
       "      <th>0</th>\n",
       "      <td>_tiktok_th0ts</td>\n",
       "      <td>0</td>\n",
       "    </tr>\n",
       "    <tr>\n",
       "      <th>1</th>\n",
       "      <td>-Dash</td>\n",
       "      <td>2</td>\n",
       "    </tr>\n",
       "    <tr>\n",
       "      <th>2</th>\n",
       "      <td>-Less</td>\n",
       "      <td>1</td>\n",
       "    </tr>\n",
       "    <tr>\n",
       "      <th>3</th>\n",
       "      <td>:30 Seconds</td>\n",
       "      <td>1</td>\n",
       "    </tr>\n",
       "    <tr>\n",
       "      <th>4</th>\n",
       "      <td>:Dryvrs</td>\n",
       "      <td>1</td>\n",
       "    </tr>\n",
       "    <tr>\n",
       "      <th>...</th>\n",
       "      <td>...</td>\n",
       "      <td>...</td>\n",
       "    </tr>\n",
       "    <tr>\n",
       "      <th>136973</th>\n",
       "      <td>Zyliara ASMR</td>\n",
       "      <td>0</td>\n",
       "    </tr>\n",
       "    <tr>\n",
       "      <th>136974</th>\n",
       "      <td>ZZ Series</td>\n",
       "      <td>0</td>\n",
       "    </tr>\n",
       "    <tr>\n",
       "      <th>136975</th>\n",
       "      <td>Zzuber</td>\n",
       "      <td>1</td>\n",
       "    </tr>\n",
       "    <tr>\n",
       "      <th>136976</th>\n",
       "      <td>ZZZap!</td>\n",
       "      <td>10</td>\n",
       "    </tr>\n",
       "    <tr>\n",
       "      <th>136977</th>\n",
       "      <td>Þjóð í hlekkjum hugarfarsins</td>\n",
       "      <td>1</td>\n",
       "    </tr>\n",
       "  </tbody>\n",
       "</table>\n",
       "<p>136978 rows × 2 columns</p>\n",
       "</div>"
      ],
      "text/plain": [
       "                       originalTitle  noOfSeasons\n",
       "0                      _tiktok_th0ts            0\n",
       "1                              -Dash            2\n",
       "2                              -Less            1\n",
       "3                        :30 Seconds            1\n",
       "4                            :Dryvrs            1\n",
       "...                              ...          ...\n",
       "136973                  Zyliara ASMR            0\n",
       "136974                     ZZ Series            0\n",
       "136975                        Zzuber            1\n",
       "136976                        ZZZap!           10\n",
       "136977  Þjóð í hlekkjum hugarfarsins            1\n",
       "\n",
       "[136978 rows x 2 columns]"
      ]
     },
     "execution_count": 352,
     "metadata": {},
     "output_type": "execute_result"
    }
   ],
   "source": [
    "no_of_seasons"
   ]
  },
  {
   "cell_type": "code",
   "execution_count": 353,
   "metadata": {},
   "outputs": [
    {
     "data": {
      "text/html": [
       "<div>\n",
       "<style scoped>\n",
       "    .dataframe tbody tr th:only-of-type {\n",
       "        vertical-align: middle;\n",
       "    }\n",
       "\n",
       "    .dataframe tbody tr th {\n",
       "        vertical-align: top;\n",
       "    }\n",
       "\n",
       "    .dataframe thead th {\n",
       "        text-align: right;\n",
       "    }\n",
       "</style>\n",
       "<table border=\"1\" class=\"dataframe\">\n",
       "  <thead>\n",
       "    <tr style=\"text-align: right;\">\n",
       "      <th></th>\n",
       "      <th>noOfSeasons</th>\n",
       "    </tr>\n",
       "  </thead>\n",
       "  <tbody>\n",
       "    <tr>\n",
       "      <th>count</th>\n",
       "      <td>136978.000000</td>\n",
       "    </tr>\n",
       "    <tr>\n",
       "      <th>mean</th>\n",
       "      <td>1.577348</td>\n",
       "    </tr>\n",
       "    <tr>\n",
       "      <th>std</th>\n",
       "      <td>2.516571</td>\n",
       "    </tr>\n",
       "    <tr>\n",
       "      <th>min</th>\n",
       "      <td>0.000000</td>\n",
       "    </tr>\n",
       "    <tr>\n",
       "      <th>25%</th>\n",
       "      <td>1.000000</td>\n",
       "    </tr>\n",
       "    <tr>\n",
       "      <th>50%</th>\n",
       "      <td>1.000000</td>\n",
       "    </tr>\n",
       "    <tr>\n",
       "      <th>75%</th>\n",
       "      <td>1.000000</td>\n",
       "    </tr>\n",
       "    <tr>\n",
       "      <th>max</th>\n",
       "      <td>267.000000</td>\n",
       "    </tr>\n",
       "  </tbody>\n",
       "</table>\n",
       "</div>"
      ],
      "text/plain": [
       "         noOfSeasons\n",
       "count  136978.000000\n",
       "mean        1.577348\n",
       "std         2.516571\n",
       "min         0.000000\n",
       "25%         1.000000\n",
       "50%         1.000000\n",
       "75%         1.000000\n",
       "max       267.000000"
      ]
     },
     "execution_count": 353,
     "metadata": {},
     "output_type": "execute_result"
    }
   ],
   "source": [
    "no_of_seasons.describe()"
   ]
  },
  {
   "cell_type": "code",
   "execution_count": 354,
   "metadata": {},
   "outputs": [
    {
     "data": {
      "text/plain": [
       "[Text(0, 0.5, 'Frequency'),\n",
       " Text(0.5, 0, 'NoOfSeasons'),\n",
       " Text(0.5, 1.0, 'NoOfSeasons Frequency')]"
      ]
     },
     "execution_count": 354,
     "metadata": {},
     "output_type": "execute_result"
    },
    {
     "data": {
      "image/png": "[encoded data removed]",
      "text/plain": [
       "<Figure size 432x288 with 1 Axes>"
      ]
     },
     "metadata": {
      "needs_background": "light"
     },
     "output_type": "display_data"
    }
   ],
   "source": [
    "no_of_seasons_plot=no_of_seasons.plot.hist(bins=268, xlim=(0,15))\n",
    "no_of_seasons_plot.set(xlabel='NoOfSeasons', ylabel='Frequency', title='NoOfSeasons Frequency')"
   ]
  },
  {
   "cell_type": "markdown",
   "metadata": {},
   "source": [
    "## QUESTION 9"
   ]
  },
  {
   "cell_type": "markdown",
   "metadata": {},
   "source": [
    "### Generate Random String"
   ]
  },
  {
   "cell_type": "code",
   "execution_count": 71,
   "metadata": {},
   "outputs": [],
   "source": [
    "import string\n",
    "import random\n",
    "\n",
    "def get_random_string(length):\n",
    "\n",
    "    letters = string.ascii_lowercase\n",
    "    result_str = ''.join(random.choice(letters) for i in range(length))\n",
    "    return result_str"
   ]
  },
  {
   "cell_type": "markdown",
   "metadata": {},
   "source": [
    "### Generate Random nconst"
   ]
  },
  {
   "cell_type": "code",
   "execution_count": 79,
   "metadata": {},
   "outputs": [],
   "source": [
    "def generate_nconst_string_id(table_name,length):\n",
    "    \n",
    "    table_id=set(table_name.nconst)\n",
    "    #name_basicsid\n",
    "\n",
    "    while True:\n",
    "        new_id=get_random_string(length)\n",
    "        if new_id not in table_id:\n",
    "            return new_id"
   ]
  },
  {
   "cell_type": "markdown",
   "metadata": {},
   "source": [
    "### Generate Random tconst "
   ]
  },
  {
   "cell_type": "code",
   "execution_count": 80,
   "metadata": {},
   "outputs": [],
   "source": [
    "def generate_tconst_string_id(table_name,length):\n",
    "    \n",
    "    table_id=set(table_name.tconst)\n",
    "    #name_basicsid\n",
    "\n",
    "    while True:\n",
    "        new_id=get_random_string(length)\n",
    "        if new_id not in table_id:\n",
    "            return new_id"
   ]
  },
  {
   "cell_type": "markdown",
   "metadata": {},
   "source": [
    "### Generate random primaryprofessionid"
   ]
  },
  {
   "cell_type": "code",
   "execution_count": 365,
   "metadata": {},
   "outputs": [],
   "source": [
    "def generate_int_id(table):\n",
    "    new_id=len(table)+20\n",
    "    \n",
    "    return new_id"
   ]
  },
  {
   "cell_type": "code",
   "execution_count": 132,
   "metadata": {},
   "outputs": [
    {
     "data": {
      "text/plain": [
       "'bolmdjz'"
      ]
     },
     "execution_count": 132,
     "metadata": {},
     "output_type": "execute_result"
    }
   ],
   "source": [
    "new_id=generate_string_id(name_basics,7)\n",
    "\n",
    "new_id"
   ]
  },
  {
   "cell_type": "markdown",
   "metadata": {},
   "source": [
    "## Stored procedure in MySQL-Run it on your machine to test the next sets of code"
   ]
  },
  {
   "cell_type": "code",
   "execution_count": null,
   "metadata": {},
   "outputs": [],
   "source": [
    "# DELIMITER $$\n",
    "#           CREATE PROCEDURE ADD_ACTOR(\n",
    "#                 IN new_name_basics_string_id VARCHAR(11),\n",
    "#                 IN new_title_basics_string_id VARCHAR(11),\n",
    "#                 IN new_primary_profession_int_id INT,\n",
    "#                 IN primaryName TEXT,\n",
    "#                 IN profession VARCHAR(32),\n",
    "#                 IN BirthYear TEXT,\n",
    "#                 IN DeathYear TEXT,\n",
    "#                 IN Age INT,\n",
    "#                 IN NoofMovies INT,\n",
    "#                 IN titletype TEXT,\n",
    "#                 IN primarytitle MEDIUMTEXT,\n",
    "#                 IN originaltitle MEDIUMTEXT,\n",
    "#                 IN isAdult BOOLEAN,\n",
    "#                 IN StartYear TEXT,\n",
    "#                 IN EndYear TEXT,\n",
    "#                 IN runTimeMinutes TIME,\n",
    "\n",
    "\n",
    "#             ) BEGIN\n",
    "#                 START TRANSACTION;\n",
    "#                 INSERT INTO namebasics (nconst, primaryname, birthyear, deathyear,age,noofmovies) \n",
    "#                     VALUES (new_name_basics_string_id, primaryName, STR_TO_DATE(BirthYear,'%d-%m-%Y'), STR_TO_DATE(DeathYear,'%d-%m-%Y'),Age,NoofMovies);\n",
    "#                 INSERT INTO titlebasics (tconst,titleType,primaryTitle,originalTitle,isAdult,startYear,endYear,runtimeMinutes)\n",
    "#                     VALUES (new_title_basics_string_id,titletype,primarytitle,originaltitle,isAdult,STR_TO_DATE(StartYear,'%d-%m-%Y'),STR_TO_DATE(EndYear,'%d-%m-%Y'),runTimeMinutes);\n",
    "#                 INSERT INTO knownfortitles (namebasicsid,knownfortitle)\n",
    "#                     VALUES(new_name_basics_string_id,new_title_basics_string_id);\n",
    "#                 INSERT INTO primaryprofessiontitlenames (primaryprofessionid,namebasicsid)\n",
    "#                     VALUES(new_primary_profession_int_id,new_name_basics_string_id);\n",
    "#                COMMIT WORK;\n",
    "#             END$$\n",
    "#     DELIMITER ;\n"
   ]
  },
  {
   "cell_type": "markdown",
   "metadata": {},
   "source": [
    "## Stored Procedure is called in this function"
   ]
  },
  {
   "cell_type": "code",
   "execution_count": 410,
   "metadata": {},
   "outputs": [],
   "source": [
    "new_name_basics_string_id=generate_nconst_string_id(name_basics,7)\n",
    "new_title_basics_string_id=generate_tconst_string_id(title_basics,7)"
   ]
  },
  {
   "cell_type": "code",
   "execution_count": 411,
   "metadata": {},
   "outputs": [],
   "source": [
    "def addActor(primaryName,profession,BirthYear,DeathYear,Age,NoOfMovies,titletype,primarytitle,originaltitle,isAdult,StartYear,EndYear,runtimeMinutes):\n",
    "\n",
    "    new_primary_profession_int_id=2 #2 is actor id in primaryprofession table\n",
    "\n",
    "    \n",
    "    with database_connection.connect() as con:\n",
    "\n",
    "        query_string=f\"\"\"CALL ADD_ACTOR('{new_name_basics_string_id}','{new_title_basics_string_id}','{new_primary_profession_int_id}','{primaryName}','{profession}','{BirthYear}','{DeathYear}','{Age}','{NoOfMovies}','{titletype}','{primarytitle}','{originaltitle}','{isAdult}','{StartYear}','{EndYear}','{runtimeMinutes}')\"\"\"\n",
    "\n",
    "\n",
    "        actor_added = pd.read_sql(query_string,con)\n",
    "\n",
    "\n",
    "    return actoradded\n"
   ]
  },
  {
   "cell_type": "markdown",
   "metadata": {},
   "source": [
    "### ACTOR WAS ADDED-IGNORE THE ERROR. CALL STORED PROCEDURE DOES NOT RETURN ROWS HENCE THE ERROR"
   ]
  },
  {
   "cell_type": "code",
   "execution_count": 413,
   "metadata": {},
   "outputs": [
    {
     "ename": "ResourceClosedError",
     "evalue": "This result object does not return rows. It has been closed automatically.",
     "output_type": "error",
     "traceback": [
      "\u001b[0;31m---------------------------------------------------------------------------\u001b[0m",
      "\u001b[0;31mAttributeError\u001b[0m                            Traceback (most recent call last)",
      "\u001b[0;32m/opt/anaconda3/lib/python3.8/site-packages/sqlalchemy/engine/result.py\u001b[0m in \u001b[0;36m_fetchall_impl\u001b[0;34m(self)\u001b[0m\n\u001b[1;32m   1229\u001b[0m         \u001b[0;32mtry\u001b[0m\u001b[0;34m:\u001b[0m\u001b[0;34m\u001b[0m\u001b[0;34m\u001b[0m\u001b[0m\n\u001b[0;32m-> 1230\u001b[0;31m             \u001b[0;32mreturn\u001b[0m \u001b[0mself\u001b[0m\u001b[0;34m.\u001b[0m\u001b[0mcursor\u001b[0m\u001b[0;34m.\u001b[0m\u001b[0mfetchall\u001b[0m\u001b[0;34m(\u001b[0m\u001b[0;34m)\u001b[0m\u001b[0;34m\u001b[0m\u001b[0;34m\u001b[0m\u001b[0m\n\u001b[0m\u001b[1;32m   1231\u001b[0m         \u001b[0;32mexcept\u001b[0m \u001b[0mAttributeError\u001b[0m \u001b[0;32mas\u001b[0m \u001b[0merr\u001b[0m\u001b[0;34m:\u001b[0m\u001b[0;34m\u001b[0m\u001b[0;34m\u001b[0m\u001b[0m\n",
      "\u001b[0;31mAttributeError\u001b[0m: 'NoneType' object has no attribute 'fetchall'",
      "\nThe above exception was the direct cause of the following exception:\n",
      "\u001b[0;31mResourceClosedError\u001b[0m                       Traceback (most recent call last)",
      "\u001b[0;32m<ipython-input-413-7d96911e28c3>\u001b[0m in \u001b[0;36m<module>\u001b[0;34m\u001b[0m\n\u001b[0;32m----> 1\u001b[0;31m \u001b[0mnew_actor\u001b[0m\u001b[0;34m=\u001b[0m\u001b[0maddActor\u001b[0m\u001b[0;34m(\u001b[0m\u001b[0;34m\"RippleEffect\"\u001b[0m\u001b[0;34m,\u001b[0m\u001b[0;34m\"actor\"\u001b[0m\u001b[0;34m,\u001b[0m\u001b[0;34m'01-01-1993'\u001b[0m\u001b[0;34m,\u001b[0m\u001b[0;34m'29-06-2018'\u001b[0m\u001b[0;34m,\u001b[0m\u001b[0;36m25\u001b[0m\u001b[0;34m,\u001b[0m\u001b[0;36m600\u001b[0m\u001b[0;34m,\u001b[0m\u001b[0;34m\"FerrisMovieType\"\u001b[0m\u001b[0;34m,\u001b[0m\u001b[0;34m\"FerrisPrimaryMovieTitle\"\u001b[0m\u001b[0;34m,\u001b[0m\u001b[0;34m\"FerrisMovieOrginalTitle\"\u001b[0m\u001b[0;34m,\u001b[0m\u001b[0;36m0\u001b[0m\u001b[0;34m,\u001b[0m\u001b[0;34m\"19-05-2004\"\u001b[0m\u001b[0;34m,\u001b[0m\u001b[0;34m\"09-05-2005\"\u001b[0m\u001b[0;34m,\u001b[0m\u001b[0;36m103\u001b[0m\u001b[0;34m)\u001b[0m\u001b[0;34m\u001b[0m\u001b[0;34m\u001b[0m\u001b[0m\n\u001b[0m",
      "\u001b[0;32m<ipython-input-411-cf3a2ae61503>\u001b[0m in \u001b[0;36maddActor\u001b[0;34m(primaryName, profession, BirthYear, DeathYear, Age, NoOfMovies, titletype, primarytitle, originaltitle, isAdult, StartYear, EndYear, runtimeMinutes)\u001b[0m\n\u001b[1;32m     10\u001b[0m \u001b[0;34m\u001b[0m\u001b[0m\n\u001b[1;32m     11\u001b[0m \u001b[0;34m\u001b[0m\u001b[0m\n\u001b[0;32m---> 12\u001b[0;31m         \u001b[0mactor_added\u001b[0m \u001b[0;34m=\u001b[0m \u001b[0mpd\u001b[0m\u001b[0;34m.\u001b[0m\u001b[0mread_sql\u001b[0m\u001b[0;34m(\u001b[0m\u001b[0mquery_string\u001b[0m\u001b[0;34m,\u001b[0m\u001b[0mcon\u001b[0m\u001b[0;34m)\u001b[0m\u001b[0;34m\u001b[0m\u001b[0;34m\u001b[0m\u001b[0m\n\u001b[0m\u001b[1;32m     13\u001b[0m \u001b[0;34m\u001b[0m\u001b[0m\n\u001b[1;32m     14\u001b[0m \u001b[0;34m\u001b[0m\u001b[0m\n",
      "\u001b[0;32m/opt/anaconda3/lib/python3.8/site-packages/pandas/io/sql.py\u001b[0m in \u001b[0;36mread_sql\u001b[0;34m(sql, con, index_col, coerce_float, params, parse_dates, columns, chunksize)\u001b[0m\n\u001b[1;32m    430\u001b[0m         )\n\u001b[1;32m    431\u001b[0m     \u001b[0;32melse\u001b[0m\u001b[0;34m:\u001b[0m\u001b[0;34m\u001b[0m\u001b[0;34m\u001b[0m\u001b[0m\n\u001b[0;32m--> 432\u001b[0;31m         return pandas_sql.read_query(\n\u001b[0m\u001b[1;32m    433\u001b[0m             \u001b[0msql\u001b[0m\u001b[0;34m,\u001b[0m\u001b[0;34m\u001b[0m\u001b[0;34m\u001b[0m\u001b[0m\n\u001b[1;32m    434\u001b[0m             \u001b[0mindex_col\u001b[0m\u001b[0;34m=\u001b[0m\u001b[0mindex_col\u001b[0m\u001b[0;34m,\u001b[0m\u001b[0;34m\u001b[0m\u001b[0;34m\u001b[0m\u001b[0m\n",
      "\u001b[0;32m/opt/anaconda3/lib/python3.8/site-packages/pandas/io/sql.py\u001b[0m in \u001b[0;36mread_query\u001b[0;34m(self, sql, index_col, coerce_float, parse_dates, params, chunksize)\u001b[0m\n\u001b[1;32m   1229\u001b[0m             )\n\u001b[1;32m   1230\u001b[0m         \u001b[0;32melse\u001b[0m\u001b[0;34m:\u001b[0m\u001b[0;34m\u001b[0m\u001b[0;34m\u001b[0m\u001b[0m\n\u001b[0;32m-> 1231\u001b[0;31m             \u001b[0mdata\u001b[0m \u001b[0;34m=\u001b[0m \u001b[0mresult\u001b[0m\u001b[0;34m.\u001b[0m\u001b[0mfetchall\u001b[0m\u001b[0;34m(\u001b[0m\u001b[0;34m)\u001b[0m\u001b[0;34m\u001b[0m\u001b[0;34m\u001b[0m\u001b[0m\n\u001b[0m\u001b[1;32m   1232\u001b[0m             frame = _wrap_result(\n\u001b[1;32m   1233\u001b[0m                 \u001b[0mdata\u001b[0m\u001b[0;34m,\u001b[0m\u001b[0;34m\u001b[0m\u001b[0;34m\u001b[0m\u001b[0m\n",
      "\u001b[0;32m/opt/anaconda3/lib/python3.8/site-packages/sqlalchemy/engine/result.py\u001b[0m in \u001b[0;36mfetchall\u001b[0;34m(self)\u001b[0m\n\u001b[1;32m   1286\u001b[0m             \u001b[0;32mreturn\u001b[0m \u001b[0ml\u001b[0m\u001b[0;34m\u001b[0m\u001b[0;34m\u001b[0m\u001b[0m\n\u001b[1;32m   1287\u001b[0m         \u001b[0;32mexcept\u001b[0m \u001b[0mBaseException\u001b[0m \u001b[0;32mas\u001b[0m \u001b[0me\u001b[0m\u001b[0;34m:\u001b[0m\u001b[0;34m\u001b[0m\u001b[0;34m\u001b[0m\u001b[0m\n\u001b[0;32m-> 1288\u001b[0;31m             self.connection._handle_dbapi_exception(\n\u001b[0m\u001b[1;32m   1289\u001b[0m                 \u001b[0me\u001b[0m\u001b[0;34m,\u001b[0m \u001b[0;32mNone\u001b[0m\u001b[0;34m,\u001b[0m \u001b[0;32mNone\u001b[0m\u001b[0;34m,\u001b[0m \u001b[0mself\u001b[0m\u001b[0;34m.\u001b[0m\u001b[0mcursor\u001b[0m\u001b[0;34m,\u001b[0m \u001b[0mself\u001b[0m\u001b[0;34m.\u001b[0m\u001b[0mcontext\u001b[0m\u001b[0;34m\u001b[0m\u001b[0;34m\u001b[0m\u001b[0m\n\u001b[1;32m   1290\u001b[0m             )\n",
      "\u001b[0;32m/opt/anaconda3/lib/python3.8/site-packages/sqlalchemy/engine/base.py\u001b[0m in \u001b[0;36m_handle_dbapi_exception\u001b[0;34m(self, e, statement, parameters, cursor, context)\u001b[0m\n\u001b[1;32m   1513\u001b[0m                 )\n\u001b[1;32m   1514\u001b[0m             \u001b[0;32melse\u001b[0m\u001b[0;34m:\u001b[0m\u001b[0;34m\u001b[0m\u001b[0;34m\u001b[0m\u001b[0m\n\u001b[0;32m-> 1515\u001b[0;31m                 \u001b[0mutil\u001b[0m\u001b[0;34m.\u001b[0m\u001b[0mraise_\u001b[0m\u001b[0;34m(\u001b[0m\u001b[0mexc_info\u001b[0m\u001b[0;34m[\u001b[0m\u001b[0;36m1\u001b[0m\u001b[0;34m]\u001b[0m\u001b[0;34m,\u001b[0m \u001b[0mwith_traceback\u001b[0m\u001b[0;34m=\u001b[0m\u001b[0mexc_info\u001b[0m\u001b[0;34m[\u001b[0m\u001b[0;36m2\u001b[0m\u001b[0;34m]\u001b[0m\u001b[0;34m)\u001b[0m\u001b[0;34m\u001b[0m\u001b[0;34m\u001b[0m\u001b[0m\n\u001b[0m\u001b[1;32m   1516\u001b[0m \u001b[0;34m\u001b[0m\u001b[0m\n\u001b[1;32m   1517\u001b[0m         \u001b[0;32mfinally\u001b[0m\u001b[0;34m:\u001b[0m\u001b[0;34m\u001b[0m\u001b[0;34m\u001b[0m\u001b[0m\n",
      "\u001b[0;32m/opt/anaconda3/lib/python3.8/site-packages/sqlalchemy/util/compat.py\u001b[0m in \u001b[0;36mraise_\u001b[0;34m(***failed resolving arguments***)\u001b[0m\n\u001b[1;32m    176\u001b[0m \u001b[0;34m\u001b[0m\u001b[0m\n\u001b[1;32m    177\u001b[0m         \u001b[0;32mtry\u001b[0m\u001b[0;34m:\u001b[0m\u001b[0;34m\u001b[0m\u001b[0;34m\u001b[0m\u001b[0m\n\u001b[0;32m--> 178\u001b[0;31m             \u001b[0;32mraise\u001b[0m \u001b[0mexception\u001b[0m\u001b[0;34m\u001b[0m\u001b[0;34m\u001b[0m\u001b[0m\n\u001b[0m\u001b[1;32m    179\u001b[0m         \u001b[0;32mfinally\u001b[0m\u001b[0;34m:\u001b[0m\u001b[0;34m\u001b[0m\u001b[0;34m\u001b[0m\u001b[0m\n\u001b[1;32m    180\u001b[0m             \u001b[0;31m# credit to\u001b[0m\u001b[0;34m\u001b[0m\u001b[0;34m\u001b[0m\u001b[0;34m\u001b[0m\u001b[0m\n",
      "\u001b[0;32m/opt/anaconda3/lib/python3.8/site-packages/sqlalchemy/engine/result.py\u001b[0m in \u001b[0;36mfetchall\u001b[0;34m(self)\u001b[0m\n\u001b[1;32m   1282\u001b[0m \u001b[0;34m\u001b[0m\u001b[0m\n\u001b[1;32m   1283\u001b[0m         \u001b[0;32mtry\u001b[0m\u001b[0;34m:\u001b[0m\u001b[0;34m\u001b[0m\u001b[0;34m\u001b[0m\u001b[0m\n\u001b[0;32m-> 1284\u001b[0;31m             \u001b[0ml\u001b[0m \u001b[0;34m=\u001b[0m \u001b[0mself\u001b[0m\u001b[0;34m.\u001b[0m\u001b[0mprocess_rows\u001b[0m\u001b[0;34m(\u001b[0m\u001b[0mself\u001b[0m\u001b[0;34m.\u001b[0m\u001b[0m_fetchall_impl\u001b[0m\u001b[0;34m(\u001b[0m\u001b[0;34m)\u001b[0m\u001b[0;34m)\u001b[0m\u001b[0;34m\u001b[0m\u001b[0;34m\u001b[0m\u001b[0m\n\u001b[0m\u001b[1;32m   1285\u001b[0m             \u001b[0mself\u001b[0m\u001b[0;34m.\u001b[0m\u001b[0m_soft_close\u001b[0m\u001b[0;34m(\u001b[0m\u001b[0;34m)\u001b[0m\u001b[0;34m\u001b[0m\u001b[0;34m\u001b[0m\u001b[0m\n\u001b[1;32m   1286\u001b[0m             \u001b[0;32mreturn\u001b[0m \u001b[0ml\u001b[0m\u001b[0;34m\u001b[0m\u001b[0;34m\u001b[0m\u001b[0m\n",
      "\u001b[0;32m/opt/anaconda3/lib/python3.8/site-packages/sqlalchemy/engine/result.py\u001b[0m in \u001b[0;36m_fetchall_impl\u001b[0;34m(self)\u001b[0m\n\u001b[1;32m   1230\u001b[0m             \u001b[0;32mreturn\u001b[0m \u001b[0mself\u001b[0m\u001b[0;34m.\u001b[0m\u001b[0mcursor\u001b[0m\u001b[0;34m.\u001b[0m\u001b[0mfetchall\u001b[0m\u001b[0;34m(\u001b[0m\u001b[0;34m)\u001b[0m\u001b[0;34m\u001b[0m\u001b[0;34m\u001b[0m\u001b[0m\n\u001b[1;32m   1231\u001b[0m         \u001b[0;32mexcept\u001b[0m \u001b[0mAttributeError\u001b[0m \u001b[0;32mas\u001b[0m \u001b[0merr\u001b[0m\u001b[0;34m:\u001b[0m\u001b[0;34m\u001b[0m\u001b[0;34m\u001b[0m\u001b[0m\n\u001b[0;32m-> 1232\u001b[0;31m             \u001b[0;32mreturn\u001b[0m \u001b[0mself\u001b[0m\u001b[0;34m.\u001b[0m\u001b[0m_non_result\u001b[0m\u001b[0;34m(\u001b[0m\u001b[0;34m[\u001b[0m\u001b[0;34m]\u001b[0m\u001b[0;34m,\u001b[0m \u001b[0merr\u001b[0m\u001b[0;34m)\u001b[0m\u001b[0;34m\u001b[0m\u001b[0;34m\u001b[0m\u001b[0m\n\u001b[0m\u001b[1;32m   1233\u001b[0m \u001b[0;34m\u001b[0m\u001b[0m\n\u001b[1;32m   1234\u001b[0m     \u001b[0;32mdef\u001b[0m \u001b[0m_non_result\u001b[0m\u001b[0;34m(\u001b[0m\u001b[0mself\u001b[0m\u001b[0;34m,\u001b[0m \u001b[0mdefault\u001b[0m\u001b[0;34m,\u001b[0m \u001b[0merr\u001b[0m\u001b[0;34m=\u001b[0m\u001b[0;32mNone\u001b[0m\u001b[0;34m)\u001b[0m\u001b[0;34m:\u001b[0m\u001b[0;34m\u001b[0m\u001b[0;34m\u001b[0m\u001b[0m\n",
      "\u001b[0;32m/opt/anaconda3/lib/python3.8/site-packages/sqlalchemy/engine/result.py\u001b[0m in \u001b[0;36m_non_result\u001b[0;34m(self, default, err)\u001b[0m\n\u001b[1;32m   1234\u001b[0m     \u001b[0;32mdef\u001b[0m \u001b[0m_non_result\u001b[0m\u001b[0;34m(\u001b[0m\u001b[0mself\u001b[0m\u001b[0;34m,\u001b[0m \u001b[0mdefault\u001b[0m\u001b[0;34m,\u001b[0m \u001b[0merr\u001b[0m\u001b[0;34m=\u001b[0m\u001b[0;32mNone\u001b[0m\u001b[0;34m)\u001b[0m\u001b[0;34m:\u001b[0m\u001b[0;34m\u001b[0m\u001b[0;34m\u001b[0m\u001b[0m\n\u001b[1;32m   1235\u001b[0m         \u001b[0;32mif\u001b[0m \u001b[0mself\u001b[0m\u001b[0;34m.\u001b[0m\u001b[0m_metadata\u001b[0m \u001b[0;32mis\u001b[0m \u001b[0;32mNone\u001b[0m\u001b[0;34m:\u001b[0m\u001b[0;34m\u001b[0m\u001b[0;34m\u001b[0m\u001b[0m\n\u001b[0;32m-> 1236\u001b[0;31m             util.raise_(\n\u001b[0m\u001b[1;32m   1237\u001b[0m                 exc.ResourceClosedError(\n\u001b[1;32m   1238\u001b[0m                     \u001b[0;34m\"This result object does not return rows. \"\u001b[0m\u001b[0;34m\u001b[0m\u001b[0;34m\u001b[0m\u001b[0m\n",
      "\u001b[0;32m/opt/anaconda3/lib/python3.8/site-packages/sqlalchemy/util/compat.py\u001b[0m in \u001b[0;36mraise_\u001b[0;34m(***failed resolving arguments***)\u001b[0m\n\u001b[1;32m    176\u001b[0m \u001b[0;34m\u001b[0m\u001b[0m\n\u001b[1;32m    177\u001b[0m         \u001b[0;32mtry\u001b[0m\u001b[0;34m:\u001b[0m\u001b[0;34m\u001b[0m\u001b[0;34m\u001b[0m\u001b[0m\n\u001b[0;32m--> 178\u001b[0;31m             \u001b[0;32mraise\u001b[0m \u001b[0mexception\u001b[0m\u001b[0;34m\u001b[0m\u001b[0;34m\u001b[0m\u001b[0m\n\u001b[0m\u001b[1;32m    179\u001b[0m         \u001b[0;32mfinally\u001b[0m\u001b[0;34m:\u001b[0m\u001b[0;34m\u001b[0m\u001b[0;34m\u001b[0m\u001b[0m\n\u001b[1;32m    180\u001b[0m             \u001b[0;31m# credit to\u001b[0m\u001b[0;34m\u001b[0m\u001b[0;34m\u001b[0m\u001b[0;34m\u001b[0m\u001b[0m\n",
      "\u001b[0;31mResourceClosedError\u001b[0m: This result object does not return rows. It has been closed automatically."
     ]
    }
   ],
   "source": [
    "new_actor=addActor(\"RippleEffect\",\"actor\",'01-01-1993','29-06-2018',25,600,\"FerrisMovieType\",\"FerrisPrimaryMovieTitle\",\"FerrisMovieOrginalTitle\",0,\"19-05-2004\",\"09-05-2005\",103)"
   ]
  },
  {
   "cell_type": "code",
   "execution_count": 416,
   "metadata": {},
   "outputs": [],
   "source": [
    "new_actor_added = pd.read_sql(f\"\"\"SELECT * FROM namebasics WHERE primaryName='RippleEffect'\"\"\", database_connection.connect())"
   ]
  },
  {
   "cell_type": "code",
   "execution_count": 417,
   "metadata": {},
   "outputs": [
    {
     "data": {
      "text/html": [
       "<div>\n",
       "<style scoped>\n",
       "    .dataframe tbody tr th:only-of-type {\n",
       "        vertical-align: middle;\n",
       "    }\n",
       "\n",
       "    .dataframe tbody tr th {\n",
       "        vertical-align: top;\n",
       "    }\n",
       "\n",
       "    .dataframe thead th {\n",
       "        text-align: right;\n",
       "    }\n",
       "</style>\n",
       "<table border=\"1\" class=\"dataframe\">\n",
       "  <thead>\n",
       "    <tr style=\"text-align: right;\">\n",
       "      <th></th>\n",
       "      <th>nconst</th>\n",
       "      <th>primaryname</th>\n",
       "      <th>birthyear</th>\n",
       "      <th>deathyear</th>\n",
       "      <th>noofmovies</th>\n",
       "      <th>age</th>\n",
       "    </tr>\n",
       "  </thead>\n",
       "  <tbody>\n",
       "    <tr>\n",
       "      <th>0</th>\n",
       "      <td>uvweszn</td>\n",
       "      <td>RippleEffect</td>\n",
       "      <td>1993-01-01</td>\n",
       "      <td>2018-06-29</td>\n",
       "      <td>1</td>\n",
       "      <td>25</td>\n",
       "    </tr>\n",
       "  </tbody>\n",
       "</table>\n",
       "</div>"
      ],
      "text/plain": [
       "    nconst   primaryname   birthyear   deathyear  noofmovies  age\n",
       "0  uvweszn  RippleEffect  1993-01-01  2018-06-29           1   25"
      ]
     },
     "execution_count": 417,
     "metadata": {},
     "output_type": "execute_result"
    }
   ],
   "source": [
    "new_actor_added"
   ]
  },
  {
   "cell_type": "code",
   "execution_count": 391,
   "metadata": {},
   "outputs": [],
   "source": [
    "#from IPython.display import Image\n",
    "#Image(filename='actor.png')"
   ]
  },
  {
   "cell_type": "markdown",
   "metadata": {},
   "source": [
    "## QUESTION 10-Same Structure as 9"
   ]
  },
  {
   "cell_type": "code",
   "execution_count": 418,
   "metadata": {},
   "outputs": [],
   "source": [
    "#   DELIMITER $$\n",
    "#         CREATE PROCEDURE DELETE_ACTOR(\n",
    "# \t\t\t\tIN new_name_basics_string_id VARCHAR(11),\n",
    "# \t\t\t\tIN new_title_basics_string_id VARCHAR(11),\n",
    "# \t\t\t\tIN new_primary_profession_int_id INT,\n",
    "# \t\t\t\tIN profession VARCHAR(32)\n",
    "\n",
    "#           ) BEGIN\n",
    "#   \t\t\tSTART TRANSACTION;\n",
    "# \t\t\t\tDELETE FROM primaryprofessiontitlenames WHERE primaryprofessiontitlenames.primaryprofessionid=new_primary_profession_int_id;\n",
    "#   \t\t\t\tDELETE FROM primaryprofession WHERE primaryprofession.profession=profession;\n",
    "#   \t\t\t\tDELETE FROM knownfortitles WHERE knownfortitles.knownfortitle=new_title_basics_string_id;\n",
    "#   \t\t\t\tDELETE FROM namebasics WHERE namebasics.nconst=new_name_basics_string_id;\n",
    "#  \tCOMMIT WORK;\n",
    "#   \tEND$$\n",
    "#   DELIMITER ;"
   ]
  },
  {
   "cell_type": "code",
   "execution_count": 427,
   "metadata": {},
   "outputs": [],
   "source": [
    "def deleteActor(nbid,tbid):\n",
    "    new_primary_profession_int_id=2\n",
    "    cast_type='actor'\n",
    "\n",
    "\n",
    "    with database_connection.connect() as con:\n",
    "\n",
    "\n",
    "\n",
    "        query_string=f\"\"\"CALL DELETE_ACTOR('{nbid}','{tbid}','{new_primary_profession_int_id}','{cast_type}')\"\"\"\n",
    "    \n",
    "        actor_added = pd.read_sql(query_string,con)\n",
    "\n",
    "\n",
    "    \n",
    "    return actor_added"
   ]
  },
  {
   "cell_type": "code",
   "execution_count": 428,
   "metadata": {},
   "outputs": [
    {
     "ename": "ResourceClosedError",
     "evalue": "This result object does not return rows. It has been closed automatically.",
     "output_type": "error",
     "traceback": [
      "\u001b[0;31m---------------------------------------------------------------------------\u001b[0m",
      "\u001b[0;31mAttributeError\u001b[0m                            Traceback (most recent call last)",
      "\u001b[0;32m/opt/anaconda3/lib/python3.8/site-packages/sqlalchemy/engine/result.py\u001b[0m in \u001b[0;36m_fetchall_impl\u001b[0;34m(self)\u001b[0m\n\u001b[1;32m   1229\u001b[0m         \u001b[0;32mtry\u001b[0m\u001b[0;34m:\u001b[0m\u001b[0;34m\u001b[0m\u001b[0;34m\u001b[0m\u001b[0m\n\u001b[0;32m-> 1230\u001b[0;31m             \u001b[0;32mreturn\u001b[0m \u001b[0mself\u001b[0m\u001b[0;34m.\u001b[0m\u001b[0mcursor\u001b[0m\u001b[0;34m.\u001b[0m\u001b[0mfetchall\u001b[0m\u001b[0;34m(\u001b[0m\u001b[0;34m)\u001b[0m\u001b[0;34m\u001b[0m\u001b[0;34m\u001b[0m\u001b[0m\n\u001b[0m\u001b[1;32m   1231\u001b[0m         \u001b[0;32mexcept\u001b[0m \u001b[0mAttributeError\u001b[0m \u001b[0;32mas\u001b[0m \u001b[0merr\u001b[0m\u001b[0;34m:\u001b[0m\u001b[0;34m\u001b[0m\u001b[0;34m\u001b[0m\u001b[0m\n",
      "\u001b[0;31mAttributeError\u001b[0m: 'NoneType' object has no attribute 'fetchall'",
      "\nThe above exception was the direct cause of the following exception:\n",
      "\u001b[0;31mResourceClosedError\u001b[0m                       Traceback (most recent call last)",
      "\u001b[0;32m<ipython-input-428-bb60b9757ee1>\u001b[0m in \u001b[0;36m<module>\u001b[0;34m\u001b[0m\n\u001b[0;32m----> 1\u001b[0;31m \u001b[0mdeleteActor\u001b[0m\u001b[0;34m(\u001b[0m\u001b[0mnew_name_basics_string_id\u001b[0m\u001b[0;34m,\u001b[0m\u001b[0mnew_title_basics_string_id\u001b[0m\u001b[0;34m)\u001b[0m\u001b[0;34m\u001b[0m\u001b[0;34m\u001b[0m\u001b[0m\n\u001b[0m",
      "\u001b[0;32m<ipython-input-427-a3f217281949>\u001b[0m in \u001b[0;36mdeleteActor\u001b[0;34m(nbid, tbid)\u001b[0m\n\u001b[1;32m     10\u001b[0m         \u001b[0mquery_string\u001b[0m\u001b[0;34m=\u001b[0m\u001b[0;34mf\"\"\"CALL DELETE_ACTOR('{nbid}','{tbid}','{new_primary_profession_int_id}','{cast_type}')\"\"\"\u001b[0m\u001b[0;34m\u001b[0m\u001b[0;34m\u001b[0m\u001b[0m\n\u001b[1;32m     11\u001b[0m \u001b[0;34m\u001b[0m\u001b[0m\n\u001b[0;32m---> 12\u001b[0;31m         \u001b[0mactor_added\u001b[0m \u001b[0;34m=\u001b[0m \u001b[0mpd\u001b[0m\u001b[0;34m.\u001b[0m\u001b[0mread_sql\u001b[0m\u001b[0;34m(\u001b[0m\u001b[0mquery_string\u001b[0m\u001b[0;34m,\u001b[0m\u001b[0mcon\u001b[0m\u001b[0;34m)\u001b[0m\u001b[0;34m\u001b[0m\u001b[0;34m\u001b[0m\u001b[0m\n\u001b[0m\u001b[1;32m     13\u001b[0m \u001b[0;34m\u001b[0m\u001b[0m\n\u001b[1;32m     14\u001b[0m \u001b[0;34m\u001b[0m\u001b[0m\n",
      "\u001b[0;32m/opt/anaconda3/lib/python3.8/site-packages/pandas/io/sql.py\u001b[0m in \u001b[0;36mread_sql\u001b[0;34m(sql, con, index_col, coerce_float, params, parse_dates, columns, chunksize)\u001b[0m\n\u001b[1;32m    430\u001b[0m         )\n\u001b[1;32m    431\u001b[0m     \u001b[0;32melse\u001b[0m\u001b[0;34m:\u001b[0m\u001b[0;34m\u001b[0m\u001b[0;34m\u001b[0m\u001b[0m\n\u001b[0;32m--> 432\u001b[0;31m         return pandas_sql.read_query(\n\u001b[0m\u001b[1;32m    433\u001b[0m             \u001b[0msql\u001b[0m\u001b[0;34m,\u001b[0m\u001b[0;34m\u001b[0m\u001b[0;34m\u001b[0m\u001b[0m\n\u001b[1;32m    434\u001b[0m             \u001b[0mindex_col\u001b[0m\u001b[0;34m=\u001b[0m\u001b[0mindex_col\u001b[0m\u001b[0;34m,\u001b[0m\u001b[0;34m\u001b[0m\u001b[0;34m\u001b[0m\u001b[0m\n",
      "\u001b[0;32m/opt/anaconda3/lib/python3.8/site-packages/pandas/io/sql.py\u001b[0m in \u001b[0;36mread_query\u001b[0;34m(self, sql, index_col, coerce_float, parse_dates, params, chunksize)\u001b[0m\n\u001b[1;32m   1229\u001b[0m             )\n\u001b[1;32m   1230\u001b[0m         \u001b[0;32melse\u001b[0m\u001b[0;34m:\u001b[0m\u001b[0;34m\u001b[0m\u001b[0;34m\u001b[0m\u001b[0m\n\u001b[0;32m-> 1231\u001b[0;31m             \u001b[0mdata\u001b[0m \u001b[0;34m=\u001b[0m \u001b[0mresult\u001b[0m\u001b[0;34m.\u001b[0m\u001b[0mfetchall\u001b[0m\u001b[0;34m(\u001b[0m\u001b[0;34m)\u001b[0m\u001b[0;34m\u001b[0m\u001b[0;34m\u001b[0m\u001b[0m\n\u001b[0m\u001b[1;32m   1232\u001b[0m             frame = _wrap_result(\n\u001b[1;32m   1233\u001b[0m                 \u001b[0mdata\u001b[0m\u001b[0;34m,\u001b[0m\u001b[0;34m\u001b[0m\u001b[0;34m\u001b[0m\u001b[0m\n",
      "\u001b[0;32m/opt/anaconda3/lib/python3.8/site-packages/sqlalchemy/engine/result.py\u001b[0m in \u001b[0;36mfetchall\u001b[0;34m(self)\u001b[0m\n\u001b[1;32m   1286\u001b[0m             \u001b[0;32mreturn\u001b[0m \u001b[0ml\u001b[0m\u001b[0;34m\u001b[0m\u001b[0;34m\u001b[0m\u001b[0m\n\u001b[1;32m   1287\u001b[0m         \u001b[0;32mexcept\u001b[0m \u001b[0mBaseException\u001b[0m \u001b[0;32mas\u001b[0m \u001b[0me\u001b[0m\u001b[0;34m:\u001b[0m\u001b[0;34m\u001b[0m\u001b[0;34m\u001b[0m\u001b[0m\n\u001b[0;32m-> 1288\u001b[0;31m             self.connection._handle_dbapi_exception(\n\u001b[0m\u001b[1;32m   1289\u001b[0m                 \u001b[0me\u001b[0m\u001b[0;34m,\u001b[0m \u001b[0;32mNone\u001b[0m\u001b[0;34m,\u001b[0m \u001b[0;32mNone\u001b[0m\u001b[0;34m,\u001b[0m \u001b[0mself\u001b[0m\u001b[0;34m.\u001b[0m\u001b[0mcursor\u001b[0m\u001b[0;34m,\u001b[0m \u001b[0mself\u001b[0m\u001b[0;34m.\u001b[0m\u001b[0mcontext\u001b[0m\u001b[0;34m\u001b[0m\u001b[0;34m\u001b[0m\u001b[0m\n\u001b[1;32m   1290\u001b[0m             )\n",
      "\u001b[0;32m/opt/anaconda3/lib/python3.8/site-packages/sqlalchemy/engine/base.py\u001b[0m in \u001b[0;36m_handle_dbapi_exception\u001b[0;34m(self, e, statement, parameters, cursor, context)\u001b[0m\n\u001b[1;32m   1513\u001b[0m                 )\n\u001b[1;32m   1514\u001b[0m             \u001b[0;32melse\u001b[0m\u001b[0;34m:\u001b[0m\u001b[0;34m\u001b[0m\u001b[0;34m\u001b[0m\u001b[0m\n\u001b[0;32m-> 1515\u001b[0;31m                 \u001b[0mutil\u001b[0m\u001b[0;34m.\u001b[0m\u001b[0mraise_\u001b[0m\u001b[0;34m(\u001b[0m\u001b[0mexc_info\u001b[0m\u001b[0;34m[\u001b[0m\u001b[0;36m1\u001b[0m\u001b[0;34m]\u001b[0m\u001b[0;34m,\u001b[0m \u001b[0mwith_traceback\u001b[0m\u001b[0;34m=\u001b[0m\u001b[0mexc_info\u001b[0m\u001b[0;34m[\u001b[0m\u001b[0;36m2\u001b[0m\u001b[0;34m]\u001b[0m\u001b[0;34m)\u001b[0m\u001b[0;34m\u001b[0m\u001b[0;34m\u001b[0m\u001b[0m\n\u001b[0m\u001b[1;32m   1516\u001b[0m \u001b[0;34m\u001b[0m\u001b[0m\n\u001b[1;32m   1517\u001b[0m         \u001b[0;32mfinally\u001b[0m\u001b[0;34m:\u001b[0m\u001b[0;34m\u001b[0m\u001b[0;34m\u001b[0m\u001b[0m\n",
      "\u001b[0;32m/opt/anaconda3/lib/python3.8/site-packages/sqlalchemy/util/compat.py\u001b[0m in \u001b[0;36mraise_\u001b[0;34m(***failed resolving arguments***)\u001b[0m\n\u001b[1;32m    176\u001b[0m \u001b[0;34m\u001b[0m\u001b[0m\n\u001b[1;32m    177\u001b[0m         \u001b[0;32mtry\u001b[0m\u001b[0;34m:\u001b[0m\u001b[0;34m\u001b[0m\u001b[0;34m\u001b[0m\u001b[0m\n\u001b[0;32m--> 178\u001b[0;31m             \u001b[0;32mraise\u001b[0m \u001b[0mexception\u001b[0m\u001b[0;34m\u001b[0m\u001b[0;34m\u001b[0m\u001b[0m\n\u001b[0m\u001b[1;32m    179\u001b[0m         \u001b[0;32mfinally\u001b[0m\u001b[0;34m:\u001b[0m\u001b[0;34m\u001b[0m\u001b[0;34m\u001b[0m\u001b[0m\n\u001b[1;32m    180\u001b[0m             \u001b[0;31m# credit to\u001b[0m\u001b[0;34m\u001b[0m\u001b[0;34m\u001b[0m\u001b[0;34m\u001b[0m\u001b[0m\n",
      "\u001b[0;32m/opt/anaconda3/lib/python3.8/site-packages/sqlalchemy/engine/result.py\u001b[0m in \u001b[0;36mfetchall\u001b[0;34m(self)\u001b[0m\n\u001b[1;32m   1282\u001b[0m \u001b[0;34m\u001b[0m\u001b[0m\n\u001b[1;32m   1283\u001b[0m         \u001b[0;32mtry\u001b[0m\u001b[0;34m:\u001b[0m\u001b[0;34m\u001b[0m\u001b[0;34m\u001b[0m\u001b[0m\n\u001b[0;32m-> 1284\u001b[0;31m             \u001b[0ml\u001b[0m \u001b[0;34m=\u001b[0m \u001b[0mself\u001b[0m\u001b[0;34m.\u001b[0m\u001b[0mprocess_rows\u001b[0m\u001b[0;34m(\u001b[0m\u001b[0mself\u001b[0m\u001b[0;34m.\u001b[0m\u001b[0m_fetchall_impl\u001b[0m\u001b[0;34m(\u001b[0m\u001b[0;34m)\u001b[0m\u001b[0;34m)\u001b[0m\u001b[0;34m\u001b[0m\u001b[0;34m\u001b[0m\u001b[0m\n\u001b[0m\u001b[1;32m   1285\u001b[0m             \u001b[0mself\u001b[0m\u001b[0;34m.\u001b[0m\u001b[0m_soft_close\u001b[0m\u001b[0;34m(\u001b[0m\u001b[0;34m)\u001b[0m\u001b[0;34m\u001b[0m\u001b[0;34m\u001b[0m\u001b[0m\n\u001b[1;32m   1286\u001b[0m             \u001b[0;32mreturn\u001b[0m \u001b[0ml\u001b[0m\u001b[0;34m\u001b[0m\u001b[0;34m\u001b[0m\u001b[0m\n",
      "\u001b[0;32m/opt/anaconda3/lib/python3.8/site-packages/sqlalchemy/engine/result.py\u001b[0m in \u001b[0;36m_fetchall_impl\u001b[0;34m(self)\u001b[0m\n\u001b[1;32m   1230\u001b[0m             \u001b[0;32mreturn\u001b[0m \u001b[0mself\u001b[0m\u001b[0;34m.\u001b[0m\u001b[0mcursor\u001b[0m\u001b[0;34m.\u001b[0m\u001b[0mfetchall\u001b[0m\u001b[0;34m(\u001b[0m\u001b[0;34m)\u001b[0m\u001b[0;34m\u001b[0m\u001b[0;34m\u001b[0m\u001b[0m\n\u001b[1;32m   1231\u001b[0m         \u001b[0;32mexcept\u001b[0m \u001b[0mAttributeError\u001b[0m \u001b[0;32mas\u001b[0m \u001b[0merr\u001b[0m\u001b[0;34m:\u001b[0m\u001b[0;34m\u001b[0m\u001b[0;34m\u001b[0m\u001b[0m\n\u001b[0;32m-> 1232\u001b[0;31m             \u001b[0;32mreturn\u001b[0m \u001b[0mself\u001b[0m\u001b[0;34m.\u001b[0m\u001b[0m_non_result\u001b[0m\u001b[0;34m(\u001b[0m\u001b[0;34m[\u001b[0m\u001b[0;34m]\u001b[0m\u001b[0;34m,\u001b[0m \u001b[0merr\u001b[0m\u001b[0;34m)\u001b[0m\u001b[0;34m\u001b[0m\u001b[0;34m\u001b[0m\u001b[0m\n\u001b[0m\u001b[1;32m   1233\u001b[0m \u001b[0;34m\u001b[0m\u001b[0m\n\u001b[1;32m   1234\u001b[0m     \u001b[0;32mdef\u001b[0m \u001b[0m_non_result\u001b[0m\u001b[0;34m(\u001b[0m\u001b[0mself\u001b[0m\u001b[0;34m,\u001b[0m \u001b[0mdefault\u001b[0m\u001b[0;34m,\u001b[0m \u001b[0merr\u001b[0m\u001b[0;34m=\u001b[0m\u001b[0;32mNone\u001b[0m\u001b[0;34m)\u001b[0m\u001b[0;34m:\u001b[0m\u001b[0;34m\u001b[0m\u001b[0;34m\u001b[0m\u001b[0m\n",
      "\u001b[0;32m/opt/anaconda3/lib/python3.8/site-packages/sqlalchemy/engine/result.py\u001b[0m in \u001b[0;36m_non_result\u001b[0;34m(self, default, err)\u001b[0m\n\u001b[1;32m   1234\u001b[0m     \u001b[0;32mdef\u001b[0m \u001b[0m_non_result\u001b[0m\u001b[0;34m(\u001b[0m\u001b[0mself\u001b[0m\u001b[0;34m,\u001b[0m \u001b[0mdefault\u001b[0m\u001b[0;34m,\u001b[0m \u001b[0merr\u001b[0m\u001b[0;34m=\u001b[0m\u001b[0;32mNone\u001b[0m\u001b[0;34m)\u001b[0m\u001b[0;34m:\u001b[0m\u001b[0;34m\u001b[0m\u001b[0;34m\u001b[0m\u001b[0m\n\u001b[1;32m   1235\u001b[0m         \u001b[0;32mif\u001b[0m \u001b[0mself\u001b[0m\u001b[0;34m.\u001b[0m\u001b[0m_metadata\u001b[0m \u001b[0;32mis\u001b[0m \u001b[0;32mNone\u001b[0m\u001b[0;34m:\u001b[0m\u001b[0;34m\u001b[0m\u001b[0;34m\u001b[0m\u001b[0m\n\u001b[0;32m-> 1236\u001b[0;31m             util.raise_(\n\u001b[0m\u001b[1;32m   1237\u001b[0m                 exc.ResourceClosedError(\n\u001b[1;32m   1238\u001b[0m                     \u001b[0;34m\"This result object does not return rows. \"\u001b[0m\u001b[0;34m\u001b[0m\u001b[0;34m\u001b[0m\u001b[0m\n",
      "\u001b[0;32m/opt/anaconda3/lib/python3.8/site-packages/sqlalchemy/util/compat.py\u001b[0m in \u001b[0;36mraise_\u001b[0;34m(***failed resolving arguments***)\u001b[0m\n\u001b[1;32m    176\u001b[0m \u001b[0;34m\u001b[0m\u001b[0m\n\u001b[1;32m    177\u001b[0m         \u001b[0;32mtry\u001b[0m\u001b[0;34m:\u001b[0m\u001b[0;34m\u001b[0m\u001b[0;34m\u001b[0m\u001b[0m\n\u001b[0;32m--> 178\u001b[0;31m             \u001b[0;32mraise\u001b[0m \u001b[0mexception\u001b[0m\u001b[0;34m\u001b[0m\u001b[0;34m\u001b[0m\u001b[0m\n\u001b[0m\u001b[1;32m    179\u001b[0m         \u001b[0;32mfinally\u001b[0m\u001b[0;34m:\u001b[0m\u001b[0;34m\u001b[0m\u001b[0;34m\u001b[0m\u001b[0m\n\u001b[1;32m    180\u001b[0m             \u001b[0;31m# credit to\u001b[0m\u001b[0;34m\u001b[0m\u001b[0;34m\u001b[0m\u001b[0;34m\u001b[0m\u001b[0m\n",
      "\u001b[0;31mResourceClosedError\u001b[0m: This result object does not return rows. It has been closed automatically."
     ]
    }
   ],
   "source": [
    "deleteActor(new_name_basics_string_id,new_title_basics_string_id)"
   ]
  },
  {
   "cell_type": "code",
   "execution_count": 429,
   "metadata": {},
   "outputs": [
    {
     "data": {
      "text/html": [
       "<div>\n",
       "<style scoped>\n",
       "    .dataframe tbody tr th:only-of-type {\n",
       "        vertical-align: middle;\n",
       "    }\n",
       "\n",
       "    .dataframe tbody tr th {\n",
       "        vertical-align: top;\n",
       "    }\n",
       "\n",
       "    .dataframe thead th {\n",
       "        text-align: right;\n",
       "    }\n",
       "</style>\n",
       "<table border=\"1\" class=\"dataframe\">\n",
       "  <thead>\n",
       "    <tr style=\"text-align: right;\">\n",
       "      <th></th>\n",
       "      <th>nconst</th>\n",
       "      <th>primaryname</th>\n",
       "      <th>birthyear</th>\n",
       "      <th>deathyear</th>\n",
       "      <th>noofmovies</th>\n",
       "      <th>age</th>\n",
       "    </tr>\n",
       "  </thead>\n",
       "  <tbody>\n",
       "  </tbody>\n",
       "</table>\n",
       "</div>"
      ],
      "text/plain": [
       "Empty DataFrame\n",
       "Columns: [nconst, primaryname, birthyear, deathyear, noofmovies, age]\n",
       "Index: []"
      ]
     },
     "execution_count": 429,
     "metadata": {},
     "output_type": "execute_result"
    }
   ],
   "source": [
    "new_actor_deleted = pd.read_sql(f\"\"\"SELECT * FROM namebasics WHERE primaryName='RippleEffect'\"\"\", database_connection.connect())\n",
    "new_actor_deleted"
   ]
  },
  {
   "cell_type": "markdown",
   "metadata": {},
   "source": [
    "## QUESTION 11"
   ]
  },
  {
   "cell_type": "code",
   "execution_count": 401,
   "metadata": {},
   "outputs": [],
   "source": [
    "def retrieveActorNames():\n",
    "    \n",
    "    actor_retrieve = pd.read_sql(f\"\"\"SELECT DISTINCT subquery.primaryName,subquery.age FROM (SELECT primaryName,age, SUM(averageRating*numVotes)/SUM(numVotes) AS avgRating from namebasics as nb\n",
    "                                    INNER JOIN knownfortitles ktr on nb.nconst=ktr.namebasicsid\n",
    "                                    INNER JOIN titlebasics tb on ktr.knownfortitle=tb.tconst\n",
    "                                    INNER JOIN titleratings tr on tb.tconst=tr.tconst\n",
    "                                    WHERE tb.titleType='movie'\n",
    "                                    GROUP BY primaryName,age) AS subquery\n",
    "                                    WHERE avgRating > (SELECT SUM(averageRating*numVotes)/SUM(numVotes) FROM titleratings);\"\"\",database_connection.connect())\n",
    "    \n",
    "    return actor_retrieve"
   ]
  },
  {
   "cell_type": "code",
   "execution_count": 402,
   "metadata": {},
   "outputs": [
    {
     "data": {
      "text/html": [
       "<div>\n",
       "<style scoped>\n",
       "    .dataframe tbody tr th:only-of-type {\n",
       "        vertical-align: middle;\n",
       "    }\n",
       "\n",
       "    .dataframe tbody tr th {\n",
       "        vertical-align: top;\n",
       "    }\n",
       "\n",
       "    .dataframe thead th {\n",
       "        text-align: right;\n",
       "    }\n",
       "</style>\n",
       "<table border=\"1\" class=\"dataframe\">\n",
       "  <thead>\n",
       "    <tr style=\"text-align: right;\">\n",
       "      <th></th>\n",
       "      <th>primaryName</th>\n",
       "      <th>age</th>\n",
       "    </tr>\n",
       "  </thead>\n",
       "  <tbody>\n",
       "    <tr>\n",
       "      <th>0</th>\n",
       "      <td>L. Frank Baum</td>\n",
       "      <td>164.0</td>\n",
       "    </tr>\n",
       "    <tr>\n",
       "      <th>1</th>\n",
       "      <td>Will Morrison</td>\n",
       "      <td>NaN</td>\n",
       "    </tr>\n",
       "    <tr>\n",
       "      <th>2</th>\n",
       "      <td>William Gillespie</td>\n",
       "      <td>NaN</td>\n",
       "    </tr>\n",
       "    <tr>\n",
       "      <th>3</th>\n",
       "      <td>B.S. Ingemann</td>\n",
       "      <td>231.0</td>\n",
       "    </tr>\n",
       "    <tr>\n",
       "      <th>4</th>\n",
       "      <td>Grigore Brezeanu</td>\n",
       "      <td>128.0</td>\n",
       "    </tr>\n",
       "    <tr>\n",
       "      <th>...</th>\n",
       "      <td>...</td>\n",
       "      <td>...</td>\n",
       "    </tr>\n",
       "    <tr>\n",
       "      <th>685685</th>\n",
       "      <td>Eko Bareko</td>\n",
       "      <td>NaN</td>\n",
       "    </tr>\n",
       "    <tr>\n",
       "      <th>685686</th>\n",
       "      <td>Dedi Reksawardhana</td>\n",
       "      <td>NaN</td>\n",
       "    </tr>\n",
       "    <tr>\n",
       "      <th>685687</th>\n",
       "      <td>Novryanto T. Mahendra</td>\n",
       "      <td>NaN</td>\n",
       "    </tr>\n",
       "    <tr>\n",
       "      <th>685688</th>\n",
       "      <td>Adhi Purwanto</td>\n",
       "      <td>NaN</td>\n",
       "    </tr>\n",
       "    <tr>\n",
       "      <th>685689</th>\n",
       "      <td>Dimas Rizki</td>\n",
       "      <td>NaN</td>\n",
       "    </tr>\n",
       "  </tbody>\n",
       "</table>\n",
       "<p>685690 rows × 2 columns</p>\n",
       "</div>"
      ],
      "text/plain": [
       "                  primaryName    age\n",
       "0               L. Frank Baum  164.0\n",
       "1               Will Morrison    NaN\n",
       "2           William Gillespie    NaN\n",
       "3               B.S. Ingemann  231.0\n",
       "4            Grigore Brezeanu  128.0\n",
       "...                       ...    ...\n",
       "685685             Eko Bareko    NaN\n",
       "685686     Dedi Reksawardhana    NaN\n",
       "685687  Novryanto T. Mahendra    NaN\n",
       "685688          Adhi Purwanto    NaN\n",
       "685689            Dimas Rizki    NaN\n",
       "\n",
       "[685690 rows x 2 columns]"
      ]
     },
     "execution_count": 402,
     "metadata": {},
     "output_type": "execute_result"
    }
   ],
   "source": [
    "retrieveActorNames()"
   ]
  },
  {
   "cell_type": "code",
   "execution_count": null,
   "metadata": {},
   "outputs": [],
   "source": []
  }
 ],
 "metadata": {
  "kernelspec": {
   "display_name": "Python 3",
   "language": "python",
   "name": "python3"
  },
  "language_info": {
   "codemirror_mode": {
    "name": "ipython",
    "version": 3
   },
   "file_extension": ".py",
   "mimetype": "text/x-python",
   "name": "python",
   "nbconvert_exporter": "python",
   "pygments_lexer": "ipython3",
   "version": "3.8.3"
  }
 },
 "nbformat": 4,
 "nbformat_minor": 4
}
