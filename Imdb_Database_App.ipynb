{
 "cells": [
  {
   "cell_type": "markdown",
   "metadata": {},
   "source": [
    "\n",
    "# Practicum II - Movie Database Applicaton\n",
    "### Collaborators: Abasamia Akpan, Rebecca Brent and Alessia Pizzoccheri\n",
    "\n",
    "This Notebook provides context, documentation and sample code for a Database Application using IMBd datasets; for clarity, this document has been divided into the following sections:\n",
    "\n",
    "### 1. Introduction\n",
    "### 2. Assumptions\n",
    "### 3. Logical Models\n",
    "### 4. Database and Relations Definition¶\n",
    "### 1. Introduction\n",
    "#### 1.1. Looking at the data\n",
    "In this section, we analyze and deconstruct the various data sets found on the IMBd page; data is organized in seven TSV files, specifically:\n",
    "\n",
    "Title AKAs\n",
    "Title Basics\n",
    "Title Episodes\n",
    "Title Ratings\n",
    "Title Crew\n",
    "Name Basics\n",
    "Title Principles Our first step is to establish relationships between each data set and identify a primary key (PK) on each table. Since no information was provided regarding the role of columns, we devised a solution to find unique identifiers within each data set; that is, for each table we compare the total number of rows against the total number of unique values for a given column.\n",
    "1.2 Establishing PKs\n",
    "Following the system aforementioned, we identified the following primary keys"
   ]
  },
  {
   "cell_type": "code",
   "execution_count": 11,
   "metadata": {
    "scrolled": true
   },
   "outputs": [
    {
     "name": "stdout",
     "output_type": "stream",
     "text": [
      "Requirement already satisfied: prettytable in c:\\users\\rbren\\appdata\\local\\programs\\python\\python38\\lib\\site-packages (1.0.1)\n",
      "Requirement already satisfied: wcwidth in c:\\users\\rbren\\appdata\\local\\programs\\python\\python38\\lib\\site-packages (from prettytable) (0.2.5)\n",
      "Requirement already satisfied: setuptools in c:\\users\\rbren\\appdata\\local\\programs\\python\\python38\\lib\\site-packages (from prettytable) (41.2.0)\n"
     ]
    },
    {
     "name": "stderr",
     "output_type": "stream",
     "text": [
      "WARNING: pip is being invoked by an old script wrapper. This will fail in a future version of pip.\n",
      "Please see https://github.com/pypa/pip/issues/5599 for advice on fixing the underlying issue.\n",
      "To avoid this problem you can invoke Python with '-m pip' instead of running pip directly.\n",
      "WARNING: You are using pip version 20.2; however, version 20.2.4 is available.\n",
      "You should consider upgrading via the 'c:\\users\\rbren\\appdata\\local\\programs\\python\\python38\\python.exe -m pip install --upgrade pip' command.\n"
     ]
    },
    {
     "name": "stdout",
     "output_type": "stream",
     "text": [
      "Requirement already satisfied: mysql-connector-python in c:\\users\\rbren\\appdata\\local\\programs\\python\\python38\\lib\\site-packages (8.0.21)\n",
      "Requirement already satisfied: protobuf>=3.0.0 in c:\\users\\rbren\\appdata\\local\\programs\\python\\python38\\lib\\site-packages (from mysql-connector-python) (3.13.0)\n",
      "Requirement already satisfied: six>=1.9 in c:\\users\\rbren\\appdata\\local\\programs\\python\\python38\\lib\\site-packages (from protobuf>=3.0.0->mysql-connector-python) (1.15.0)\n",
      "Requirement already satisfied: setuptools in c:\\users\\rbren\\appdata\\local\\programs\\python\\python38\\lib\\site-packages (from protobuf>=3.0.0->mysql-connector-python) (41.2.0)\n"
     ]
    },
    {
     "name": "stderr",
     "output_type": "stream",
     "text": [
      "WARNING: pip is being invoked by an old script wrapper. This will fail in a future version of pip.\n",
      "Please see https://github.com/pypa/pip/issues/5599 for advice on fixing the underlying issue.\n",
      "To avoid this problem you can invoke Python with '-m pip' instead of running pip directly.\n",
      "WARNING: You are using pip version 20.2; however, version 20.2.4 is available.\n",
      "You should consider upgrading via the 'c:\\users\\rbren\\appdata\\local\\programs\\python\\python38\\python.exe -m pip install --upgrade pip' command.\n"
     ]
    },
    {
     "name": "stdout",
     "output_type": "stream",
     "text": [
      "Requirement already satisfied: tqdm in c:\\users\\rbren\\appdata\\local\\programs\\python\\python38\\lib\\site-packages (4.51.0)\n"
     ]
    },
    {
     "name": "stderr",
     "output_type": "stream",
     "text": [
      "WARNING: pip is being invoked by an old script wrapper. This will fail in a future version of pip.\n",
      "Please see https://github.com/pypa/pip/issues/5599 for advice on fixing the underlying issue.\n",
      "To avoid this problem you can invoke Python with '-m pip' instead of running pip directly.\n",
      "WARNING: You are using pip version 20.2; however, version 20.2.4 is available.\n",
      "You should consider upgrading via the 'c:\\users\\rbren\\appdata\\local\\programs\\python\\python38\\python.exe -m pip install --upgrade pip' command.\n"
     ]
    },
    {
     "name": "stdout",
     "output_type": "stream",
     "text": [
      "Requirement already satisfied: pymysql in c:\\users\\rbren\\appdata\\local\\programs\\python\\python38\\lib\\site-packages (0.10.1)\n"
     ]
    },
    {
     "name": "stderr",
     "output_type": "stream",
     "text": [
      "WARNING: pip is being invoked by an old script wrapper. This will fail in a future version of pip.\n",
      "Please see https://github.com/pypa/pip/issues/5599 for advice on fixing the underlying issue.\n",
      "To avoid this problem you can invoke Python with '-m pip' instead of running pip directly.\n",
      "WARNING: You are using pip version 20.2; however, version 20.2.4 is available.\n",
      "You should consider upgrading via the 'c:\\users\\rbren\\appdata\\local\\programs\\python\\python38\\python.exe -m pip install --upgrade pip' command.\n"
     ]
    }
   ],
   "source": [
    "\n",
    "import pandas as pd\n",
    "import numpy as np\n",
    "import os\n",
    "import sys\n",
    "import pip\n",
    "pip.main(['install','prettytable'])\n",
    "pip.main(['install','mysql-connector-python'])\n",
    "pip.main(['install','tqdm'])\n",
    "pip.main(['install','pymysql'])\n",
    "\n",
    "from tqdm import tqdm\n",
    "import mysql.connector\n",
    "from prettytable import PrettyTable \n",
    "from prettytable import from_csv\n",
    "from mysql.connector import Error\n"
   ]
  },
  {
   "cell_type": "code",
   "execution_count": 21,
   "metadata": {},
   "outputs": [
    {
     "name": "stdout",
     "output_type": "stream",
     "text": [
      "Connection to MySQL DB successful\n",
      "Database created successfully\n",
      "Connection to MySQL DB successful\n",
      "Successfully created table: titlebasics\n",
      "Successfully created table: titleratings\n",
      "Successfully created table: titleepisodes\n",
      "Successfully created table: namebasics\n",
      "Successfully created table: genres\n",
      "Successfully created table: knownfortitles\n",
      "Successfully created table: primaryprofession\n",
      "Successfully created table: genretitlebasics\n",
      "Successfully created table: primaryprofessiontitlenames\n"
     ]
    }
   ],
   "source": [
    "def create_connection_nodb(host_name, user_name, user_password):\n",
    "    \"\"\" create a connection to mysql host\n",
    "    :param host_name: string host name (ie. \"localhost\")\n",
    "    :param user_name: string username (ie. \"root\")\n",
    "    :param user_password: string the password to connect to mysql\n",
    "    :return: connection object\n",
    "    \"\"\"\n",
    "    connection = None\n",
    "    try:\n",
    "        connection = mysql.connector.connect(\n",
    "            host=host_name,\n",
    "            user=user_name,\n",
    "            passwd=user_password\n",
    "        )\n",
    "        print(\"Connection to MySQL DB successful\")\n",
    "    except Error as e:\n",
    "        print(f\"The error '{e}' occurred\")\n",
    "\n",
    "    return connection\n",
    "\n",
    "def create_database(connection, db_name):\n",
    "    \"\"\" create a database \n",
    "    :param connection: Connection object\n",
    "    :param db_name: name of database in form of string\n",
    "    :return:\n",
    "    \"\"\"\n",
    "    cursor = connection.cursor()\n",
    "    try:\n",
    "        query = \"CREATE DATABASE IF NOT EXISTS \" + db_name\n",
    "        cursor.execute(query)\n",
    "        print(\"Database created successfully\")\n",
    "    except Error as e:\n",
    "        print(f\"The error '{e}' occurred\")\n",
    "        \n",
    "def create_connection(host_name, user_name, user_password, db_name):\n",
    "    \"\"\" create a connection to the (possibly newly created) database\n",
    "    :param host_name: string host name (ie. \"localhost\")\n",
    "    :param user_name: string username (ie. \"root\")\n",
    "    :param user_password: string the password to connect to mysql\n",
    "    :param db_name: string name of database \n",
    "    :return: connection object\n",
    "    \"\"\"\n",
    "    connection = None\n",
    "    try:\n",
    "        connection = mysql.connector.connect(\n",
    "            host=host_name,\n",
    "            user=user_name,\n",
    "            passwd=user_password,\n",
    "            database=db_name\n",
    "        )\n",
    "        print(\"Connection to MySQL DB successful\")\n",
    "    except Error as e:\n",
    "        print(f\"The error '{e}' occurred\")\n",
    "\n",
    "    return connection\n",
    "\n",
    "def create_table(conn, create_table_sql):\n",
    "    \"\"\" create a table from the create_table_sql statement\n",
    "    :param conn: Connection object\n",
    "    :param create_table_sql: a CREATE TABLE statement\n",
    "    :return:\n",
    "    \"\"\"\n",
    "    try:\n",
    "        c = conn.cursor()\n",
    "        c.execute(create_table_sql)\n",
    "        table_name = create_table_sql.split(\" \")[5].split(\"(\")[0]\n",
    "        print(\"Successfully created table: \" + table_name)\n",
    "    except Error as e:\n",
    "        print(e)\n",
    "        \n",
    "def main():\n",
    "    \n",
    "    database = \"imdb\"\n",
    "    host_name = \"localhost\"\n",
    "    user_name = \"root\"\n",
    "    user_password = \"Odyssey22\"\n",
    "    \n",
    "    create_table_titlebasics = \"\"\"CREATE TABLE IF NOT EXISTS titlebasics(\n",
    "                                    tconst VARCHAR(11) PRIMARY KEY,\n",
    "                                    titleType TEXT,\n",
    "                                    primaryTitle MEDIUMTEXT,\n",
    "                                    originalTitle MEDIUMTEXT,\n",
    "                                    isAdult BOOLEAN,\n",
    "                                    startYear DATE,\n",
    "                                    endYear DATE,\n",
    "                                    runTimeMinutes TIME)\"\"\"\n",
    "    \n",
    "    create_table_titleratings = \"\"\"CREATE TABLE IF NOT EXISTS titleratings(\n",
    "                                    tconst VARCHAR(11) PRIMARY KEY,\n",
    "                                    averageRating FLOAT,\n",
    "                                    numVotes INT,\n",
    "                                    FOREIGN KEY (tconst) REFERENCES titlebasics(tconst))\"\"\"\n",
    "\n",
    "\n",
    "    create_table_titleepisodes = \"\"\"CREATE TABLE IF NOT EXISTS titleepisodes(\n",
    "                                    tconst VARCHAR(11) PRIMARY KEY,\n",
    "                                    seasonNumber INT,\n",
    "                                    episodeNumber INT,\n",
    "                                    parentTconst VARCHAR(11),\n",
    "                                    FOREIGN KEY (parentTconst) REFERENCES titlebasics(tconst))\"\"\"\n",
    "\n",
    "\n",
    "    create_table_namebasics = \"\"\"CREATE TABLE IF NOT EXISTS namebasics(\n",
    "                                nconst VARCHAR(11) PRIMARY KEY,\n",
    "                                primaryname TEXT,\n",
    "                                birthyear DATE,\n",
    "                                deathyear DATE,\n",
    "                                noofmovies INT,\n",
    "                                age INT,\n",
    "                                currentdate DATE)\"\"\"\n",
    "    \n",
    "    \n",
    "    create_table_genres = \"\"\"CREATE TABLE IF NOT EXISTS genres(\n",
    "                                genreID INT AUTO_INCREMENT  PRIMARY KEY,\n",
    "                                genre VARCHAR(256) UNIQUE)\"\"\"\n",
    "    \n",
    "    create_table_primaryprofession = \"\"\"CREATE TABLE IF NOT EXISTS primaryprofession(\n",
    "                                primaryprofessionID INT AUTO_INCREMENT PRIMARY KEY,\n",
    "                                profession VARCHAR(256) UNIQUE)\"\"\"\n",
    "    \n",
    " \n",
    "    \n",
    "    \n",
    "    create_table_genretitlebasics = \"\"\"CREATE TABLE IF NOT EXISTS genretitlebasics(\n",
    "                                titlebasicsID VARCHAR(11),\n",
    "                                genreID INT,\n",
    "                                PRIMARY KEY (titlebasicsID, genreID),\n",
    "                                FOREIGN KEY (titlebasicsID) REFERENCES titlebasics(tconst),\n",
    "                                FOREIGN KEY (genreID) REFERENCES genres(genreID))\"\"\"\n",
    "    \n",
    "\n",
    "    \n",
    "    create_table_primaryprofessiontitlenames = \"\"\"CREATE TABLE IF NOT EXISTS primaryprofessiontitlenames(\n",
    "                                primaryprofessionid INT,\n",
    "                                namebasicsid VARCHAR(11),\n",
    "                                PRIMARY KEY (primaryprofessionid, namebasicsid),\n",
    "                                FOREIGN KEY (primaryprofessionid) REFERENCES primaryprofession(primaryprofessionid),\n",
    "                                FOREIGN KEY (namebasicsid) REFERENCES namebasics(nconst))\"\"\"\n",
    "    \n",
    "    create_table_knownfortitles = \"\"\"CREATE TABLE IF NOT EXISTS knownfortitles(\n",
    "                                namebasicsid VARCHAR(11),\n",
    "                                knownfortitle VARCHAR(11),\n",
    "                                PRIMARY KEY (namebasicsid, knownfortitle),\n",
    "                                FOREIGN KEY (namebasicsid) REFERENCES namebasics(nconst),\n",
    "                                FOREIGN KEY (knownfortitle) REFERENCES titlebasics(tconst))\"\"\"\n",
    "    \n",
    "    \n",
    "    conn = create_connection_nodb(host_name, user_name, user_password)\n",
    "    \n",
    "    # create database object if not already created and then connect the cursor to it\n",
    "    if conn is not None:\n",
    "        c = conn.cursor()\n",
    "        #  c.execute('DROP DATABASE imdb')\n",
    "        create_database(conn, database)\n",
    "        conn = create_connection(host_name, user_name, user_password, database)\n",
    "        \n",
    "        # create tables\n",
    "        if conn is not None:\n",
    "            \n",
    "            # create Title Basics table\n",
    "            create_table(conn, create_table_titlebasics)\n",
    "\n",
    "            # create Title Ratings table\n",
    "            create_table(conn, create_table_titleratings)\n",
    "            \n",
    "            # create title episodes table\n",
    "            create_table(conn, create_table_titleepisodes)\n",
    "            \n",
    "            # create name basics table\n",
    "            create_table(conn, create_table_namebasics)\n",
    "            \n",
    "            # create genres table\n",
    "            create_table(conn,create_table_genres)\n",
    "            \n",
    "            # create known for titles table\n",
    "            create_table(conn,create_table_knownfortitles)\n",
    "            \n",
    "            # create primary profession table\n",
    "            create_table(conn,create_table_primaryprofession)\n",
    "            \n",
    "            # create genre title basics table\n",
    "            create_table(conn, create_table_genretitlebasics)\n",
    "\n",
    "            # create Primary Profession Title Names table\n",
    "            create_table(conn, create_table_primaryprofessiontitlenames)\n",
    "            \n",
    "                \n",
    "        else:\n",
    "            print(\"Error! cannot create the database connection.\")\n",
    "    \n",
    "    else:\n",
    "        print(\"Error! Cannot create the MySQL connection.\")\n",
    "    \n",
    "    \n",
    "\n",
    "\n",
    "if __name__ == '__main__':\n",
    "    main()\n"
   ]
  },
  {
   "cell_type": "markdown",
   "metadata": {},
   "source": [
    "## SQL communication helper ##"
   ]
  },
  {
   "cell_type": "code",
   "execution_count": 2,
   "metadata": {},
   "outputs": [],
   "source": [
    "import sqlalchemy\n",
    "database_username = 'root'\n",
    "database_password = 'Odyssey22'\n",
    "database_ip       = 'localhost'\n",
    "database_name     = 'imdb'\n",
    "database_connection = sqlalchemy.create_engine('mysql+mysqlconnector://{0}:{1}@{2}/{3}'.\n",
    "                                               format(database_username, database_password, \n",
    "                                                      database_ip, database_name))"
   ]
  },
  {
   "cell_type": "code",
   "execution_count": 3,
   "metadata": {},
   "outputs": [],
   "source": [
    "## Helper Functions"
   ]
  },
  {
   "cell_type": "code",
   "execution_count": 4,
   "metadata": {},
   "outputs": [],
   "source": [
    "def load_dataframe(data_frame,table_name):\n",
    "    data_frame_new=data_frame\n",
    "    \n",
    "    data_frame_new.to_sql(table_name,con=database_connection, if_exists='append',index=False)\n",
    "    \n",
    "    return \n",
    "\n",
    "def batch(iterable, n=1):\n",
    "    l = len(iterable)\n",
    "    for ndx in range(0, l, n):\n",
    "        yield iterable[ndx:min(ndx + n, l)]"
   ]
  },
  {
   "cell_type": "code",
   "execution_count": 5,
   "metadata": {},
   "outputs": [],
   "source": [
    "def preprocess_dataframe_parsing(data_frame, column_name, final_column_name):\n",
    "    \n",
    "    data_frame=data_frame.to_frame()\n",
    "    data_frame=data_frame.assign(name=data_frame[column_name].str.split(\",\"))\n",
    "    #type(x.iloc[0,1])\n",
    "    data_frame=data_frame.explode('name')\n",
    "    data_preprocessed_unique= pd.DataFrame(data_frame.name.unique())\n",
    "    data_preprocessed_unique_column_rename=data_preprocessed_unique.rename(columns={0:final_column_name})\n",
    "    \n",
    "    return data_preprocessed_unique_column_rename"
   ]
  },
  {
   "cell_type": "markdown",
   "metadata": {},
   "source": [
    "## Title Basics"
   ]
  },
  {
   "cell_type": "code",
   "execution_count": 24,
   "metadata": {},
   "outputs": [
    {
     "name": "stderr",
     "output_type": "stream",
     "text": [
      "c:\\users\\rbren\\appdata\\local\\programs\\python\\python38\\lib\\site-packages\\IPython\\core\\interactiveshell.py:3146: DtypeWarning: Columns (5) have mixed types.Specify dtype option on import or set low_memory=False.\n",
      "  has_raised = await self.run_ast_nodes(code_ast.body, cell_name,\n"
     ]
    }
   ],
   "source": [
    "# read title basic file\n",
    "title_basics = pd.read_csv('title.basics.tsv', delimiter='\\t',encoding='utf-8')"
   ]
  },
  {
   "cell_type": "code",
   "execution_count": 11,
   "metadata": {},
   "outputs": [],
   "source": [
    "def preprocess_dataframe__for_genres(data_frame):\n",
    "    df = data_frame\n",
    "    lst_col = 'genres'\n",
    "  \n",
    "    df = df.drop(['titleType'], axis=1)\n",
    "    df = df.drop(['primaryTitle'], axis=1)\n",
    "    df = df.drop(['originalTitle'], axis=1)\n",
    "    df=df.drop(['isAdult'], axis=1)\n",
    "    df=df.drop(['startYear'], axis=1)\n",
    "    df=df.drop(['endYear'], axis=1)\n",
    "    df=df.drop(['runtimeMinutes'],axis=1)\n",
    "    \n",
    "    x = df.assign(**{lst_col:df[lst_col].str.split(',')})\n",
    "    genres_df = x.explode('genres')\n",
    "\n",
    "    return genres_df\n",
    "\n",
    "df =  preprocess_dataframe__for_genres(title_basics)\n",
    "\n",
    "\n",
    "genres_preprocessed=preprocess_dataframe_parsing(title_basics.genres, \"genres\", \"genre\")\n",
    "genre_dict = genres_preprocessed['genre'].to_dict()\n",
    "inv_map = {v: k for k, v in genre_dict.items()}\n",
    "df = df.replace({\"genres\":inv_map})\n",
    "df = df.rename(columns={\"tconst\" : \"titlebasicsID\", \"genres\" : \"genreID\"})\n",
    "df.genreID = df.genreID + 1 "
   ]
  },
  {
   "cell_type": "code",
   "execution_count": 24,
   "metadata": {},
   "outputs": [
    {
     "name": "stderr",
     "output_type": "stream",
     "text": [
      "100%|████████████████████████████████████████████████████████████████████████████████████| 1/1 [00:00<00:00, 12.24it/s]\n"
     ]
    }
   ],
   "source": [
    "batch_size=100000\n",
    "length=(len(genres_preprocessed)//batch_size)+1\n",
    "for chunk in tqdm(batch(genres_preprocessed,batch_size),total=length):\n",
    "    load_dataframe(chunk,'genres')"
   ]
  },
  {
   "cell_type": "code",
   "execution_count": 25,
   "metadata": {},
   "outputs": [],
   "source": [
    "def preprocess_dataframe_title_basics(data_frame):\n",
    "    title_basics_new_series=data_frame\n",
    "\n",
    "    b = pd.to_datetime(title_basics_new_series['runtimeMinutes'], errors='coerce', format='%M')\n",
    "\n",
    "    b.to_frame().runtimeMinutes\n",
    "    df_1 = pd.DataFrame(dict(time_stamps = b)) \n",
    "\n",
    "    df_1['runtimeMinutes'] = df_1['time_stamps'].dt.minute\n",
    "    title_basics_new_series=title_basics_new_series.drop(['runtimeMinutes'],axis=1)\n",
    "    title_basics_new_series['runtimeMinutes']=df_1['runtimeMinutes']\n",
    "    \n",
    "    title_basics_new_frame_transpose=title_basics_new_series.astype({'isAdult': 'int32'})\n",
    "    \n",
    "    title_basics_new_frame_transpose[\"isAdult\"]=title_basics_new_frame_transpose.isAdult.mask(title_basics_new_frame_transpose.isAdult > 1,1)\n",
    "\n",
    "    title_basics_new_frame_transpose['startYear']= pd.to_datetime(title_basics.startYear, errors='coerce', format='%Y')\n",
    "\n",
    "    \n",
    "    title_basics_new_frame_transpose['endYear']= pd.to_datetime(title_basics.endYear, errors='coerce', format='%Y')\n",
    "    title_basics_new_frame_transpose=title_basics_new_frame_transpose.drop(['genres'],axis=1)\n",
    "  \n",
    "\n",
    "    title_basics_new_frame_transpose_new=title_basics_new_frame_transpose.rename(columns={\"runtimeMinutes\": \"runTimeMinutes\"})\n",
    "\n",
    "    return title_basics_new_frame_transpose_new\n",
    "\n",
    "title_basics_preprocessed=preprocess_dataframe_title_basics(title_basics)"
   ]
  },
  {
   "cell_type": "code",
   "execution_count": 23,
   "metadata": {},
   "outputs": [
    {
     "name": "stderr",
     "output_type": "stream",
     "text": [
      "100%|████████████████████████████████████████████████████████████████████████████████| 732/732 [05:11<00:00,  2.35it/s]\n"
     ]
    }
   ],
   "source": [
    "batch_size = 10000\n",
    "length = len(title_basics_preprocessed)//batch_size+1\n",
    "\n",
    "for chunk in tqdm(batch(title_basics_preprocessed, batch_size),total=length):\n",
    "    load_dataframe(chunk,'titlebasics')"
   ]
  },
  {
   "cell_type": "code",
   "execution_count": 25,
   "metadata": {},
   "outputs": [
    {
     "name": "stderr",
     "output_type": "stream",
     "text": [
      "100%|██████████████████████████████████████████████████████████████████████████████| 1163/1163 [07:49<00:00,  2.48it/s]\n"
     ]
    }
   ],
   "source": [
    "batch_size = 10000\n",
    "length = len(df)//batch_size+1\n",
    "\n",
    "for chunk in tqdm(batch(df,batch_size),total=length):\n",
    "    load_dataframe(chunk,'genretitlebasics')\n",
    "    \n",
    "del df"
   ]
  },
  {
   "cell_type": "markdown",
   "metadata": {},
   "source": [
    "## Title ratings ##"
   ]
  },
  {
   "cell_type": "code",
   "execution_count": 26,
   "metadata": {},
   "outputs": [
    {
     "data": {
      "text/html": [
       "<div>\n",
       "<style scoped>\n",
       "    .dataframe tbody tr th:only-of-type {\n",
       "        vertical-align: middle;\n",
       "    }\n",
       "\n",
       "    .dataframe tbody tr th {\n",
       "        vertical-align: top;\n",
       "    }\n",
       "\n",
       "    .dataframe thead th {\n",
       "        text-align: right;\n",
       "    }\n",
       "</style>\n",
       "<table border=\"1\" class=\"dataframe\">\n",
       "  <thead>\n",
       "    <tr style=\"text-align: right;\">\n",
       "      <th></th>\n",
       "      <th>tconst</th>\n",
       "      <th>averageRating</th>\n",
       "      <th>numVotes</th>\n",
       "    </tr>\n",
       "  </thead>\n",
       "  <tbody>\n",
       "    <tr>\n",
       "      <th>0</th>\n",
       "      <td>tt0000001</td>\n",
       "      <td>5.6</td>\n",
       "      <td>1658</td>\n",
       "    </tr>\n",
       "    <tr>\n",
       "      <th>1</th>\n",
       "      <td>tt0000002</td>\n",
       "      <td>6.1</td>\n",
       "      <td>201</td>\n",
       "    </tr>\n",
       "    <tr>\n",
       "      <th>2</th>\n",
       "      <td>tt0000003</td>\n",
       "      <td>6.5</td>\n",
       "      <td>1370</td>\n",
       "    </tr>\n",
       "    <tr>\n",
       "      <th>3</th>\n",
       "      <td>tt0000004</td>\n",
       "      <td>6.2</td>\n",
       "      <td>122</td>\n",
       "    </tr>\n",
       "    <tr>\n",
       "      <th>4</th>\n",
       "      <td>tt0000005</td>\n",
       "      <td>6.2</td>\n",
       "      <td>2158</td>\n",
       "    </tr>\n",
       "    <tr>\n",
       "      <th>...</th>\n",
       "      <td>...</td>\n",
       "      <td>...</td>\n",
       "      <td>...</td>\n",
       "    </tr>\n",
       "    <tr>\n",
       "      <th>1087762</th>\n",
       "      <td>tt9916580</td>\n",
       "      <td>7.2</td>\n",
       "      <td>5</td>\n",
       "    </tr>\n",
       "    <tr>\n",
       "      <th>1087763</th>\n",
       "      <td>tt9916690</td>\n",
       "      <td>6.6</td>\n",
       "      <td>5</td>\n",
       "    </tr>\n",
       "    <tr>\n",
       "      <th>1087764</th>\n",
       "      <td>tt9916720</td>\n",
       "      <td>6.0</td>\n",
       "      <td>66</td>\n",
       "    </tr>\n",
       "    <tr>\n",
       "      <th>1087765</th>\n",
       "      <td>tt9916766</td>\n",
       "      <td>6.9</td>\n",
       "      <td>14</td>\n",
       "    </tr>\n",
       "    <tr>\n",
       "      <th>1087766</th>\n",
       "      <td>tt9916778</td>\n",
       "      <td>7.3</td>\n",
       "      <td>24</td>\n",
       "    </tr>\n",
       "  </tbody>\n",
       "</table>\n",
       "<p>1087767 rows × 3 columns</p>\n",
       "</div>"
      ],
      "text/plain": [
       "            tconst  averageRating  numVotes\n",
       "0        tt0000001            5.6      1658\n",
       "1        tt0000002            6.1       201\n",
       "2        tt0000003            6.5      1370\n",
       "3        tt0000004            6.2       122\n",
       "4        tt0000005            6.2      2158\n",
       "...            ...            ...       ...\n",
       "1087762  tt9916580            7.2         5\n",
       "1087763  tt9916690            6.6         5\n",
       "1087764  tt9916720            6.0        66\n",
       "1087765  tt9916766            6.9        14\n",
       "1087766  tt9916778            7.3        24\n",
       "\n",
       "[1087767 rows x 3 columns]"
      ]
     },
     "execution_count": 26,
     "metadata": {},
     "output_type": "execute_result"
    }
   ],
   "source": [
    "# read data from title ratings file\n",
    "title_ratings = pd.read_csv('title.ratings.tsv', delimiter='\\t',encoding='utf-8')\n",
    "title_ratings"
   ]
  },
  {
   "cell_type": "code",
   "execution_count": 27,
   "metadata": {},
   "outputs": [],
   "source": [
    "def preprocess_dataframe_title_ratings(data_frame):\n",
    "    title_ratings_new_series=data_frame\n",
    "    \n",
    "    title_ratings_new_frame_avg_rating= title_ratings_new_series.astype({'averageRating': 'float'})\n",
    "    title_ratings_new_frame_avg_rating= title_ratings_new_series.astype({'numVotes': 'int32'})\n",
    "    #title_ratings_preprocessed.tconst = title_ratings_preprocessed.tconst.mask(~title_ratings_preprocessed.tconst.isin(title_basics_preprocessed.tconst),None)\n",
    "    return title_ratings_new_frame_avg_rating\n",
    "title_ratings_preprocessed=preprocess_dataframe_title_ratings(title_ratings)"
   ]
  },
  {
   "cell_type": "code",
   "execution_count": 29,
   "metadata": {},
   "outputs": [
    {
     "name": "stderr",
     "output_type": "stream",
     "text": [
      "100%|██████████████████████████████████████████████████████████████████████████████████| 11/11 [00:42<00:00,  3.83s/it]\n"
     ]
    }
   ],
   "source": [
    "batch_size = 100000\n",
    "length = len(title_ratings_preprocessed)//batch_size+1\n",
    "\n",
    "for chunk in tqdm(batch(title_ratings_preprocessed,batch_size),total=length):\n",
    "    load_dataframe(chunk,'titleratings')"
   ]
  },
  {
   "cell_type": "markdown",
   "metadata": {},
   "source": [
    "## Title Episodes ##"
   ]
  },
  {
   "cell_type": "code",
   "execution_count": 33,
   "metadata": {},
   "outputs": [
    {
     "data": {
      "text/html": [
       "<div>\n",
       "<style scoped>\n",
       "    .dataframe tbody tr th:only-of-type {\n",
       "        vertical-align: middle;\n",
       "    }\n",
       "\n",
       "    .dataframe tbody tr th {\n",
       "        vertical-align: top;\n",
       "    }\n",
       "\n",
       "    .dataframe thead th {\n",
       "        text-align: right;\n",
       "    }\n",
       "</style>\n",
       "<table border=\"1\" class=\"dataframe\">\n",
       "  <thead>\n",
       "    <tr style=\"text-align: right;\">\n",
       "      <th></th>\n",
       "      <th>tconst</th>\n",
       "      <th>parentTconst</th>\n",
       "      <th>seasonNumber</th>\n",
       "      <th>episodeNumber</th>\n",
       "    </tr>\n",
       "  </thead>\n",
       "  <tbody>\n",
       "    <tr>\n",
       "      <th>0</th>\n",
       "      <td>tt0041951</td>\n",
       "      <td>tt0041038</td>\n",
       "      <td>1</td>\n",
       "      <td>9</td>\n",
       "    </tr>\n",
       "    <tr>\n",
       "      <th>1</th>\n",
       "      <td>tt0042816</td>\n",
       "      <td>tt0989125</td>\n",
       "      <td>1</td>\n",
       "      <td>17</td>\n",
       "    </tr>\n",
       "    <tr>\n",
       "      <th>2</th>\n",
       "      <td>tt0042889</td>\n",
       "      <td>tt0989125</td>\n",
       "      <td>\\N</td>\n",
       "      <td>\\N</td>\n",
       "    </tr>\n",
       "    <tr>\n",
       "      <th>3</th>\n",
       "      <td>tt0043426</td>\n",
       "      <td>tt0040051</td>\n",
       "      <td>3</td>\n",
       "      <td>42</td>\n",
       "    </tr>\n",
       "    <tr>\n",
       "      <th>4</th>\n",
       "      <td>tt0043631</td>\n",
       "      <td>tt0989125</td>\n",
       "      <td>2</td>\n",
       "      <td>16</td>\n",
       "    </tr>\n",
       "    <tr>\n",
       "      <th>...</th>\n",
       "      <td>...</td>\n",
       "      <td>...</td>\n",
       "      <td>...</td>\n",
       "      <td>...</td>\n",
       "    </tr>\n",
       "    <tr>\n",
       "      <th>5273074</th>\n",
       "      <td>tt9916846</td>\n",
       "      <td>tt1289683</td>\n",
       "      <td>3</td>\n",
       "      <td>18</td>\n",
       "    </tr>\n",
       "    <tr>\n",
       "      <th>5273075</th>\n",
       "      <td>tt9916848</td>\n",
       "      <td>tt1289683</td>\n",
       "      <td>3</td>\n",
       "      <td>17</td>\n",
       "    </tr>\n",
       "    <tr>\n",
       "      <th>5273076</th>\n",
       "      <td>tt9916850</td>\n",
       "      <td>tt1289683</td>\n",
       "      <td>3</td>\n",
       "      <td>19</td>\n",
       "    </tr>\n",
       "    <tr>\n",
       "      <th>5273077</th>\n",
       "      <td>tt9916852</td>\n",
       "      <td>tt1289683</td>\n",
       "      <td>3</td>\n",
       "      <td>20</td>\n",
       "    </tr>\n",
       "    <tr>\n",
       "      <th>5273078</th>\n",
       "      <td>tt9916880</td>\n",
       "      <td>tt0985991</td>\n",
       "      <td>4</td>\n",
       "      <td>2</td>\n",
       "    </tr>\n",
       "  </tbody>\n",
       "</table>\n",
       "<p>5273079 rows × 4 columns</p>\n",
       "</div>"
      ],
      "text/plain": [
       "            tconst parentTconst seasonNumber episodeNumber\n",
       "0        tt0041951    tt0041038            1             9\n",
       "1        tt0042816    tt0989125            1            17\n",
       "2        tt0042889    tt0989125           \\N            \\N\n",
       "3        tt0043426    tt0040051            3            42\n",
       "4        tt0043631    tt0989125            2            16\n",
       "...            ...          ...          ...           ...\n",
       "5273074  tt9916846    tt1289683            3            18\n",
       "5273075  tt9916848    tt1289683            3            17\n",
       "5273076  tt9916850    tt1289683            3            19\n",
       "5273077  tt9916852    tt1289683            3            20\n",
       "5273078  tt9916880    tt0985991            4             2\n",
       "\n",
       "[5273079 rows x 4 columns]"
      ]
     },
     "execution_count": 33,
     "metadata": {},
     "output_type": "execute_result"
    }
   ],
   "source": [
    "# read title episodes data\n",
    "title_episodes = pd.read_csv('title.episode.tsv', delimiter='\\t',encoding='utf-8')\n",
    "title_episodes"
   ]
  },
  {
   "cell_type": "code",
   "execution_count": 34,
   "metadata": {},
   "outputs": [
    {
     "data": {
      "text/html": [
       "<div>\n",
       "<style scoped>\n",
       "    .dataframe tbody tr th:only-of-type {\n",
       "        vertical-align: middle;\n",
       "    }\n",
       "\n",
       "    .dataframe tbody tr th {\n",
       "        vertical-align: top;\n",
       "    }\n",
       "\n",
       "    .dataframe thead th {\n",
       "        text-align: right;\n",
       "    }\n",
       "</style>\n",
       "<table border=\"1\" class=\"dataframe\">\n",
       "  <thead>\n",
       "    <tr style=\"text-align: right;\">\n",
       "      <th></th>\n",
       "      <th>tconst</th>\n",
       "      <th>parentTconst</th>\n",
       "      <th>seasonNumber</th>\n",
       "      <th>episodeNumber</th>\n",
       "    </tr>\n",
       "  </thead>\n",
       "  <tbody>\n",
       "    <tr>\n",
       "      <th>0</th>\n",
       "      <td>tt0041951</td>\n",
       "      <td>tt0041038</td>\n",
       "      <td>1.0</td>\n",
       "      <td>9.0</td>\n",
       "    </tr>\n",
       "    <tr>\n",
       "      <th>1</th>\n",
       "      <td>tt0042816</td>\n",
       "      <td>tt0989125</td>\n",
       "      <td>1.0</td>\n",
       "      <td>17.0</td>\n",
       "    </tr>\n",
       "    <tr>\n",
       "      <th>2</th>\n",
       "      <td>tt0042889</td>\n",
       "      <td>tt0989125</td>\n",
       "      <td>NaN</td>\n",
       "      <td>NaN</td>\n",
       "    </tr>\n",
       "    <tr>\n",
       "      <th>3</th>\n",
       "      <td>tt0043426</td>\n",
       "      <td>tt0040051</td>\n",
       "      <td>3.0</td>\n",
       "      <td>42.0</td>\n",
       "    </tr>\n",
       "    <tr>\n",
       "      <th>4</th>\n",
       "      <td>tt0043631</td>\n",
       "      <td>tt0989125</td>\n",
       "      <td>2.0</td>\n",
       "      <td>16.0</td>\n",
       "    </tr>\n",
       "    <tr>\n",
       "      <th>...</th>\n",
       "      <td>...</td>\n",
       "      <td>...</td>\n",
       "      <td>...</td>\n",
       "      <td>...</td>\n",
       "    </tr>\n",
       "    <tr>\n",
       "      <th>5273074</th>\n",
       "      <td>tt9916846</td>\n",
       "      <td>tt1289683</td>\n",
       "      <td>3.0</td>\n",
       "      <td>18.0</td>\n",
       "    </tr>\n",
       "    <tr>\n",
       "      <th>5273075</th>\n",
       "      <td>tt9916848</td>\n",
       "      <td>tt1289683</td>\n",
       "      <td>3.0</td>\n",
       "      <td>17.0</td>\n",
       "    </tr>\n",
       "    <tr>\n",
       "      <th>5273076</th>\n",
       "      <td>tt9916850</td>\n",
       "      <td>tt1289683</td>\n",
       "      <td>3.0</td>\n",
       "      <td>19.0</td>\n",
       "    </tr>\n",
       "    <tr>\n",
       "      <th>5273077</th>\n",
       "      <td>tt9916852</td>\n",
       "      <td>tt1289683</td>\n",
       "      <td>3.0</td>\n",
       "      <td>20.0</td>\n",
       "    </tr>\n",
       "    <tr>\n",
       "      <th>5273078</th>\n",
       "      <td>tt9916880</td>\n",
       "      <td>tt0985991</td>\n",
       "      <td>4.0</td>\n",
       "      <td>2.0</td>\n",
       "    </tr>\n",
       "  </tbody>\n",
       "</table>\n",
       "<p>5273079 rows × 4 columns</p>\n",
       "</div>"
      ],
      "text/plain": [
       "            tconst parentTconst  seasonNumber  episodeNumber\n",
       "0        tt0041951    tt0041038           1.0            9.0\n",
       "1        tt0042816    tt0989125           1.0           17.0\n",
       "2        tt0042889    tt0989125           NaN            NaN\n",
       "3        tt0043426    tt0040051           3.0           42.0\n",
       "4        tt0043631    tt0989125           2.0           16.0\n",
       "...            ...          ...           ...            ...\n",
       "5273074  tt9916846    tt1289683           3.0           18.0\n",
       "5273075  tt9916848    tt1289683           3.0           17.0\n",
       "5273076  tt9916850    tt1289683           3.0           19.0\n",
       "5273077  tt9916852    tt1289683           3.0           20.0\n",
       "5273078  tt9916880    tt0985991           4.0            2.0\n",
       "\n",
       "[5273079 rows x 4 columns]"
      ]
     },
     "execution_count": 34,
     "metadata": {},
     "output_type": "execute_result"
    }
   ],
   "source": [
    "def preprocess_dataframe_title_episodes(data_frame):\n",
    "    title_episodes_new_series=data_frame\n",
    "    title_episodes_coerce_seasonNum = pd.to_numeric(title_episodes_new_series['seasonNumber'], errors='coerce')\n",
    "    title_episodes_coerce_episodeNum = pd.to_numeric(title_episodes_new_series['episodeNumber'], errors='coerce')\n",
    "\n",
    "    df_1 = pd.DataFrame(dict(test_column_1 = title_episodes_coerce_seasonNum)) \n",
    "    df_2 = pd.DataFrame(dict(test_column_2 = title_episodes_coerce_episodeNum)) \n",
    "\n",
    "    df_1['seasonNumber'] = df_1['test_column_1']\n",
    "    df_2['episodeNumber'] = df_2['test_column_2']\n",
    "    \n",
    "    title_episodes_new_frame=title_episodes_new_series.drop(['seasonNumber'],axis=1)\n",
    "    title_episodes_new_frame=title_episodes_new_series.drop(['episodeNumber'],axis=1)\n",
    "    \n",
    "    title_episodes_new_frame['seasonNumber']=df_1['seasonNumber']\n",
    "    title_episodes_new_frame['episodeNumber']=df_2['episodeNumber']\n",
    "    return title_episodes_new_frame\n",
    "\n",
    "title_episodes_preprocessed = preprocess_dataframe_title_episodes(title_episodes)"
   ]
  },
  {
   "cell_type": "code",
   "execution_count": 35,
   "metadata": {},
   "outputs": [],
   "source": [
    "# removes any episodes that do not have a corresponding key in title basics table \n",
    "title_episodes_preprocessed_final=title_episodes_preprocessed[\n",
    "    title_episodes_preprocessed.parentTconst.isin(title_basics_preprocessed.tconst)]\n",
    "\n"
   ]
  },
  {
   "cell_type": "code",
   "execution_count": 38,
   "metadata": {},
   "outputs": [
    {
     "name": "stderr",
     "output_type": "stream",
     "text": [
      "100%|██████████████████████████████████████████████████████████████████████████████████| 53/53 [44:28<00:00, 50.34s/it]\n"
     ]
    }
   ],
   "source": [
    "batch_size = 100000\n",
    "length = len(title_episodes_preprocessed_final)//batch_size+1\n",
    "\n",
    "for chunk in tqdm(batch(title_episodes_preprocessed_final,batch_size),total=length):\n",
    "    load_dataframe(chunk,'titleepisodes')"
   ]
  },
  {
   "cell_type": "markdown",
   "metadata": {},
   "source": [
    "## Name Basics"
   ]
  },
  {
   "cell_type": "code",
   "execution_count": 6,
   "metadata": {},
   "outputs": [
    {
     "data": {
      "text/html": [
       "<div>\n",
       "<style scoped>\n",
       "    .dataframe tbody tr th:only-of-type {\n",
       "        vertical-align: middle;\n",
       "    }\n",
       "\n",
       "    .dataframe tbody tr th {\n",
       "        vertical-align: top;\n",
       "    }\n",
       "\n",
       "    .dataframe thead th {\n",
       "        text-align: right;\n",
       "    }\n",
       "</style>\n",
       "<table border=\"1\" class=\"dataframe\">\n",
       "  <thead>\n",
       "    <tr style=\"text-align: right;\">\n",
       "      <th></th>\n",
       "      <th>nconst</th>\n",
       "      <th>primaryName</th>\n",
       "      <th>birthYear</th>\n",
       "      <th>deathYear</th>\n",
       "      <th>primaryProfession</th>\n",
       "      <th>knownForTitles</th>\n",
       "    </tr>\n",
       "  </thead>\n",
       "  <tbody>\n",
       "    <tr>\n",
       "      <th>0</th>\n",
       "      <td>nm0000001</td>\n",
       "      <td>Fred Astaire</td>\n",
       "      <td>1899</td>\n",
       "      <td>1987</td>\n",
       "      <td>soundtrack,actor,miscellaneous</td>\n",
       "      <td>tt0031983,tt0072308,tt0050419,tt0053137</td>\n",
       "    </tr>\n",
       "    <tr>\n",
       "      <th>1</th>\n",
       "      <td>nm0000002</td>\n",
       "      <td>Lauren Bacall</td>\n",
       "      <td>1924</td>\n",
       "      <td>2014</td>\n",
       "      <td>actress,soundtrack</td>\n",
       "      <td>tt0117057,tt0071877,tt0037382,tt0038355</td>\n",
       "    </tr>\n",
       "    <tr>\n",
       "      <th>2</th>\n",
       "      <td>nm0000003</td>\n",
       "      <td>Brigitte Bardot</td>\n",
       "      <td>1934</td>\n",
       "      <td>\\N</td>\n",
       "      <td>actress,soundtrack,music_department</td>\n",
       "      <td>tt0049189,tt0054452,tt0059956,tt0057345</td>\n",
       "    </tr>\n",
       "    <tr>\n",
       "      <th>3</th>\n",
       "      <td>nm0000004</td>\n",
       "      <td>John Belushi</td>\n",
       "      <td>1949</td>\n",
       "      <td>1982</td>\n",
       "      <td>actor,soundtrack,writer</td>\n",
       "      <td>tt0078723,tt0077975,tt0072562,tt0080455</td>\n",
       "    </tr>\n",
       "    <tr>\n",
       "      <th>4</th>\n",
       "      <td>nm0000005</td>\n",
       "      <td>Ingmar Bergman</td>\n",
       "      <td>1918</td>\n",
       "      <td>2007</td>\n",
       "      <td>writer,director,actor</td>\n",
       "      <td>tt0060827,tt0050976,tt0083922,tt0050986</td>\n",
       "    </tr>\n",
       "    <tr>\n",
       "      <th>...</th>\n",
       "      <td>...</td>\n",
       "      <td>...</td>\n",
       "      <td>...</td>\n",
       "      <td>...</td>\n",
       "      <td>...</td>\n",
       "      <td>...</td>\n",
       "    </tr>\n",
       "    <tr>\n",
       "      <th>10484335</th>\n",
       "      <td>nm9993714</td>\n",
       "      <td>Romeo del Rosario</td>\n",
       "      <td>\\N</td>\n",
       "      <td>\\N</td>\n",
       "      <td>animation_department,art_department</td>\n",
       "      <td>tt2455546</td>\n",
       "    </tr>\n",
       "    <tr>\n",
       "      <th>10484336</th>\n",
       "      <td>nm9993716</td>\n",
       "      <td>Essias Loberg</td>\n",
       "      <td>\\N</td>\n",
       "      <td>\\N</td>\n",
       "      <td>NaN</td>\n",
       "      <td>\\N</td>\n",
       "    </tr>\n",
       "    <tr>\n",
       "      <th>10484337</th>\n",
       "      <td>nm9993717</td>\n",
       "      <td>Harikrishnan Rajan</td>\n",
       "      <td>\\N</td>\n",
       "      <td>\\N</td>\n",
       "      <td>cinematographer</td>\n",
       "      <td>tt8736744</td>\n",
       "    </tr>\n",
       "    <tr>\n",
       "      <th>10484338</th>\n",
       "      <td>nm9993718</td>\n",
       "      <td>Aayush Nair</td>\n",
       "      <td>\\N</td>\n",
       "      <td>\\N</td>\n",
       "      <td>cinematographer</td>\n",
       "      <td>\\N</td>\n",
       "    </tr>\n",
       "    <tr>\n",
       "      <th>10484339</th>\n",
       "      <td>nm9993719</td>\n",
       "      <td>Andre Hill</td>\n",
       "      <td>\\N</td>\n",
       "      <td>\\N</td>\n",
       "      <td>NaN</td>\n",
       "      <td>\\N</td>\n",
       "    </tr>\n",
       "  </tbody>\n",
       "</table>\n",
       "<p>10484340 rows × 6 columns</p>\n",
       "</div>"
      ],
      "text/plain": [
       "             nconst         primaryName birthYear deathYear  \\\n",
       "0         nm0000001        Fred Astaire      1899      1987   \n",
       "1         nm0000002       Lauren Bacall      1924      2014   \n",
       "2         nm0000003     Brigitte Bardot      1934        \\N   \n",
       "3         nm0000004        John Belushi      1949      1982   \n",
       "4         nm0000005      Ingmar Bergman      1918      2007   \n",
       "...             ...                 ...       ...       ...   \n",
       "10484335  nm9993714   Romeo del Rosario        \\N        \\N   \n",
       "10484336  nm9993716       Essias Loberg        \\N        \\N   \n",
       "10484337  nm9993717  Harikrishnan Rajan        \\N        \\N   \n",
       "10484338  nm9993718         Aayush Nair        \\N        \\N   \n",
       "10484339  nm9993719          Andre Hill        \\N        \\N   \n",
       "\n",
       "                            primaryProfession  \\\n",
       "0              soundtrack,actor,miscellaneous   \n",
       "1                          actress,soundtrack   \n",
       "2         actress,soundtrack,music_department   \n",
       "3                     actor,soundtrack,writer   \n",
       "4                       writer,director,actor   \n",
       "...                                       ...   \n",
       "10484335  animation_department,art_department   \n",
       "10484336                                  NaN   \n",
       "10484337                      cinematographer   \n",
       "10484338                      cinematographer   \n",
       "10484339                                  NaN   \n",
       "\n",
       "                                   knownForTitles  \n",
       "0         tt0031983,tt0072308,tt0050419,tt0053137  \n",
       "1         tt0117057,tt0071877,tt0037382,tt0038355  \n",
       "2         tt0049189,tt0054452,tt0059956,tt0057345  \n",
       "3         tt0078723,tt0077975,tt0072562,tt0080455  \n",
       "4         tt0060827,tt0050976,tt0083922,tt0050986  \n",
       "...                                           ...  \n",
       "10484335                                tt2455546  \n",
       "10484336                                       \\N  \n",
       "10484337                                tt8736744  \n",
       "10484338                                       \\N  \n",
       "10484339                                       \\N  \n",
       "\n",
       "[10484340 rows x 6 columns]"
      ]
     },
     "execution_count": 6,
     "metadata": {},
     "output_type": "execute_result"
    }
   ],
   "source": [
    "name_basics = pd.read_csv('name.basics.tsv', delimiter='\\t',encoding='utf-8')\n",
    "name_basics"
   ]
  },
  {
   "cell_type": "code",
   "execution_count": 7,
   "metadata": {},
   "outputs": [],
   "source": [
    "def preprocess_dataframe_name_basics(data_frame):\n",
    "    name_basics_new_series=data_frame\n",
    "    name_basics_new_series=name_basics_new_series.drop(['primaryProfession', 'knownForTitles'],axis=1)\n",
    "    \n",
    "    name_basics_new_series['birthYear']= pd.to_datetime(name_basics_new_series.birthYear, errors='coerce', format='%Y')\n",
    "\n",
    "    \n",
    "    name_basics_new_series['deathYear']= pd.to_datetime(name_basics_new_series.deathYear, errors='coerce', format='%Y')\n",
    "    \n",
    "    return name_basics_new_series\n",
    "\n",
    "name_basics_preprocessed = preprocess_dataframe_name_basics(name_basics)\n",
    "\n",
    "name_basics_preprocessed[\"noofmovies\"] = \"\"\n",
    "name_basics_preprocessed[\"age\"] = \"\"\n",
    "name_basics_preprocessed[\"currentdate\"] = \"\""
   ]
  },
  {
   "cell_type": "code",
   "execution_count": 8,
   "metadata": {},
   "outputs": [],
   "source": [
    "def preprocess_dataframe_for_primaryprof(data_frame):\n",
    "    df = data_frame\n",
    "    lst_col = 'primaryProfession'\n",
    "  \n",
    "    df = df.drop(['primaryName'], axis=1)\n",
    "    df = df.drop(['birthYear'], axis=1)\n",
    "    df = df.drop(['deathYear'], axis=1)\n",
    "    df=df.drop(['knownForTitles'], axis=1)\n",
    "\n",
    "    \n",
    "    x = df.assign(**{lst_col:df[lst_col].str.split(',')})\n",
    "    primaryprof_df = x.explode('primaryProfession')\n",
    "\n",
    "    return primaryprof_df\n",
    "\n",
    "df =  preprocess_dataframe_for_primaryprof(name_basics)\n",
    "df.dropna(inplace=True)\n",
    "\n",
    "profession_preprocessed=preprocess_dataframe_parsing(name_basics.primaryProfession, \"primaryProfession\", \"profession\")\n",
    "profession_preprocessed.dropna(inplace=True)"
   ]
  },
  {
   "cell_type": "code",
   "execution_count": 46,
   "metadata": {},
   "outputs": [
    {
     "name": "stderr",
     "output_type": "stream",
     "text": [
      "100%|████████████████████████████████████████████████████████████████████████████████████| 1/1 [00:00<00:00,  2.77it/s]\n"
     ]
    }
   ],
   "source": [
    "batch_size=10000\n",
    "length=len(profession_preprocessed)//batch_size+1\n",
    "for chunk in tqdm(batch(profession_preprocessed,batch_size),total=length):\n",
    "    load_dataframe(chunk,'primaryprofession')"
   ]
  },
  {
   "cell_type": "code",
   "execution_count": null,
   "metadata": {},
   "outputs": [],
   "source": [
    "df"
   ]
  },
  {
   "cell_type": "code",
   "execution_count": 14,
   "metadata": {},
   "outputs": [],
   "source": [
    "# Create dictionary of professions with their id for mapping the professions in the association table\n",
    "conn = mysql.connector.connect(\n",
    "            host=\"localhost\",\n",
    "            user=\"root\",\n",
    "            passwd=\"Odyssey22\",\n",
    "            database=\"imdb\"\n",
    "        )\n",
    "c = conn.cursor()\n",
    "c.execute(\"SELECT * FROM primaryprofession\")\n",
    "records = c.fetchall()\n",
    "prof_dict = {}\n",
    "for row in records:\n",
    "    prof_dict.update({row[1]:row[0]})\n",
    "c.close()\n",
    "conn.close()"
   ]
  },
  {
   "cell_type": "code",
   "execution_count": 15,
   "metadata": {},
   "outputs": [],
   "source": [
    "# Finish the preprocessing for the primary profession association table so it can be read into the sql table\n",
    "df=df[df.primaryProfession.isin(profession_preprocessed.profession)]\n",
    "df = df.replace({\"primaryProfession\":prof_dict})\n",
    "df = df.rename(columns={\"nconst\" : \"namebasicsID\", \"primaryProfession\" : \"primaryprofessionID\"})"
   ]
  },
  {
   "cell_type": "code",
   "execution_count": 43,
   "metadata": {},
   "outputs": [],
   "source": [
    "name_basics_preprocessed_new= pd.to_numeric(name_basics_preprocessed['noofmovies'], errors='coerce')\n",
    "name_basics_preprocessed_new = pd.to_numeric(name_basics_preprocessed['age'], errors='coerce')\n",
    "name_basics_preprocessed['currentdate']= pd.to_datetime(name_basics_preprocessed.currentdate, errors='coerce', format='%Y')\n"
   ]
  },
  {
   "cell_type": "code",
   "execution_count": 44,
   "metadata": {},
   "outputs": [],
   "source": [
    "df_1 = pd.DataFrame(dict(test_column_1 = name_basics_preprocessed_new)) \n",
    "df_2 = pd.DataFrame(dict(test_column_2 = name_basics_preprocessed_new)) \n",
    "\n",
    "df_1['noofmovies'] = df_1['test_column_1']\n",
    "df_2['age'] = df_2['test_column_2']\n",
    "\n",
    "name_basics_preprocessed['noofmovies']=df_1['noofmovies']\n",
    "name_basics_preprocessed['age']=df_2['age']\n",
    "name_basics_preprocessed['currentdate']= pd.to_datetime(name_basics_preprocessed['currentdate'])"
   ]
  },
  {
   "cell_type": "code",
   "execution_count": 45,
   "metadata": {},
   "outputs": [
    {
     "name": "stderr",
     "output_type": "stream",
     "text": [
      "100%|██████████████████████████████████████████████████████████████████████████████| 1049/1049 [05:04<00:00,  3.44it/s]\n"
     ]
    }
   ],
   "source": [
    "batch_size = 10000\n",
    "length = len(name_basics_preprocessed)//batch_size+1\n",
    "\n",
    "for chunk in tqdm(batch(name_basics_preprocessed,batch_size),total=length):\n",
    "    load_dataframe(chunk,'namebasics')"
   ]
  },
  {
   "cell_type": "code",
   "execution_count": 16,
   "metadata": {},
   "outputs": [
    {
     "name": "stderr",
     "output_type": "stream",
     "text": [
      "100%|██████████████████████████████████████████████████████████████████████████████| 1145/1145 [03:01<00:00,  6.32it/s]\n"
     ]
    }
   ],
   "source": [
    "batch_size = 10000\n",
    "length = (len(df)//batch_size)+1\n",
    "\n",
    "for chunk in tqdm(batch(df,batch_size),total=length):\n",
    "    load_dataframe(chunk,'primaryprofessiontitlenames')"
   ]
  },
  {
   "cell_type": "code",
   "execution_count": 31,
   "metadata": {},
   "outputs": [],
   "source": [
    "def preprocess_dataframe_for_knownfortitles(data_frame):\n",
    "    df = data_frame\n",
    "    lst_col = 'knownForTitles'\n",
    "  \n",
    "    df = df.drop(['primaryName'], axis=1)\n",
    "    df = df.drop(['birthYear'], axis=1)\n",
    "    df = df.drop(['deathYear'], axis=1)\n",
    "    df=df.drop(['primaryProfession'], axis=1)\n",
    "    \n",
    "    x = df.assign(**{lst_col:df[lst_col].str.split(',')})\n",
    "    kft_df = pd.DataFrame({\n",
    "                      col:np.repeat(x[col].values, x[lst_col].str.len())\n",
    "                      for col in x.columns.difference([lst_col])\n",
    "                      }).assign(**{lst_col:np.concatenate(x[lst_col].values)})[x.columns.tolist()]\n",
    "\n",
    "    return kft_df\n",
    "\n",
    "kft_df =  preprocess_dataframe_for_knownfortitles(name_basics)\n",
    "\n",
    "\n",
    "kft_df = kft_df[kft_df.knownForTitles != '\\\\N']\n",
    "kft_df=kft_df[kft_df.knownForTitles.isin(title_basics_preprocessed.tconst)]\n",
    "kft_df = kft_df.rename(columns={\"nconst\" : \"namebasicsID\", \"knownForTitles\" : \"knownfortitle\"})"
   ]
  },
  {
   "cell_type": "code",
   "execution_count": 30,
   "metadata": {
    "jupyter": {
     "source_hidden": true
    }
   },
   "outputs": [],
   "source": [
    "connection = mysql.connector.connect(\n",
    "            host=\"localhost\",\n",
    "            user=\"root\",\n",
    "            passwd=\"Odyssey22\",\n",
    "            database=\"imdb\"\n",
    "        )\n",
    "cursor = connection.cursor()\n",
    "cursor.execute(\"DROP TABLE knownfortitles\")\n",
    "cursor.execute(\"\"\"CREATE TABLE IF NOT EXISTS knownfortitles(\n",
    "                                namebasicsid VARCHAR(11),\n",
    "                                knownfortitle VARCHAR(11),\n",
    "                                PRIMARY KEY (namebasicsid, knownfortitle),\n",
    "                                FOREIGN KEY (namebasicsid) REFERENCES namebasics(nconst),\n",
    "                                FOREIGN KEY (knownfortitle) REFERENCES titlebasics(tconst))\"\"\")\n",
    "cursor.close()\n",
    "connection.close()"
   ]
  },
  {
   "cell_type": "code",
   "execution_count": null,
   "metadata": {},
   "outputs": [
    {
     "name": "stderr",
     "output_type": "stream",
     "text": [
      " 47%|███████████████████████████████████▉                                        | 78/165 [3:30:57<5:16:49, 218.50s/it]"
     ]
    }
   ],
   "source": [
    "batch_size=100000\n",
    "length=len(kft_df)//batch_size+1\n",
    "for chunk in tqdm(batch(kft_df,batch_size),total=length):\n",
    "    load_dataframe(chunk,'knownfortitles')"
   ]
  },
  {
   "cell_type": "markdown",
   "metadata": {},
   "source": [
    "## Question 5"
   ]
  },
  {
   "cell_type": "code",
   "execution_count": 74,
   "metadata": {},
   "outputs": [
    {
     "name": "stdout",
     "output_type": "stream",
     "text": [
      "Connection to MySQL DB successful\n"
     ]
    },
    {
     "ename": "ProgrammingError",
     "evalue": "1054 (42S22): Unknown column 'KTN.knownfortitlesID' in 'field list'",
     "output_type": "error",
     "traceback": [
      "\u001b[0;31m---------------------------------------------------------------------------\u001b[0m",
      "\u001b[0;31mMySQLInterfaceError\u001b[0m                       Traceback (most recent call last)",
      "\u001b[0;32m/opt/anaconda3/lib/python3.8/site-packages/mysql/connector/connection_cext.py\u001b[0m in \u001b[0;36mcmd_query\u001b[0;34m(self, query, raw, buffered, raw_as_string)\u001b[0m\n\u001b[1;32m    503\u001b[0m                 \u001b[0mquery\u001b[0m \u001b[0;34m=\u001b[0m \u001b[0mquery\u001b[0m\u001b[0;34m.\u001b[0m\u001b[0mencode\u001b[0m\u001b[0;34m(\u001b[0m\u001b[0;34m'utf-8'\u001b[0m\u001b[0;34m)\u001b[0m\u001b[0;34m\u001b[0m\u001b[0;34m\u001b[0m\u001b[0m\n\u001b[0;32m--> 504\u001b[0;31m             self._cmysql.query(query,\n\u001b[0m\u001b[1;32m    505\u001b[0m                                \u001b[0mraw\u001b[0m\u001b[0;34m=\u001b[0m\u001b[0mraw\u001b[0m\u001b[0;34m,\u001b[0m \u001b[0mbuffered\u001b[0m\u001b[0;34m=\u001b[0m\u001b[0mbuffered\u001b[0m\u001b[0;34m,\u001b[0m\u001b[0;34m\u001b[0m\u001b[0;34m\u001b[0m\u001b[0m\n",
      "\u001b[0;31mMySQLInterfaceError\u001b[0m: Unknown column 'KTN.knownfortitlesID' in 'field list'",
      "\nDuring handling of the above exception, another exception occurred:\n",
      "\u001b[0;31mProgrammingError\u001b[0m                          Traceback (most recent call last)",
      "\u001b[0;32m<ipython-input-74-fcd9ed7ee6aa>\u001b[0m in \u001b[0;36m<module>\u001b[0;34m\u001b[0m\n\u001b[1;32m     12\u001b[0m                 LIMIT 5\"\"\"\n\u001b[1;32m     13\u001b[0m \u001b[0;34m\u001b[0m\u001b[0m\n\u001b[0;32m---> 14\u001b[0;31m \u001b[0;32mfor\u001b[0m \u001b[0mresult\u001b[0m \u001b[0;32min\u001b[0m \u001b[0mc\u001b[0m\u001b[0;34m.\u001b[0m\u001b[0mexecute\u001b[0m\u001b[0;34m(\u001b[0m\u001b[0moperation\u001b[0m\u001b[0;34m,\u001b[0m \u001b[0mmulti\u001b[0m\u001b[0;34m=\u001b[0m\u001b[0;32mTrue\u001b[0m\u001b[0;34m)\u001b[0m\u001b[0;34m:\u001b[0m\u001b[0;34m\u001b[0m\u001b[0;34m\u001b[0m\u001b[0m\n\u001b[0m\u001b[1;32m     15\u001b[0m     \u001b[0;32mif\u001b[0m \u001b[0mresult\u001b[0m\u001b[0;34m.\u001b[0m\u001b[0mwith_rows\u001b[0m\u001b[0;34m:\u001b[0m\u001b[0;34m\u001b[0m\u001b[0;34m\u001b[0m\u001b[0m\n\u001b[1;32m     16\u001b[0m         print(\"Rows produced by statement '{}':\".format(\n",
      "\u001b[0;32m/opt/anaconda3/lib/python3.8/site-packages/mysql/connector/cursor_cext.py\u001b[0m in \u001b[0;36mexecute\u001b[0;34m(self, operation, params, multi)\u001b[0m\n\u001b[1;32m    262\u001b[0m \u001b[0;34m\u001b[0m\u001b[0m\n\u001b[1;32m    263\u001b[0m         \u001b[0;32mtry\u001b[0m\u001b[0;34m:\u001b[0m\u001b[0;34m\u001b[0m\u001b[0;34m\u001b[0m\u001b[0m\n\u001b[0;32m--> 264\u001b[0;31m             result = self._cnx.cmd_query(stmt, raw=self._raw,\n\u001b[0m\u001b[1;32m    265\u001b[0m                                          \u001b[0mbuffered\u001b[0m\u001b[0;34m=\u001b[0m\u001b[0mself\u001b[0m\u001b[0;34m.\u001b[0m\u001b[0m_buffered\u001b[0m\u001b[0;34m,\u001b[0m\u001b[0;34m\u001b[0m\u001b[0;34m\u001b[0m\u001b[0m\n\u001b[1;32m    266\u001b[0m                                          raw_as_string=self._raw_as_string)\n",
      "\u001b[0;32m/opt/anaconda3/lib/python3.8/site-packages/mysql/connector/connection_cext.py\u001b[0m in \u001b[0;36mcmd_query\u001b[0;34m(self, query, raw, buffered, raw_as_string)\u001b[0m\n\u001b[1;32m    506\u001b[0m                                raw_as_string=raw_as_string)\n\u001b[1;32m    507\u001b[0m         \u001b[0;32mexcept\u001b[0m \u001b[0mMySQLInterfaceError\u001b[0m \u001b[0;32mas\u001b[0m \u001b[0mexc\u001b[0m\u001b[0;34m:\u001b[0m\u001b[0;34m\u001b[0m\u001b[0;34m\u001b[0m\u001b[0m\n\u001b[0;32m--> 508\u001b[0;31m             raise errors.get_mysql_exception(exc.errno, msg=exc.msg,\n\u001b[0m\u001b[1;32m    509\u001b[0m                                              sqlstate=exc.sqlstate)\n\u001b[1;32m    510\u001b[0m         \u001b[0;32mexcept\u001b[0m \u001b[0mAttributeError\u001b[0m\u001b[0;34m:\u001b[0m\u001b[0;34m\u001b[0m\u001b[0;34m\u001b[0m\u001b[0m\n",
      "\u001b[0;31mProgrammingError\u001b[0m: 1054 (42S22): Unknown column 'KTN.knownfortitlesID' in 'field list'"
     ]
    }
   ],
   "source": [
    "conn = create_connection(\"localhost\", \"root\", \"new_password\", \"testing_rebecca\")\n",
    "c = conn.cursor()\n",
    "\n",
    "operation = \"\"\"SELECT COUNT(KT.knownfortitle)\n",
    "                FROM knownforTitles AS KT \n",
    "                WHERE KT.knownfortitle IN (SELECT tconst\n",
    "                                            FROM titlebasics AS TB \n",
    "                                            WHERE TB.titletype = 'Movie')\n",
    "                GROUP BY namebasicsID\n",
    "                LIMIT 5\"\"\"\n",
    "\n",
    "for result in c.execute(operation, multi=True):\n",
    "    if result.with_rows:\n",
    "        print(\"Rows produced by statement '{}':\".format(\n",
    "          result.statement))\n",
    "        print(result.fetchall())\n",
    "    else:\n",
    "        print(\"Number of rows affected by statement '{}': {}\".format(\n",
    "          result.statement, result.rowcount))"
   ]
  },
  {
   "cell_type": "code",
   "execution_count": null,
   "metadata": {},
   "outputs": [],
   "source": []
  }
 ],
 "metadata": {
  "kernelspec": {
   "display_name": "Python 3",
   "language": "python",
   "name": "python3"
  },
  "language_info": {
   "codemirror_mode": {
    "name": "ipython",
    "version": 3
   },
   "file_extension": ".py",
   "mimetype": "text/x-python",
   "name": "python",
   "nbconvert_exporter": "python",
   "pygments_lexer": "ipython3",
   "version": "3.8.1"
  }
 },
 "nbformat": 4,
 "nbformat_minor": 4
}
