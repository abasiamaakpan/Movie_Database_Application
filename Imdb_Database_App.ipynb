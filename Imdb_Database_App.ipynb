{
 "cells": [
  {
   "cell_type": "markdown",
   "metadata": {},
   "source": [
    "\n",
    "# Practicum II - Movie Database Applicaton\n",
    "### Collaborators: Abasamia Akpan, Rebecca Brent and Alessia Pizzoccheri\n",
    "\n",
    "This Notebook provides context, documentation and sample code for a Database Application using IMBd datasets; for clarity, this document has been divided into the following sections:\n",
    "\n",
    "### 1. Introduction\n",
    "### 2. Assumptions\n",
    "### 3. Logical Models\n",
    "### 4. Database and Relations Definition¶\n",
    "### 1. Introduction\n",
    "#### 1.1. Looking at the data\n",
    "In this section, we analyze and deconstruct the various data sets found on the IMBd page; data is organized in seven TSV files, specifically:\n",
    "\n",
    "Title AKAs\n",
    "Title Basics\n",
    "Title Episodes\n",
    "Title Ratings\n",
    "Title Crew\n",
    "Name Basics\n",
    "Title Principles Our first step is to establish relationships between each data set and identify a primary key (PK) on each table. Since no information was provided regarding the role of columns, we devised a solution to find unique identifiers within each data set; that is, for each table we compare the total number of rows against the total number of unique values for a given column.\n",
    "1.2 Establishing PKs\n",
    "Following the system aforementioned, we identified the following primary keys"
   ]
  },
  {
   "cell_type": "code",
   "execution_count": 1,
   "metadata": {},
   "outputs": [
    {
     "name": "stderr",
     "output_type": "stream",
     "text": [
      "WARNING: pip is being invoked by an old script wrapper. This will fail in a future version of pip.\n",
      "Please see https://github.com/pypa/pip/issues/5599 for advice on fixing the underlying issue.\n",
      "To avoid this problem you can invoke Python with '-m pip' instead of running pip directly.\n"
     ]
    },
    {
     "name": "stdout",
     "output_type": "stream",
     "text": [
      "Collecting prettytable\n",
      "  Using cached prettytable-1.0.1-py2.py3-none-any.whl (22 kB)\n",
      "Requirement already satisfied: wcwidth in /Users/apizzoccheri/opt/anaconda3/lib/python3.8/site-packages (from prettytable) (0.2.5)\n",
      "Requirement already satisfied: setuptools in /Users/apizzoccheri/opt/anaconda3/lib/python3.8/site-packages (from prettytable) (49.2.0.post20200714)\n"
     ]
    },
    {
     "name": "stderr",
     "output_type": "stream",
     "text": [
      "ERROR: ipython-sql 0.4.0 has requirement prettytable<1, but you'll have prettytable 1.0.1 which is incompatible.\n"
     ]
    },
    {
     "name": "stdout",
     "output_type": "stream",
     "text": [
      "Installing collected packages: prettytable\n",
      "Successfully installed prettytable-1.0.1\n"
     ]
    },
    {
     "name": "stderr",
     "output_type": "stream",
     "text": [
      "WARNING: pip is being invoked by an old script wrapper. This will fail in a future version of pip.\n",
      "Please see https://github.com/pypa/pip/issues/5599 for advice on fixing the underlying issue.\n",
      "To avoid this problem you can invoke Python with '-m pip' instead of running pip directly.\n"
     ]
    },
    {
     "name": "stdout",
     "output_type": "stream",
     "text": [
      "Collecting mysql-connector-python\n",
      "  Downloading mysql_connector_python-8.0.22-cp38-cp38-macosx_10_14_x86_64.whl (4.8 MB)\n",
      "Requirement already satisfied: protobuf>=3.0.0 in /Users/apizzoccheri/opt/anaconda3/lib/python3.8/site-packages (from mysql-connector-python) (3.13.0)\n",
      "Requirement already satisfied: setuptools in /Users/apizzoccheri/opt/anaconda3/lib/python3.8/site-packages (from protobuf>=3.0.0->mysql-connector-python) (49.2.0.post20200714)\n",
      "Requirement already satisfied: six>=1.9 in /Users/apizzoccheri/opt/anaconda3/lib/python3.8/site-packages (from protobuf>=3.0.0->mysql-connector-python) (1.15.0)\n",
      "Installing collected packages: mysql-connector-python\n",
      "Successfully installed mysql-connector-python-8.0.22\n"
     ]
    },
    {
     "name": "stderr",
     "output_type": "stream",
     "text": [
      "WARNING: pip is being invoked by an old script wrapper. This will fail in a future version of pip.\n",
      "Please see https://github.com/pypa/pip/issues/5599 for advice on fixing the underlying issue.\n",
      "To avoid this problem you can invoke Python with '-m pip' instead of running pip directly.\n"
     ]
    },
    {
     "name": "stdout",
     "output_type": "stream",
     "text": [
      "Requirement already satisfied: tqdm in /Users/apizzoccheri/opt/anaconda3/lib/python3.8/site-packages (4.47.0)\n"
     ]
    },
    {
     "name": "stderr",
     "output_type": "stream",
     "text": [
      "WARNING: pip is being invoked by an old script wrapper. This will fail in a future version of pip.\n",
      "Please see https://github.com/pypa/pip/issues/5599 for advice on fixing the underlying issue.\n",
      "To avoid this problem you can invoke Python with '-m pip' instead of running pip directly.\n"
     ]
    },
    {
     "name": "stdout",
     "output_type": "stream",
     "text": [
      "Collecting pymysql\n",
      "  Using cached PyMySQL-0.10.1-py2.py3-none-any.whl (47 kB)\n",
      "Installing collected packages: pymysql\n",
      "Successfully installed pymysql-0.10.1\n"
     ]
    }
   ],
   "source": [
    "\n",
    "import pandas as pd\n",
    "import numpy as np\n",
    "import os\n",
    "import sys\n",
    "import pip\n",
    "pip.main(['install','prettytable'])\n",
    "pip.main(['install','mysql-connector-python'])\n",
    "pip.main(['install','tqdm'])\n",
    "pip.main(['install','pymysql'])\n",
    "\n",
    "from tqdm import tqdm\n",
    "\n"
   ]
  },
  {
   "cell_type": "code",
   "execution_count": null,
   "metadata": {},
   "outputs": [],
   "source": []
  },
  {
   "cell_type": "code",
   "execution_count": null,
   "metadata": {},
   "outputs": [],
   "source": []
  },
  {
   "cell_type": "code",
   "execution_count": 26,
   "metadata": {},
   "outputs": [
    {
     "name": "stderr",
     "output_type": "stream",
     "text": [
      "/Users/apizzoccheri/opt/anaconda3/lib/python3.8/site-packages/IPython/core/interactiveshell.py:3071: DtypeWarning: Columns (7) have mixed types.Specify dtype option on import or set low_memory=False.\n",
      "  has_raised = await self.run_ast_nodes(code_ast.body, cell_name,\n"
     ]
    }
   ],
   "source": [
    "title_akas = pd.read_csv('title.akas.tsv', delimiter='\\t',encoding='utf-8')\n"
   ]
  },
  {
   "cell_type": "code",
   "execution_count": 27,
   "metadata": {},
   "outputs": [
    {
     "name": "stderr",
     "output_type": "stream",
     "text": [
      "/Users/apizzoccheri/opt/anaconda3/lib/python3.8/site-packages/IPython/core/interactiveshell.py:3071: DtypeWarning: Columns (5) have mixed types.Specify dtype option on import or set low_memory=False.\n",
      "  has_raised = await self.run_ast_nodes(code_ast.body, cell_name,\n"
     ]
    }
   ],
   "source": [
    "# read title basic file\n",
    "title_basics = pd.read_csv('title.basics.tsv', delimiter='\\t',encoding='utf-8')"
   ]
  },
  {
   "cell_type": "code",
   "execution_count": 28,
   "metadata": {},
   "outputs": [],
   "source": [
    "title_episodes = pd.read_csv('title.episode.tsv', delimiter='\\t',encoding='utf-8')"
   ]
  },
  {
   "cell_type": "code",
   "execution_count": 29,
   "metadata": {},
   "outputs": [],
   "source": [
    "title_ratings = pd.read_csv('title.ratings.tsv', delimiter='\\t',encoding='utf-8')"
   ]
  },
  {
   "cell_type": "code",
   "execution_count": 30,
   "metadata": {},
   "outputs": [],
   "source": [
    "name_basics = pd.read_csv('name.basics.tsv', delimiter='\\t',encoding='utf-8')"
   ]
  },
  {
   "cell_type": "code",
   "execution_count": 31,
   "metadata": {},
   "outputs": [],
   "source": [
    "title_principals = pd.read_csv('title.principals.tsv', delimiter='\\t',encoding='utf-8')"
   ]
  },
  {
   "cell_type": "code",
   "execution_count": 32,
   "metadata": {},
   "outputs": [],
   "source": [
    "title_crew = pd.read_csv('title.crew.tsv', delimiter='\\t',encoding='utf-8')\n"
   ]
  },
  {
   "cell_type": "code",
   "execution_count": 2,
   "metadata": {},
   "outputs": [
    {
     "name": "stdout",
     "output_type": "stream",
     "text": [
      "Connection to MySQL DB successful\n",
      "Database created successfully\n",
      "Connection to MySQL DB successful\n",
      "1071 (42000): Specified key was too long; max key length is 3072 bytes\n",
      "1071 (42000): Specified key was too long; max key length is 3072 bytes\n",
      "1071 (42000): Specified key was too long; max key length is 3072 bytes\n",
      "1071 (42000): Specified key was too long; max key length is 3072 bytes\n",
      "1071 (42000): Specified key was too long; max key length is 3072 bytes\n",
      "1071 (42000): Specified key was too long; max key length is 3072 bytes\n",
      "1071 (42000): Specified key was too long; max key length is 3072 bytes\n",
      "1071 (42000): Specified key was too long; max key length is 3072 bytes\n",
      "1071 (42000): Specified key was too long; max key length is 3072 bytes\n",
      "1071 (42000): Specified key was too long; max key length is 3072 bytes\n",
      "1071 (42000): Specified key was too long; max key length is 3072 bytes\n",
      "1071 (42000): Specified key was too long; max key length is 3072 bytes\n",
      "1071 (42000): Specified key was too long; max key length is 3072 bytes\n",
      "1071 (42000): Specified key was too long; max key length is 3072 bytes\n",
      "1071 (42000): Specified key was too long; max key length is 3072 bytes\n",
      "1071 (42000): Specified key was too long; max key length is 3072 bytes\n",
      "1824 (HY000): Failed to open the referenced table 'titlecrew'\n",
      "1824 (HY000): Failed to open the referenced table 'titlecrew'\n",
      "1824 (HY000): Failed to open the referenced table 'principals'\n",
      "1824 (HY000): Failed to open the referenced table 'titleAKAs'\n",
      "1824 (HY000): Failed to open the referenced table 'titleAKAs'\n",
      "1824 (HY000): Failed to open the referenced table 'primaryprofession'\n",
      "1824 (HY000): Failed to open the referenced table 'namebasics'\n"
     ]
    }
   ],
   "source": [
    "import mysql.connector\n",
    "from prettytable import PrettyTable \n",
    "from prettytable import from_csv\n",
    "from mysql.connector import Error\n",
    "\n",
    "def create_connection_nodb(host_name, user_name, user_password):\n",
    "    \"\"\" create a connection to mysql host\n",
    "    :param host_name: string host name (ie. \"localhost\")\n",
    "    :param user_name: string username (ie. \"root\")\n",
    "    :param user_password: string the password to connect to mysql\n",
    "    :return: connection object\n",
    "    \"\"\"\n",
    "    connection = None\n",
    "    try:\n",
    "        connection = mysql.connector.connect(\n",
    "            host=host_name,\n",
    "            user=user_name,\n",
    "            passwd=user_password\n",
    "        )\n",
    "        print(\"Connection to MySQL DB successful\")\n",
    "    except Error as e:\n",
    "        print(f\"The error '{e}' occurred\")\n",
    "\n",
    "    return connection\n",
    "\n",
    "def create_database(connection, db_name):\n",
    "    \"\"\" create a database \n",
    "    :param connection: Connection object\n",
    "    :param db_name: name of database in form of string\n",
    "    :return:\n",
    "    \"\"\"\n",
    "    cursor = connection.cursor()\n",
    "    try:\n",
    "        query = \"CREATE DATABASE IF NOT EXISTS \" + db_name\n",
    "        cursor.execute(query)\n",
    "        print(\"Database created successfully\")\n",
    "    except Error as e:\n",
    "        print(f\"The error '{e}' occurred\")\n",
    "        \n",
    "def create_connection(host_name, user_name, user_password, db_name):\n",
    "    \"\"\" create a connection to the (possibly newly created) database\n",
    "    :param host_name: string host name (ie. \"localhost\")\n",
    "    :param user_name: string username (ie. \"root\")\n",
    "    :param user_password: string the password to connect to mysql\n",
    "    :param db_name: string name of database \n",
    "    :return: connection object\n",
    "    \"\"\"\n",
    "    connection = None\n",
    "    try:\n",
    "        connection = mysql.connector.connect(\n",
    "            host=host_name,\n",
    "            user=user_name,\n",
    "            passwd=user_password,\n",
    "            database=db_name\n",
    "        )\n",
    "        print(\"Connection to MySQL DB successful\")\n",
    "    except Error as e:\n",
    "        print(f\"The error '{e}' occurred\")\n",
    "\n",
    "    return connection\n",
    "\n",
    "def create_table(conn, create_table_sql):\n",
    "    \"\"\" create a table from the create_table_sql statement\n",
    "    :param conn: Connection object\n",
    "    :param create_table_sql: a CREATE TABLE statement\n",
    "    :return:\n",
    "    \"\"\"\n",
    "    try:\n",
    "        c = conn.cursor()\n",
    "        c.execute(create_table_sql)\n",
    "        table_name = create_table_sql.split(\" \")[5].split(\"(\")[0]\n",
    "        print(\"Successfully created table: \" + table_name)\n",
    "    except Error as e:\n",
    "        print(e)\n",
    "        \n",
    "def main():\n",
    "    \n",
    "    database = \"imbd_application\"\n",
    "    host_name = \"localhost\"\n",
    "    user_name = \"root\"\n",
    "    user_password = \"alupizzo92\"\n",
    "    \n",
    "    create_table_titlebasics = \"\"\"CREATE TABLE IF NOT EXISTS titlebasics(\n",
    "                                    tconst VARCHAR(1000) PRIMARY KEY,\n",
    "                                    titleType VARCHAR(1000),\n",
    "                                    primaryTitle VARCHAR(1000),\n",
    "                                    originalTitle VARCHAR(1000),\n",
    "                                    isAdult BOOLEAN,\n",
    "                                    startYear DATE,\n",
    "                                    endYear DATE,\n",
    "                                    runTimeMinutes TIME)\"\"\"\n",
    "    \n",
    "    create_table_titleratings = \"\"\"CREATE TABLE IF NOT EXISTS titleratings(\n",
    "                                    tconst VARCHAR(1000) PRIMARY KEY,\n",
    "                                    averageRating FLOAT,\n",
    "                                    numVotes INT,\n",
    "                                    FOREIGN KEY (tconst) REFERENCES titlebasics(tconst))\"\"\"\n",
    "\n",
    "\n",
    "    create_table_titleepisodes = \"\"\"CREATE TABLE IF NOT EXISTS titleepisodes(\n",
    "                                    tconst VARCHAR(1000) PRIMARY KEY,\n",
    "                                    seasonNumber INT,\n",
    "                                    episodeNumber INT,\n",
    "                                    parentTconst VARCHAR(1000),\n",
    "                                    FOREIGN KEY (parentTconst) REFERENCES titlebasics(tconst))\"\"\"\n",
    "\n",
    "    create_table_titleAKAs = \"\"\"CREATE TABLE IF NOT EXISTS titleAKAs(\n",
    "                                AKAsID INT AUTO_INCREMENT PRIMARY KEY,\n",
    "                                titleID VARCHAR(1000),\n",
    "                                ordering INT,\n",
    "                                title VARCHAR(1000),\n",
    "                                region VARCHAR(1000),\n",
    "                                language VARCHAR(1000),\n",
    "                                isoriginaltitle BOOLEAN,\n",
    "                                FOREIGN KEY (titleID) REFERENCES titlebasics(tconst))\"\"\"\n",
    "\n",
    "    create_table_namebasics = \"\"\"CREATE TABLE IF NOT EXISTS namebasics(\n",
    "                                nconst VARCHAR(1000) PRIMARY KEY,\n",
    "                                primaryname VARCHAR(1000),\n",
    "                                birthyear DATE,\n",
    "                                deathyear DATE,\n",
    "                                noofmovies INT,\n",
    "                                age INT,\n",
    "                                currentdate DATE)\"\"\"\n",
    "    \n",
    "    create_table_principals = \"\"\"CREATE TABLE IF NOT EXISTS principals(\n",
    "                                principalsID INT AUTO_INCREMENT PRIMARY KEY,\n",
    "                                tconst VARCHAR(1000),\n",
    "                                ordering INT,\n",
    "                                category VARCHAR(1000),\n",
    "                                job VARCHAR(1000),\n",
    "                                nconst VARCHAR(1000),\n",
    "                                FOREIGN KEY (tconst) REFERENCES titlebasics(tconst),\n",
    "                                FOREIGN KEY (nconst) REFERENCES namebasics(nconst))\"\"\"\n",
    "    \n",
    "    create_table_titlecrew = \"\"\"CREATE TABLE IF NOT EXISTS titlecrew(\n",
    "                                crewid INT AUTO_INCREMENT PRIMARY KEY,\n",
    "                                tconst VARCHAR(1000) UNIQUE,\n",
    "                                FOREIGN KEY (tconst) REFERENCES titlebasics(tconst))\"\"\"\n",
    "    \n",
    "    create_table_characters = \"\"\"CREATE TABLE IF NOT EXISTS characters(\n",
    "                                characterID INT AUTO_INCREMENT PRIMARY KEY,\n",
    "                                name VARCHAR(1000) UNIQUE)\"\"\"\n",
    "    \n",
    "    create_table_writers = \"\"\"CREATE TABLE IF NOT EXISTS writers(\n",
    "                                writerID INT AUTO_INCREMENT PRIMARY KEY,\n",
    "                                name VARCHAR(1000) UNIQUE)\"\"\"\n",
    "    \n",
    "    create_table_directors = \"\"\"CREATE TABLE IF NOT EXISTS directors(\n",
    "                                directorID INT AUTO_INCREMENT PRIMARY KEY,\n",
    "                                name VARCHAR(1000) UNIQUE)\"\"\"\n",
    "    \n",
    "    create_table_genres = \"\"\"CREATE TABLE IF NOT EXISTS genres(\n",
    "                                genreID INT AUTO_INCREMENT  PRIMARY KEY,\n",
    "                                genre VARCHAR(1000) UNIQUE)\"\"\"\n",
    "    \n",
    "    create_table_knownfortitles = \"\"\"CREATE TABLE IF NOT EXISTS knownfortitles(\n",
    "                                knownfortitlesID INT AUTO_INCREMENT PRIMARY KEY,\n",
    "                                titles VARCHAR(1000) UNIQUE)\"\"\"\n",
    "    \n",
    "    create_table_primaryprofession = \"\"\"CREATE TABLE IF NOT EXISTS primaryprofession(\n",
    "                                primaryprofessionID INT AUTO_INCREMENT PRIMARY KEY,\n",
    "                                profession VARCHAR(1000) UNIQUE)\"\"\"\n",
    "    \n",
    "    create_table_types = \"\"\"CREATE TABLE IF NOT EXISTS types(\n",
    "                                typeID INT AUTO_INCREMENT  PRIMARY KEY,\n",
    "                                type VARCHAR(1000) UNIQUE)\"\"\"\n",
    "    \n",
    "    create_table_attributes = \"\"\"CREATE TABLE IF NOT EXISTS attributes(\n",
    "                                attributeID INT AUTO_INCREMENT PRIMARY KEY,\n",
    "                                attribute VARCHAR(1000) UNIQUE)\"\"\"\n",
    "    \n",
    "    create_table_genretitlebasics = \"\"\"CREATE TABLE IF NOT EXISTS genretitlebasics(\n",
    "                                titlebasicsID VARCHAR(1000),\n",
    "                                genreID INT,\n",
    "                                PRIMARY KEY (titlebasicsID, genreID),\n",
    "                                FOREIGN KEY (titlebasicsID) REFERENCES titlebasics(tconst),\n",
    "                                FOREIGN KEY (genreID) REFERENCES genres(genreID))\"\"\"\n",
    "    \n",
    "    create_table_crewdirectors = \"\"\"CREATE TABLE IF NOT EXISTS crewdirectors(\n",
    "                                crewid INT,\n",
    "                                directorid INT,\n",
    "                                PRIMARY KEY (crewid ,directorid),\n",
    "                                FOREIGN KEY (crewid) REFERENCES titlecrew(crewid),\n",
    "                                FOREIGN KEY (directorid) REFERENCES directors(directorID))\"\"\"\n",
    "    \n",
    "    create_table_crewwriters = \"\"\"CREATE TABLE IF NOT EXISTS crewwriters(\n",
    "                                crewid INT,\n",
    "                                writerid INT,\n",
    "                                PRIMARY KEY (crewid, writerid),\n",
    "                                FOREIGN KEY (crewid) REFERENCES titlecrew(crewid),\n",
    "                                FOREIGN KEY (writerid) REFERENCES writers(writerid))\"\"\"\n",
    "    \n",
    "    create_table_principalscharacters = \"\"\"CREATE TABLE IF NOT EXISTS principalscharacters(\n",
    "                                principalsid INT,\n",
    "                                characterid INT,\n",
    "                                PRIMARY KEY (principalsid, characterid),\n",
    "                                FOREIGN KEY (principalsid) REFERENCES principals(principalsID),\n",
    "                                FOREIGN KEY (characterid) REFERENCES characters(characterid))\"\"\"\n",
    "    \n",
    "    create_table_AKAattributes = \"\"\"CREATE TABLE IF NOT EXISTS AKAattributes(\n",
    "                                akasid INT,\n",
    "                                attributeid INT,\n",
    "                                PRIMARY KEY (akasid, attributeid),\n",
    "                                FOREIGN KEY (akasid) REFERENCES titleAKAs(AKAsID),\n",
    "                                FOREIGN KEY (attributeid) REFERENCES attributes(attributeid))\"\"\"\n",
    "    \n",
    "    create_table_AKAtype = \"\"\"CREATE TABLE IF NOT EXISTS AKAtype(\n",
    "                                akasid INT,\n",
    "                                typeid INT,\n",
    "                                PRIMARY KEY (akasid, typeid),\n",
    "                                FOREIGN KEY (akasid) REFERENCES titleAKAs(AKAsID),\n",
    "                                FOREIGN KEY (typeid) REFERENCES type(typeid))\"\"\"\n",
    "    \n",
    "    create_table_primaryprofessiontitlenames = \"\"\"CREATE TABLE IF NOT EXISTS primaryprofessiontitlenames(\n",
    "                                primaryprofessionid INT,\n",
    "                                namebasicsid VARCHAR(255),\n",
    "                                PRIMARY KEY (primaryprofessionid, namebasicsid),\n",
    "                                FOREIGN KEY (primaryprofessionid) REFERENCES primaryprofession(primaryprofessionid),\n",
    "                                FOREIGN KEY (namebasicsid) REFERENCES namebasics(nconst))\"\"\"\n",
    "    \n",
    "    create_table_knownfortitlenames = \"\"\"CREATE TABLE IF NOT EXISTS knownfortitlenames(\n",
    "                                namebasicsid VARCHAR(255),\n",
    "                                knownfortitlesid INT,\n",
    "                                PRIMARY KEY (namebasicsid, knownfortitlesid),\n",
    "                                FOREIGN KEY (namebasicsid) REFERENCES namebasics(nconst),\n",
    "                                FOREIGN KEY (knownfortitlesid) REFERENCES knownfortitles(knownfortitlesid))\"\"\"\n",
    "    \n",
    "    conn = create_connection_nodb(host_name, user_name, user_password)\n",
    "    \n",
    "    # create database object if not already created and then connect the cursor to it\n",
    "    if conn is not None:\n",
    "        create_database(conn, database)\n",
    "        conn = create_connection(host_name, user_name, user_password, database)\n",
    "        \n",
    "        # create tables\n",
    "        if conn is not None:\n",
    "            # create Title Basics table\n",
    "            create_table(conn, create_table_titlebasics)\n",
    "\n",
    "            # create Title Ratings table\n",
    "            create_table(conn, create_table_titleratings)\n",
    "            \n",
    "            # create title episodes table\n",
    "            create_table(conn, create_table_titleepisodes)\n",
    "            \n",
    "            # create title AKAs table\n",
    "            create_table(conn, create_table_titleAKAs)\n",
    "            \n",
    "            # create name basics table\n",
    "            create_table(conn, create_table_namebasics)\n",
    "            \n",
    "            # create principals table\n",
    "            create_table(conn, create_table_principals)\n",
    "            \n",
    "            # create title crew table\n",
    "            create_table(conn, create_table_titlecrew)\n",
    "            \n",
    "            # create characters table\n",
    "            create_table(conn,create_table_characters)\n",
    "            \n",
    "            # create writers table\n",
    "            create_table(conn,create_table_writers)\n",
    "            \n",
    "            # create directors table\n",
    "            create_table(conn,create_table_directors)\n",
    "            \n",
    "            # create genres table\n",
    "            create_table(conn,create_table_genres)\n",
    "            \n",
    "            # create known for titles table\n",
    "            create_table(conn,create_table_knownfortitles)\n",
    "            \n",
    "            # create primary profession table\n",
    "            create_table(conn,create_table_primaryprofession)\n",
    "            \n",
    "            # create type table\n",
    "            create_table(conn,create_table_types)\n",
    "            \n",
    "            # create attributes table\n",
    "            create_table(conn,create_table_attributes)\n",
    "            \n",
    "            # create genre title basics table\n",
    "            create_table(conn, create_table_genretitlebasics)\n",
    "            \n",
    "            # create crew directors table\n",
    "            create_table(conn,create_table_crewdirectors)\n",
    "            \n",
    "            # create crew writers table\n",
    "            create_table(conn,create_table_crewwriters)\n",
    "            \n",
    "            # create principals characters table\n",
    "            create_table(conn, create_table_principalscharacters)\n",
    "            \n",
    "            # create AKA Attributes table\n",
    "            create_table(conn, create_table_AKAattributes)\n",
    "            \n",
    "            # create AKA Type table\n",
    "            create_table(conn, create_table_AKAtype)\n",
    "            \n",
    "            # create Primary Profession Title Names table\n",
    "            create_table(conn, create_table_primaryprofessiontitlenames)\n",
    "            \n",
    "            # create known for title names table\n",
    "            create_table(conn, create_table_knownfortitlenames)\n",
    "                \n",
    "        else:\n",
    "            print(\"Error! cannot create the database connection.\")\n",
    "    \n",
    "    else:\n",
    "        print(\"Error! Cannot create the MySQL connection.\")\n",
    "    \n",
    "    \n",
    "\n",
    "\n",
    "if __name__ == '__main__':\n",
    "    main()\n"
   ]
  },
  {
   "cell_type": "markdown",
   "metadata": {},
   "source": [
    "## SQL communication helper ##"
   ]
  },
  {
   "cell_type": "code",
   "execution_count": 55,
   "metadata": {},
   "outputs": [],
   "source": [
    "import sqlalchemy\n",
    "database_username = 'root'\n",
    "database_password = 'alupizzo92'\n",
    "database_ip       = 'localhost'\n",
    "database_name     = 'imbd_application'\n",
    "database_connection = sqlalchemy.create_engine('mysql+mysqlconnector://{0}:{1}@{2}/{3}'.\n",
    "                                               format(database_username, database_password, \n",
    "                                                      database_ip, database_name))"
   ]
  },
  {
   "cell_type": "markdown",
   "metadata": {},
   "source": [
    "## LOAD DATA IN DATABASE ##\n"
   ]
  },
  {
   "cell_type": "code",
   "execution_count": 57,
   "metadata": {},
   "outputs": [],
   "source": [
    "def preprocess_dataframe_title_basics(data_frame):\n",
    "    title_basics_new_series=data_frame\n",
    "\n",
    "    b = pd.to_datetime(title_basics_new_series['runtimeMinutes'], errors='coerce', format='%M')\n",
    "\n",
    "\n",
    "    b.to_frame().runtimeMinutes\n",
    "    df_1 = pd.DataFrame(dict(time_stamps = b)) \n",
    "\n",
    "    df_1['runtimeMinutes'] = df_1['time_stamps'].dt.minute\n",
    "    title_basics_new_series=title_basics_new_series.drop(['runtimeMinutes'],axis=1)\n",
    "    title_basics_new_series['runtimeMinutes']=df_1['runtimeMinutes']\n",
    "\n",
    "    #print(title_basics_new_series)\n",
    "    \n",
    "    title_basics_new_frame_transpose=title_basics_new_series.astype({'isAdult': 'int32'})\n",
    "    \n",
    "\n",
    "    title_basics_new_frame_transpose[\"isAdult\"]=title_basics_new_frame_transpose.isAdult.mask(title_basics_new_frame_transpose.isAdult > 1,1)\n",
    "    #g.isAdult=g.isAdult.mask(g.isAdult > 1,1)\n",
    "\n",
    "\n",
    "    #needs to be fixed\n",
    "    title_basics_new_frame_transpose['startYear']= pd.to_datetime(title_basics.startYear, errors='coerce', format='%Y')\n",
    "\n",
    "\n",
    "    \n",
    "    #title_basics_new_frame_transpose['startYear']=[time.date() for time in title_basics_new_frame_transpose['startYear']]\n",
    "\n",
    "    \n",
    "    title_basics_new_frame_transpose['endYear']= pd.to_datetime(title_basics.endYear, errors='coerce', format='%Y')\n",
    "   # title_basics_new_frame_transpose['endYear']=[time.date() for time in title_basics_new_frame_transpose['endYear']]\n",
    "\n",
    "    title_basics_new_frame_transpose=title_basics_new_frame_transpose.drop(['genres'],axis=1)\n",
    "    #print(title_basics_new_frame_transpose)\n",
    "    \n",
    "    #title_basics_new_frame_transpose.to_sql('titlebasics',con=database_connection, if_exists='append',index=False)\n",
    "    new_row = {'tconst':None, \n",
    "        'titleType':None, \n",
    "        'primaryTitle':None,\n",
    "        'originalTitle':None,\n",
    "        'isAdult':None, \n",
    "        'startYear':None,\n",
    "        'endYear':None,\n",
    "        'runtimeMinutes':None         \n",
    "       } \n",
    "  \n",
    "    title_basics_new_frame_transpose = title_basics_new_frame_transpose.append(new_row, ignore_index=True)\n",
    "    return title_basics_new_frame_transpose\n",
    "\n",
    "title_basics_preprocessed=preprocess_dataframe_title_basics(title_basics)\n",
    "\n"
   ]
  },
  {
   "cell_type": "code",
   "execution_count": 58,
   "metadata": {},
   "outputs": [
    {
     "data": {
      "text/html": [
       "<div>\n",
       "<style scoped>\n",
       "    .dataframe tbody tr th:only-of-type {\n",
       "        vertical-align: middle;\n",
       "    }\n",
       "\n",
       "    .dataframe tbody tr th {\n",
       "        vertical-align: top;\n",
       "    }\n",
       "\n",
       "    .dataframe thead th {\n",
       "        text-align: right;\n",
       "    }\n",
       "</style>\n",
       "<table border=\"1\" class=\"dataframe\">\n",
       "  <thead>\n",
       "    <tr style=\"text-align: right;\">\n",
       "      <th></th>\n",
       "      <th>tconst</th>\n",
       "      <th>titleType</th>\n",
       "      <th>primaryTitle</th>\n",
       "      <th>originalTitle</th>\n",
       "      <th>isAdult</th>\n",
       "      <th>startYear</th>\n",
       "      <th>endYear</th>\n",
       "      <th>runtimeMinutes</th>\n",
       "    </tr>\n",
       "  </thead>\n",
       "  <tbody>\n",
       "    <tr>\n",
       "      <th>0</th>\n",
       "      <td>tt0000001</td>\n",
       "      <td>short</td>\n",
       "      <td>Carmencita</td>\n",
       "      <td>Carmencita</td>\n",
       "      <td>0</td>\n",
       "      <td>1894-01-01</td>\n",
       "      <td>NaT</td>\n",
       "      <td>1.0</td>\n",
       "    </tr>\n",
       "    <tr>\n",
       "      <th>1</th>\n",
       "      <td>tt0000002</td>\n",
       "      <td>short</td>\n",
       "      <td>Le clown et ses chiens</td>\n",
       "      <td>Le clown et ses chiens</td>\n",
       "      <td>0</td>\n",
       "      <td>1892-01-01</td>\n",
       "      <td>NaT</td>\n",
       "      <td>5.0</td>\n",
       "    </tr>\n",
       "    <tr>\n",
       "      <th>2</th>\n",
       "      <td>tt0000003</td>\n",
       "      <td>short</td>\n",
       "      <td>Pauvre Pierrot</td>\n",
       "      <td>Pauvre Pierrot</td>\n",
       "      <td>0</td>\n",
       "      <td>1892-01-01</td>\n",
       "      <td>NaT</td>\n",
       "      <td>4.0</td>\n",
       "    </tr>\n",
       "    <tr>\n",
       "      <th>3</th>\n",
       "      <td>tt0000004</td>\n",
       "      <td>short</td>\n",
       "      <td>Un bon bock</td>\n",
       "      <td>Un bon bock</td>\n",
       "      <td>0</td>\n",
       "      <td>1892-01-01</td>\n",
       "      <td>NaT</td>\n",
       "      <td>12.0</td>\n",
       "    </tr>\n",
       "    <tr>\n",
       "      <th>4</th>\n",
       "      <td>tt0000005</td>\n",
       "      <td>short</td>\n",
       "      <td>Blacksmith Scene</td>\n",
       "      <td>Blacksmith Scene</td>\n",
       "      <td>0</td>\n",
       "      <td>1893-01-01</td>\n",
       "      <td>NaT</td>\n",
       "      <td>1.0</td>\n",
       "    </tr>\n",
       "    <tr>\n",
       "      <th>...</th>\n",
       "      <td>...</td>\n",
       "      <td>...</td>\n",
       "      <td>...</td>\n",
       "      <td>...</td>\n",
       "      <td>...</td>\n",
       "      <td>...</td>\n",
       "      <td>...</td>\n",
       "      <td>...</td>\n",
       "    </tr>\n",
       "    <tr>\n",
       "      <th>7300497</th>\n",
       "      <td>tt9916850</td>\n",
       "      <td>tvEpisode</td>\n",
       "      <td>Episode #3.19</td>\n",
       "      <td>Episode #3.19</td>\n",
       "      <td>0</td>\n",
       "      <td>2010-01-01</td>\n",
       "      <td>NaT</td>\n",
       "      <td>NaN</td>\n",
       "    </tr>\n",
       "    <tr>\n",
       "      <th>7300498</th>\n",
       "      <td>tt9916852</td>\n",
       "      <td>tvEpisode</td>\n",
       "      <td>Episode #3.20</td>\n",
       "      <td>Episode #3.20</td>\n",
       "      <td>0</td>\n",
       "      <td>2010-01-01</td>\n",
       "      <td>NaT</td>\n",
       "      <td>NaN</td>\n",
       "    </tr>\n",
       "    <tr>\n",
       "      <th>7300499</th>\n",
       "      <td>tt9916856</td>\n",
       "      <td>short</td>\n",
       "      <td>The Wind</td>\n",
       "      <td>The Wind</td>\n",
       "      <td>0</td>\n",
       "      <td>2015-01-01</td>\n",
       "      <td>NaT</td>\n",
       "      <td>27.0</td>\n",
       "    </tr>\n",
       "    <tr>\n",
       "      <th>7300500</th>\n",
       "      <td>tt9916880</td>\n",
       "      <td>tvEpisode</td>\n",
       "      <td>Horrid Henry Knows It All</td>\n",
       "      <td>Horrid Henry Knows It All</td>\n",
       "      <td>0</td>\n",
       "      <td>2014-01-01</td>\n",
       "      <td>NaT</td>\n",
       "      <td>10.0</td>\n",
       "    </tr>\n",
       "    <tr>\n",
       "      <th>7300501</th>\n",
       "      <td>None</td>\n",
       "      <td>None</td>\n",
       "      <td>None</td>\n",
       "      <td>None</td>\n",
       "      <td>None</td>\n",
       "      <td>NaT</td>\n",
       "      <td>NaT</td>\n",
       "      <td>NaN</td>\n",
       "    </tr>\n",
       "  </tbody>\n",
       "</table>\n",
       "<p>7300502 rows × 8 columns</p>\n",
       "</div>"
      ],
      "text/plain": [
       "            tconst  titleType               primaryTitle  \\\n",
       "0        tt0000001      short                 Carmencita   \n",
       "1        tt0000002      short     Le clown et ses chiens   \n",
       "2        tt0000003      short             Pauvre Pierrot   \n",
       "3        tt0000004      short                Un bon bock   \n",
       "4        tt0000005      short           Blacksmith Scene   \n",
       "...            ...        ...                        ...   \n",
       "7300497  tt9916850  tvEpisode              Episode #3.19   \n",
       "7300498  tt9916852  tvEpisode              Episode #3.20   \n",
       "7300499  tt9916856      short                   The Wind   \n",
       "7300500  tt9916880  tvEpisode  Horrid Henry Knows It All   \n",
       "7300501       None       None                       None   \n",
       "\n",
       "                     originalTitle isAdult  startYear endYear  runtimeMinutes  \n",
       "0                       Carmencita       0 1894-01-01     NaT             1.0  \n",
       "1           Le clown et ses chiens       0 1892-01-01     NaT             5.0  \n",
       "2                   Pauvre Pierrot       0 1892-01-01     NaT             4.0  \n",
       "3                      Un bon bock       0 1892-01-01     NaT            12.0  \n",
       "4                 Blacksmith Scene       0 1893-01-01     NaT             1.0  \n",
       "...                            ...     ...        ...     ...             ...  \n",
       "7300497              Episode #3.19       0 2010-01-01     NaT             NaN  \n",
       "7300498              Episode #3.20       0 2010-01-01     NaT             NaN  \n",
       "7300499                   The Wind       0 2015-01-01     NaT            27.0  \n",
       "7300500  Horrid Henry Knows It All       0 2014-01-01     NaT            10.0  \n",
       "7300501                       None    None        NaT     NaT             NaN  \n",
       "\n",
       "[7300502 rows x 8 columns]"
      ]
     },
     "execution_count": 58,
     "metadata": {},
     "output_type": "execute_result"
    }
   ],
   "source": [
    "len(title_basics_preprocessed)\n",
    "title_basics_preprocessed"
   ]
  },
  {
   "cell_type": "code",
   "execution_count": 59,
   "metadata": {},
   "outputs": [
    {
     "data": {
      "text/plain": [
       "0           1.0\n",
       "1           5.0\n",
       "2           4.0\n",
       "3          12.0\n",
       "4           1.0\n",
       "           ... \n",
       "7300497     NaN\n",
       "7300498     NaN\n",
       "7300499    27.0\n",
       "7300500    10.0\n",
       "7300501     NaN\n",
       "Name: runTimeMinutes, Length: 7300502, dtype: float64"
      ]
     },
     "execution_count": 59,
     "metadata": {},
     "output_type": "execute_result"
    }
   ],
   "source": [
    "title_basics_preprocessed_new=title_basics_preprocessed.rename(columns={\"runtimeMinutes\": \"runTimeMinutes\"})\n",
    "\n",
    "title_basics_preprocessed_new.runTimeMinutes"
   ]
  },
  {
   "cell_type": "code",
   "execution_count": 60,
   "metadata": {},
   "outputs": [],
   "source": [
    "def load_dataframe(data_frame,table_name):\n",
    "    data_frame_new=data_frame\n",
    "    \n",
    "    data_frame_new.to_sql(table_name,con=database_connection, if_exists='append',index=False)\n",
    "    \n",
    "    return \n",
    "\n",
    "def batch(iterable, n=1):\n",
    "    l = len(iterable)\n",
    "    for ndx in range(0, l, n):\n",
    "        yield iterable[ndx:min(ndx + n, l)]"
   ]
  },
  {
   "cell_type": "code",
   "execution_count": 62,
   "metadata": {},
   "outputs": [
    {
     "ename": "NameError",
     "evalue": "name 'df2' is not defined",
     "output_type": "error",
     "traceback": [
      "\u001b[0;31m---------------------------------------------------------------------------\u001b[0m",
      "\u001b[0;31mNameError\u001b[0m                                 Traceback (most recent call last)",
      "\u001b[0;32m<ipython-input-62-011327dfbb1a>\u001b[0m in \u001b[0;36m<module>\u001b[0;34m\u001b[0m\n\u001b[1;32m      1\u001b[0m \u001b[0;31m#def insert_into_db(data_frame):\u001b[0m\u001b[0;34m\u001b[0m\u001b[0;34m\u001b[0m\u001b[0;34m\u001b[0m\u001b[0m\n\u001b[1;32m      2\u001b[0m \u001b[0mbatch_size\u001b[0m\u001b[0;34m=\u001b[0m\u001b[0;36m100000\u001b[0m\u001b[0;34m\u001b[0m\u001b[0;34m\u001b[0m\u001b[0m\n\u001b[0;32m----> 3\u001b[0;31m \u001b[0mlength\u001b[0m\u001b[0;34m=\u001b[0m\u001b[0mlen\u001b[0m\u001b[0;34m(\u001b[0m\u001b[0mdf2\u001b[0m\u001b[0;34m)\u001b[0m\u001b[0;34m//\u001b[0m\u001b[0mbatch_size\u001b[0m\u001b[0;34m+\u001b[0m\u001b[0;36m1\u001b[0m\u001b[0;34m\u001b[0m\u001b[0;34m\u001b[0m\u001b[0m\n\u001b[0m\u001b[1;32m      4\u001b[0m \u001b[0;32mfor\u001b[0m \u001b[0mchunk\u001b[0m \u001b[0;32min\u001b[0m \u001b[0mtqdm\u001b[0m\u001b[0;34m(\u001b[0m\u001b[0mbatch\u001b[0m\u001b[0;34m(\u001b[0m\u001b[0mdf2\u001b[0m\u001b[0;34m,\u001b[0m\u001b[0mbatch_size\u001b[0m\u001b[0;34m)\u001b[0m\u001b[0;34m,\u001b[0m\u001b[0mtotal\u001b[0m\u001b[0;34m=\u001b[0m\u001b[0mlength\u001b[0m\u001b[0;34m)\u001b[0m\u001b[0;34m:\u001b[0m\u001b[0;34m\u001b[0m\u001b[0;34m\u001b[0m\u001b[0m\n\u001b[1;32m      5\u001b[0m     \u001b[0mload_dataframe\u001b[0m\u001b[0;34m(\u001b[0m\u001b[0mchunk\u001b[0m\u001b[0;34m,\u001b[0m\u001b[0;34m'titlebasics'\u001b[0m\u001b[0;34m)\u001b[0m\u001b[0;34m\u001b[0m\u001b[0;34m\u001b[0m\u001b[0m\n",
      "\u001b[0;31mNameError\u001b[0m: name 'df2' is not defined"
     ]
    }
   ],
   "source": [
    "#def insert_into_db(data_frame):\n",
    "batch_size=100000\n",
    "length=len(df2)//batch_size+1\n",
    "for chunk in tqdm(batch(df2,batch_size),total=length):\n",
    "    load_dataframe(chunk,'titlebasics')\n",
    "     #return"
   ]
  },
  {
   "cell_type": "markdown",
   "metadata": {},
   "source": [
    "## Title ratings ##"
   ]
  },
  {
   "cell_type": "code",
   "execution_count": 63,
   "metadata": {},
   "outputs": [],
   "source": [
    "def preprocess_dataframe_title_ratings(data_frame):\n",
    "    title_ratings_new_series=data_frame\n",
    "    \n",
    "    title_ratings_new_frame_avg_rating= title_ratings_new_series.astype({'averageRating': 'float'})\n",
    "    title_ratings_new_frame_avg_rating= title_ratings_new_series.astype({'numVotes': 'int32'})\n",
    "  \n",
    "    return title_ratings_new_frame_avg_rating\n",
    "title_ratings_preprocessed=preprocess_dataframe_title_ratings(title_ratings)"
   ]
  },
  {
   "cell_type": "code",
   "execution_count": 64,
   "metadata": {},
   "outputs": [
    {
     "data": {
      "text/plain": [
       "1086514"
      ]
     },
     "execution_count": 64,
     "metadata": {},
     "output_type": "execute_result"
    }
   ],
   "source": [
    "len(title_ratings_preprocessed)\n"
   ]
  },
  {
   "cell_type": "code",
   "execution_count": 65,
   "metadata": {},
   "outputs": [
    {
     "name": "stderr",
     "output_type": "stream",
     "text": [
      "100%|██████████| 11/11 [00:15<00:00,  1.39s/it]\n"
     ]
    }
   ],
   "source": [
    "batch_size=100000\n",
    "length=len(title_ratings_preprocessed)//batch_size+1\n",
    "for chunk in tqdm(batch(title_ratings_preprocessed,batch_size),total=length):\n",
    "    load_dataframe(chunk,'titleratings')"
   ]
  },
  {
   "cell_type": "markdown",
   "metadata": {},
   "source": [
    "## Title Episodes ##"
   ]
  },
  {
   "cell_type": "code",
   "execution_count": 84,
   "metadata": {},
   "outputs": [],
   "source": [
    "def preprocess_dataframe_title_episodes(data_frame):\n",
    "    title_episodes_new_series=data_frame\n",
    "    title_episodes_coerce_seasonNum = pd.to_numeric(title_episodes_new_series['seasonNumber'], errors='coerce')\n",
    "    title_episodes_coerce_episodeNum = pd.to_numeric(title_episodes_new_series['episodeNumber'], errors='coerce')\n",
    "\n",
    "    df_1 = pd.DataFrame(dict(test_column_1 = title_episodes_coerce_seasonNum)) \n",
    "    df_2 = pd.DataFrame(dict(test_column_2 = title_episodes_coerce_episodeNum)) \n",
    "\n",
    "    df_1['seasonNumber'] = df_1['test_column_1']\n",
    "    df_2['episodeNumber'] = df_2['test_column_2']\n",
    "    \n",
    "    title_episodes_new_frame=title_episodes_new_series.drop(['seasonNumber'],axis=1)\n",
    "    title_episodes_new_frame=title_episodes_new_series.drop(['episodeNumber'],axis=1)\n",
    "    \n",
    "    title_episodes_new_frame['seasonNumber']=df_1['seasonNumber']\n",
    "    title_episodes_new_frame['episodeNumber']=df_2['episodeNumber']\n",
    "       \n",
    "    return title_episodes_new_frame\n",
    "title_episodes_preprocessed=preprocess_dataframe_title_episodes(title_episodes)"
   ]
  },
  {
   "cell_type": "code",
   "execution_count": 85,
   "metadata": {},
   "outputs": [
    {
     "data": {
      "text/html": [
       "<div>\n",
       "<style scoped>\n",
       "    .dataframe tbody tr th:only-of-type {\n",
       "        vertical-align: middle;\n",
       "    }\n",
       "\n",
       "    .dataframe tbody tr th {\n",
       "        vertical-align: top;\n",
       "    }\n",
       "\n",
       "    .dataframe thead th {\n",
       "        text-align: right;\n",
       "    }\n",
       "</style>\n",
       "<table border=\"1\" class=\"dataframe\">\n",
       "  <thead>\n",
       "    <tr style=\"text-align: right;\">\n",
       "      <th></th>\n",
       "      <th>tconst</th>\n",
       "      <th>parentTconst</th>\n",
       "      <th>seasonNumber</th>\n",
       "      <th>episodeNumber</th>\n",
       "    </tr>\n",
       "  </thead>\n",
       "  <tbody>\n",
       "    <tr>\n",
       "      <th>0</th>\n",
       "      <td>tt0041951</td>\n",
       "      <td>tt0041038</td>\n",
       "      <td>1.0</td>\n",
       "      <td>9.0</td>\n",
       "    </tr>\n",
       "    <tr>\n",
       "      <th>1</th>\n",
       "      <td>tt0042816</td>\n",
       "      <td>tt0989125</td>\n",
       "      <td>1.0</td>\n",
       "      <td>17.0</td>\n",
       "    </tr>\n",
       "    <tr>\n",
       "      <th>2</th>\n",
       "      <td>tt0042889</td>\n",
       "      <td>tt0989125</td>\n",
       "      <td>NaN</td>\n",
       "      <td>NaN</td>\n",
       "    </tr>\n",
       "    <tr>\n",
       "      <th>3</th>\n",
       "      <td>tt0043426</td>\n",
       "      <td>tt0040051</td>\n",
       "      <td>3.0</td>\n",
       "      <td>42.0</td>\n",
       "    </tr>\n",
       "    <tr>\n",
       "      <th>4</th>\n",
       "      <td>tt0043631</td>\n",
       "      <td>tt0989125</td>\n",
       "      <td>2.0</td>\n",
       "      <td>16.0</td>\n",
       "    </tr>\n",
       "    <tr>\n",
       "      <th>...</th>\n",
       "      <td>...</td>\n",
       "      <td>...</td>\n",
       "      <td>...</td>\n",
       "      <td>...</td>\n",
       "    </tr>\n",
       "    <tr>\n",
       "      <th>5252722</th>\n",
       "      <td>tt9916846</td>\n",
       "      <td>tt1289683</td>\n",
       "      <td>3.0</td>\n",
       "      <td>18.0</td>\n",
       "    </tr>\n",
       "    <tr>\n",
       "      <th>5252723</th>\n",
       "      <td>tt9916848</td>\n",
       "      <td>tt1289683</td>\n",
       "      <td>3.0</td>\n",
       "      <td>17.0</td>\n",
       "    </tr>\n",
       "    <tr>\n",
       "      <th>5252724</th>\n",
       "      <td>tt9916850</td>\n",
       "      <td>tt1289683</td>\n",
       "      <td>3.0</td>\n",
       "      <td>19.0</td>\n",
       "    </tr>\n",
       "    <tr>\n",
       "      <th>5252725</th>\n",
       "      <td>tt9916852</td>\n",
       "      <td>tt1289683</td>\n",
       "      <td>3.0</td>\n",
       "      <td>20.0</td>\n",
       "    </tr>\n",
       "    <tr>\n",
       "      <th>5252726</th>\n",
       "      <td>tt9916880</td>\n",
       "      <td>tt0985991</td>\n",
       "      <td>4.0</td>\n",
       "      <td>2.0</td>\n",
       "    </tr>\n",
       "  </tbody>\n",
       "</table>\n",
       "<p>5252727 rows × 4 columns</p>\n",
       "</div>"
      ],
      "text/plain": [
       "            tconst parentTconst  seasonNumber  episodeNumber\n",
       "0        tt0041951    tt0041038           1.0            9.0\n",
       "1        tt0042816    tt0989125           1.0           17.0\n",
       "2        tt0042889    tt0989125           NaN            NaN\n",
       "3        tt0043426    tt0040051           3.0           42.0\n",
       "4        tt0043631    tt0989125           2.0           16.0\n",
       "...            ...          ...           ...            ...\n",
       "5252722  tt9916846    tt1289683           3.0           18.0\n",
       "5252723  tt9916848    tt1289683           3.0           17.0\n",
       "5252724  tt9916850    tt1289683           3.0           19.0\n",
       "5252725  tt9916852    tt1289683           3.0           20.0\n",
       "5252726  tt9916880    tt0985991           4.0            2.0\n",
       "\n",
       "[5252727 rows x 4 columns]"
      ]
     },
     "execution_count": 85,
     "metadata": {},
     "output_type": "execute_result"
    }
   ],
   "source": [
    "title_episodes_preprocessed"
   ]
  },
  {
   "cell_type": "code",
   "execution_count": 86,
   "metadata": {},
   "outputs": [],
   "source": [
    "title_episodes_preprocessed.tconst=title_episodes_preprocessed.tconst.mask(~title_episodes_preprocessed.tconst.isin(title_basics_preprocessed.tconst),None)\n"
   ]
  },
  {
   "cell_type": "code",
   "execution_count": 87,
   "metadata": {},
   "outputs": [
    {
     "name": "stderr",
     "output_type": "stream",
     "text": [
      "100%|██████████| 53/53 [01:18<00:00,  1.49s/it]\n"
     ]
    }
   ],
   "source": [
    "batch_size=100000\n",
    "length=len(title_episodes_preprocessed)//batch_size+1\n",
    "for chunk in tqdm(batch(title_episodes_preprocessed,batch_size),total=length):\n",
    "    load_dataframe(chunk,'titleepisodes')"
   ]
  },
  {
   "cell_type": "markdown",
   "metadata": {},
   "source": [
    "## Title Akas ##"
   ]
  },
  {
   "cell_type": "code",
   "execution_count": 88,
   "metadata": {},
   "outputs": [],
   "source": [
    "def preprocess_dataframe_title_akas(data_frame):\n",
    "    title_akas_new_series=data_frame\n",
    "    title_akas_new_series=title_akas_new_series.drop(['types', 'attributes'],axis=1)\n",
    "    \n",
    "    title_akas_coerce_ordering = pd.to_numeric(title_akas_new_series['ordering'], errors='coerce')\n",
    "    title_akas_coerce_isOriginalTitle = pd.to_numeric(title_akas_new_series['isOriginalTitle'], errors='coerce')\n",
    "\n",
    "    df_1 = pd.DataFrame(dict(test_column_1 = title_akas_coerce_ordering)) \n",
    "    df_2 = pd.DataFrame(dict(test_column_2 = title_akas_coerce_isOriginalTitle)) \n",
    "\n",
    "    df_1['ordering'] = df_1['test_column_1']\n",
    "    df_2['isOriginalTitle'] = df_2['test_column_2']\n",
    "    \n",
    "    title_akas_new_frame=title_akas_new_series.drop(['ordering'],axis=1)\n",
    "    title_akas_new_frame=title_akas_new_series.drop(['isOriginalTitle'],axis=1)\n",
    "    \n",
    "    title_akas_new_frame['ordering']=df_1['ordering']\n",
    "    title_akas_new_frame['isOriginalTitle']=df_2['isOriginalTitle']\n",
    "    \n",
    "    \n",
    "    \n",
    "    #title_akas_new_frame_avg_rating= title_akas_new_series.astype({'title': 'float'})\n",
    "    #title_akas_new_frame_avg_rating= title_akas_new_series.astype({'language': 'float'})\n",
    "    #title_akas_new_frame_avg_rating= title_akas_new_series.astype({'region': 'float'})\n",
    "    #title_akas_new_frame_avg_rating= title_akas_new_series.astype({'ordering': 'int32'})\n",
    "    #title_akas_new_frame_avg_rating= title_akas_new_series.astype({'isOriginalTitle': 'int32'})\n",
    "    \n",
    "\n",
    "\n",
    "    #print(title_ratings_new_frame_avg_rating)\n",
    "    #title_ratings_new_frame_avg_rating.to_sql('titleratings',con=database_connection, if_exists='append',index=False)   \n",
    "    return title_akas_new_frame\n",
    "title_akas_preprocessed=preprocess_dataframe_title_akas(title_akas)"
   ]
  },
  {
   "cell_type": "code",
   "execution_count": 197,
   "metadata": {},
   "outputs": [
    {
     "name": "stdout",
     "output_type": "stream",
     "text": [
      "<class 'pandas.core.frame.DataFrame'>\n",
      "RangeIndex: 23944188 entries, 0 to 23944187\n",
      "Data columns (total 6 columns):\n",
      " #   Column           Dtype  \n",
      "---  ------           -----  \n",
      " 0   titleId          object \n",
      " 1   ordering         int64  \n",
      " 2   title            object \n",
      " 3   region           object \n",
      " 4   language         object \n",
      " 5   isOriginalTitle  float64\n",
      "dtypes: float64(1), int64(1), object(4)\n",
      "memory usage: 1.1+ GB\n"
     ]
    }
   ],
   "source": [
    "title_akas_preprocessed.info()"
   ]
  },
  {
   "cell_type": "code",
   "execution_count": 89,
   "metadata": {},
   "outputs": [
    {
     "data": {
      "text/html": [
       "<div>\n",
       "<style scoped>\n",
       "    .dataframe tbody tr th:only-of-type {\n",
       "        vertical-align: middle;\n",
       "    }\n",
       "\n",
       "    .dataframe tbody tr th {\n",
       "        vertical-align: top;\n",
       "    }\n",
       "\n",
       "    .dataframe thead th {\n",
       "        text-align: right;\n",
       "    }\n",
       "</style>\n",
       "<table border=\"1\" class=\"dataframe\">\n",
       "  <thead>\n",
       "    <tr style=\"text-align: right;\">\n",
       "      <th></th>\n",
       "      <th>titleId</th>\n",
       "      <th>ordering</th>\n",
       "      <th>title</th>\n",
       "      <th>region</th>\n",
       "      <th>language</th>\n",
       "      <th>isOriginalTitle</th>\n",
       "    </tr>\n",
       "  </thead>\n",
       "  <tbody>\n",
       "    <tr>\n",
       "      <th>75529</th>\n",
       "      <td>tt0021006</td>\n",
       "      <td>1</td>\n",
       "      <td>Ja, der Himmel über Wien</td>\n",
       "      <td>AT</td>\n",
       "      <td>\\N</td>\n",
       "      <td>NaN</td>\n",
       "    </tr>\n",
       "    <tr>\n",
       "      <th>78082</th>\n",
       "      <td>tt0021453</td>\n",
       "      <td>1</td>\n",
       "      <td>Tapping Toes</td>\n",
       "      <td>US</td>\n",
       "      <td>\\N</td>\n",
       "      <td>NaN</td>\n",
       "    </tr>\n",
       "    <tr>\n",
       "      <th>87197</th>\n",
       "      <td>tt0023019</td>\n",
       "      <td>1</td>\n",
       "      <td>Hollywood on Parade</td>\n",
       "      <td>US</td>\n",
       "      <td>\\N</td>\n",
       "      <td>NaN</td>\n",
       "    </tr>\n",
       "    <tr>\n",
       "      <th>97581</th>\n",
       "      <td>tt0024677</td>\n",
       "      <td>1</td>\n",
       "      <td>Tom's in Town</td>\n",
       "      <td>US</td>\n",
       "      <td>\\N</td>\n",
       "      <td>NaN</td>\n",
       "    </tr>\n",
       "    <tr>\n",
       "      <th>174103</th>\n",
       "      <td>tt0036165</td>\n",
       "      <td>1</td>\n",
       "      <td>Missing Men</td>\n",
       "      <td>US</td>\n",
       "      <td>\\N</td>\n",
       "      <td>NaN</td>\n",
       "    </tr>\n",
       "    <tr>\n",
       "      <th>...</th>\n",
       "      <td>...</td>\n",
       "      <td>...</td>\n",
       "      <td>...</td>\n",
       "      <td>...</td>\n",
       "      <td>...</td>\n",
       "      <td>...</td>\n",
       "    </tr>\n",
       "    <tr>\n",
       "      <th>20551354</th>\n",
       "      <td>tt7978886</td>\n",
       "      <td>1</td>\n",
       "      <td>State of Defacto</td>\n",
       "      <td>AM</td>\n",
       "      <td>\\N</td>\n",
       "      <td>0.0</td>\n",
       "    </tr>\n",
       "    <tr>\n",
       "      <th>20936004</th>\n",
       "      <td>tt8206494</td>\n",
       "      <td>1</td>\n",
       "      <td>Blood for Dust</td>\n",
       "      <td>US</td>\n",
       "      <td>\\N</td>\n",
       "      <td>0.0</td>\n",
       "    </tr>\n",
       "    <tr>\n",
       "      <th>21374750</th>\n",
       "      <td>tt8466868</td>\n",
       "      <td>1</td>\n",
       "      <td>Butaca</td>\n",
       "      <td>ES</td>\n",
       "      <td>\\N</td>\n",
       "      <td>0.0</td>\n",
       "    </tr>\n",
       "    <tr>\n",
       "      <th>22241328</th>\n",
       "      <td>tt8982514</td>\n",
       "      <td>1</td>\n",
       "      <td>To The Bitter End</td>\n",
       "      <td>US</td>\n",
       "      <td>\\N</td>\n",
       "      <td>0.0</td>\n",
       "    </tr>\n",
       "    <tr>\n",
       "      <th>23162158</th>\n",
       "      <td>tt9496006</td>\n",
       "      <td>1</td>\n",
       "      <td>Panther Brawl: A Documentary on the Masuk High...</td>\n",
       "      <td>US</td>\n",
       "      <td>\\N</td>\n",
       "      <td>0.0</td>\n",
       "    </tr>\n",
       "  </tbody>\n",
       "</table>\n",
       "<p>5227 rows × 6 columns</p>\n",
       "</div>"
      ],
      "text/plain": [
       "            titleId  ordering  \\\n",
       "75529     tt0021006         1   \n",
       "78082     tt0021453         1   \n",
       "87197     tt0023019         1   \n",
       "97581     tt0024677         1   \n",
       "174103    tt0036165         1   \n",
       "...             ...       ...   \n",
       "20551354  tt7978886         1   \n",
       "20936004  tt8206494         1   \n",
       "21374750  tt8466868         1   \n",
       "22241328  tt8982514         1   \n",
       "23162158  tt9496006         1   \n",
       "\n",
       "                                                      title region language  \\\n",
       "75529                              Ja, der Himmel über Wien     AT       \\N   \n",
       "78082                                          Tapping Toes     US       \\N   \n",
       "87197                                   Hollywood on Parade     US       \\N   \n",
       "97581                                         Tom's in Town     US       \\N   \n",
       "174103                                          Missing Men     US       \\N   \n",
       "...                                                     ...    ...      ...   \n",
       "20551354                                   State of Defacto     AM       \\N   \n",
       "20936004                                     Blood for Dust     US       \\N   \n",
       "21374750                                             Butaca     ES       \\N   \n",
       "22241328                                  To The Bitter End     US       \\N   \n",
       "23162158  Panther Brawl: A Documentary on the Masuk High...     US       \\N   \n",
       "\n",
       "          isOriginalTitle  \n",
       "75529                 NaN  \n",
       "78082                 NaN  \n",
       "87197                 NaN  \n",
       "97581                 NaN  \n",
       "174103                NaN  \n",
       "...                   ...  \n",
       "20551354              0.0  \n",
       "20936004              0.0  \n",
       "21374750              0.0  \n",
       "22241328              0.0  \n",
       "23162158              0.0  \n",
       "\n",
       "[5227 rows x 6 columns]"
      ]
     },
     "execution_count": 89,
     "metadata": {},
     "output_type": "execute_result"
    }
   ],
   "source": [
    "title_akas_preprocessed[~title_akas_preprocessed.titleId.isin(title_basics_preprocessed.tconst)]"
   ]
  },
  {
   "cell_type": "code",
   "execution_count": 90,
   "metadata": {},
   "outputs": [],
   "source": [
    "title_akas_preprocessed.titleId=title_akas_preprocessed.titleId.mask(~title_akas_preprocessed.titleId.isin(title_basics_preprocessed.tconst),None)\n",
    "\n"
   ]
  },
  {
   "cell_type": "code",
   "execution_count": 91,
   "metadata": {},
   "outputs": [
    {
     "name": "stderr",
     "output_type": "stream",
     "text": [
      "100%|██████████| 240/240 [08:08<00:00,  2.04s/it]\n"
     ]
    }
   ],
   "source": [
    "batch_size=100000\n",
    "length=len(title_akas_preprocessed)//batch_size+1\n",
    "for chunk in tqdm(batch(title_akas_preprocessed,batch_size),total=length):\n",
    "    load_dataframe(chunk,'titleAKAs')"
   ]
  },
  {
   "cell_type": "markdown",
   "metadata": {},
   "source": [
    "## Name Basics-ncost column name is not in right format-see error below. Tried to convert it into sql syntax no luck ##"
   ]
  },
  {
   "cell_type": "code",
   "execution_count": 5,
   "metadata": {},
   "outputs": [
    {
     "data": {
      "text/html": [
       "<div>\n",
       "<style scoped>\n",
       "    .dataframe tbody tr th:only-of-type {\n",
       "        vertical-align: middle;\n",
       "    }\n",
       "\n",
       "    .dataframe tbody tr th {\n",
       "        vertical-align: top;\n",
       "    }\n",
       "\n",
       "    .dataframe thead th {\n",
       "        text-align: right;\n",
       "    }\n",
       "</style>\n",
       "<table border=\"1\" class=\"dataframe\">\n",
       "  <thead>\n",
       "    <tr style=\"text-align: right;\">\n",
       "      <th></th>\n",
       "      <th>nconst</th>\n",
       "      <th>primaryName</th>\n",
       "      <th>birthYear</th>\n",
       "      <th>deathYear</th>\n",
       "      <th>primaryProfession</th>\n",
       "      <th>knownForTitles</th>\n",
       "    </tr>\n",
       "  </thead>\n",
       "  <tbody>\n",
       "    <tr>\n",
       "      <th>0</th>\n",
       "      <td>nm0000001</td>\n",
       "      <td>Fred Astaire</td>\n",
       "      <td>1899</td>\n",
       "      <td>1987</td>\n",
       "      <td>soundtrack,actor,miscellaneous</td>\n",
       "      <td>tt0031983,tt0050419,tt0072308,tt0053137</td>\n",
       "    </tr>\n",
       "    <tr>\n",
       "      <th>1</th>\n",
       "      <td>nm0000002</td>\n",
       "      <td>Lauren Bacall</td>\n",
       "      <td>1924</td>\n",
       "      <td>2014</td>\n",
       "      <td>actress,soundtrack</td>\n",
       "      <td>tt0037382,tt0117057,tt0038355,tt0071877</td>\n",
       "    </tr>\n",
       "    <tr>\n",
       "      <th>2</th>\n",
       "      <td>nm0000003</td>\n",
       "      <td>Brigitte Bardot</td>\n",
       "      <td>1934</td>\n",
       "      <td>\\N</td>\n",
       "      <td>actress,soundtrack,music_department</td>\n",
       "      <td>tt0059956,tt0057345,tt0054452,tt0049189</td>\n",
       "    </tr>\n",
       "    <tr>\n",
       "      <th>3</th>\n",
       "      <td>nm0000004</td>\n",
       "      <td>John Belushi</td>\n",
       "      <td>1949</td>\n",
       "      <td>1982</td>\n",
       "      <td>actor,soundtrack,writer</td>\n",
       "      <td>tt0080455,tt0078723,tt0077975,tt0072562</td>\n",
       "    </tr>\n",
       "    <tr>\n",
       "      <th>4</th>\n",
       "      <td>nm0000005</td>\n",
       "      <td>Ingmar Bergman</td>\n",
       "      <td>1918</td>\n",
       "      <td>2007</td>\n",
       "      <td>writer,director,actor</td>\n",
       "      <td>tt0050986,tt0060827,tt0083922,tt0050976</td>\n",
       "    </tr>\n",
       "    <tr>\n",
       "      <th>...</th>\n",
       "      <td>...</td>\n",
       "      <td>...</td>\n",
       "      <td>...</td>\n",
       "      <td>...</td>\n",
       "      <td>...</td>\n",
       "      <td>...</td>\n",
       "    </tr>\n",
       "    <tr>\n",
       "      <th>10473337</th>\n",
       "      <td>nm9993714</td>\n",
       "      <td>Romeo del Rosario</td>\n",
       "      <td>\\N</td>\n",
       "      <td>\\N</td>\n",
       "      <td>animation_department,art_department</td>\n",
       "      <td>tt2455546</td>\n",
       "    </tr>\n",
       "    <tr>\n",
       "      <th>10473338</th>\n",
       "      <td>nm9993716</td>\n",
       "      <td>Essias Loberg</td>\n",
       "      <td>\\N</td>\n",
       "      <td>\\N</td>\n",
       "      <td>NaN</td>\n",
       "      <td>\\N</td>\n",
       "    </tr>\n",
       "    <tr>\n",
       "      <th>10473339</th>\n",
       "      <td>nm9993717</td>\n",
       "      <td>Harikrishnan Rajan</td>\n",
       "      <td>\\N</td>\n",
       "      <td>\\N</td>\n",
       "      <td>cinematographer</td>\n",
       "      <td>tt8736744</td>\n",
       "    </tr>\n",
       "    <tr>\n",
       "      <th>10473340</th>\n",
       "      <td>nm9993718</td>\n",
       "      <td>Aayush Nair</td>\n",
       "      <td>\\N</td>\n",
       "      <td>\\N</td>\n",
       "      <td>cinematographer</td>\n",
       "      <td>\\N</td>\n",
       "    </tr>\n",
       "    <tr>\n",
       "      <th>10473341</th>\n",
       "      <td>nm9993719</td>\n",
       "      <td>Andre Hill</td>\n",
       "      <td>\\N</td>\n",
       "      <td>\\N</td>\n",
       "      <td>NaN</td>\n",
       "      <td>\\N</td>\n",
       "    </tr>\n",
       "  </tbody>\n",
       "</table>\n",
       "<p>10473342 rows × 6 columns</p>\n",
       "</div>"
      ],
      "text/plain": [
       "             nconst         primaryName birthYear deathYear  \\\n",
       "0         nm0000001        Fred Astaire      1899      1987   \n",
       "1         nm0000002       Lauren Bacall      1924      2014   \n",
       "2         nm0000003     Brigitte Bardot      1934        \\N   \n",
       "3         nm0000004        John Belushi      1949      1982   \n",
       "4         nm0000005      Ingmar Bergman      1918      2007   \n",
       "...             ...                 ...       ...       ...   \n",
       "10473337  nm9993714   Romeo del Rosario        \\N        \\N   \n",
       "10473338  nm9993716       Essias Loberg        \\N        \\N   \n",
       "10473339  nm9993717  Harikrishnan Rajan        \\N        \\N   \n",
       "10473340  nm9993718         Aayush Nair        \\N        \\N   \n",
       "10473341  nm9993719          Andre Hill        \\N        \\N   \n",
       "\n",
       "                            primaryProfession  \\\n",
       "0              soundtrack,actor,miscellaneous   \n",
       "1                          actress,soundtrack   \n",
       "2         actress,soundtrack,music_department   \n",
       "3                     actor,soundtrack,writer   \n",
       "4                       writer,director,actor   \n",
       "...                                       ...   \n",
       "10473337  animation_department,art_department   \n",
       "10473338                                  NaN   \n",
       "10473339                      cinematographer   \n",
       "10473340                      cinematographer   \n",
       "10473341                                  NaN   \n",
       "\n",
       "                                   knownForTitles  \n",
       "0         tt0031983,tt0050419,tt0072308,tt0053137  \n",
       "1         tt0037382,tt0117057,tt0038355,tt0071877  \n",
       "2         tt0059956,tt0057345,tt0054452,tt0049189  \n",
       "3         tt0080455,tt0078723,tt0077975,tt0072562  \n",
       "4         tt0050986,tt0060827,tt0083922,tt0050976  \n",
       "...                                           ...  \n",
       "10473337                                tt2455546  \n",
       "10473338                                       \\N  \n",
       "10473339                                tt8736744  \n",
       "10473340                                       \\N  \n",
       "10473341                                       \\N  \n",
       "\n",
       "[10473342 rows x 6 columns]"
      ]
     },
     "execution_count": 5,
     "metadata": {},
     "output_type": "execute_result"
    }
   ],
   "source": [
    "name_basics"
   ]
  },
  {
   "cell_type": "code",
   "execution_count": 154,
   "metadata": {},
   "outputs": [],
   "source": [
    "import pymysql\n",
    "connection = pymysql.connect(host='localhost',\n",
    "                         user='root',\n",
    "                         password='new_password',\n",
    "                         db='imdb_new_final')\n",
    "\n",
    "\n",
    "# create cursor\n",
    "cursor=connection.cursor()"
   ]
  },
  {
   "cell_type": "code",
   "execution_count": 66,
   "metadata": {},
   "outputs": [],
   "source": [
    "def preprocess_dataframe_name_basics(data_frame):\n",
    "    name_basics_new_series=data_frame\n",
    "    name_basics_new_series=name_basics_new_series.drop(['primaryProfession', 'knownForTitles'],axis=1)\n",
    "    \n",
    "    name_basics_new_series['birthYear']= pd.to_datetime(name_basics_new_series.birthYear, errors='coerce', format='%Y')\n",
    "\n",
    "\n",
    "    \n",
    "    #title_basics_new_frame_transpose['startYear']=[time.date() for time in title_basics_new_frame_transpose['startYear']]\n",
    "\n",
    "    \n",
    "    name_basics_new_series['deathYear']= pd.to_datetime(name_basics_new_series.deathYear, errors='coerce', format='%Y')\n",
    "    \n",
    "    \n",
    "      \n",
    "    return name_basics_new_series\n",
    "name_basics_preprocessed=preprocess_dataframe_name_basics(name_basics)"
   ]
  },
  {
   "cell_type": "code",
   "execution_count": 67,
   "metadata": {},
   "outputs": [],
   "source": [
    "name_basics_preprocessed[\"noofmovies\"] = \"\"\n",
    "name_basics_preprocessed[\"age\"] = \"\"\n",
    "name_basics_preprocessed[\"currentdate\"] = \"\"\n",
    "\n",
    "\n",
    "\n",
    "\n",
    "\n",
    "\n"
   ]
  },
  {
   "cell_type": "code",
   "execution_count": 68,
   "metadata": {},
   "outputs": [],
   "source": [
    "name_basics_preprocessed_new= pd.to_numeric(name_basics_preprocessed['noofmovies'], errors='coerce')\n",
    "\n",
    "name_basics_preprocessed_new = pd.to_numeric(name_basics_preprocessed['age'], errors='coerce')\n",
    "name_basics_preprocessed['currentdate']= pd.to_datetime(name_basics_preprocessed.currentdate, errors='coerce', format='%Y')\n"
   ]
  },
  {
   "cell_type": "code",
   "execution_count": 69,
   "metadata": {},
   "outputs": [],
   "source": [
    "df_1 = pd.DataFrame(dict(test_column_1 = name_basics_preprocessed_new)) \n",
    "df_2 = pd.DataFrame(dict(test_column_2 = name_basics_preprocessed_new)) \n",
    "\n",
    "df_1['noofmovies'] = df_1['test_column_1']\n",
    "df_2['age'] = df_2['test_column_2']\n",
    "\n",
    "name_basics_preprocessed['noofmovies']=df_1['noofmovies']\n",
    "name_basics_preprocessed['age']=df_2['age']"
   ]
  },
  {
   "cell_type": "code",
   "execution_count": 70,
   "metadata": {},
   "outputs": [],
   "source": [
    "name_basics_preprocessed\n",
    "\n",
    "name_basics_preprocessed['currentdate']= pd.to_datetime(name_basics_preprocessed['currentdate'])\n"
   ]
  },
  {
   "cell_type": "code",
   "execution_count": 71,
   "metadata": {},
   "outputs": [
    {
     "data": {
      "text/html": [
       "<div>\n",
       "<style scoped>\n",
       "    .dataframe tbody tr th:only-of-type {\n",
       "        vertical-align: middle;\n",
       "    }\n",
       "\n",
       "    .dataframe tbody tr th {\n",
       "        vertical-align: top;\n",
       "    }\n",
       "\n",
       "    .dataframe thead th {\n",
       "        text-align: right;\n",
       "    }\n",
       "</style>\n",
       "<table border=\"1\" class=\"dataframe\">\n",
       "  <thead>\n",
       "    <tr style=\"text-align: right;\">\n",
       "      <th></th>\n",
       "      <th>nconst</th>\n",
       "      <th>primaryName</th>\n",
       "      <th>birthYear</th>\n",
       "      <th>deathYear</th>\n",
       "      <th>noofmovies</th>\n",
       "      <th>age</th>\n",
       "      <th>currentdate</th>\n",
       "    </tr>\n",
       "  </thead>\n",
       "  <tbody>\n",
       "    <tr>\n",
       "      <th>0</th>\n",
       "      <td>nm0000001</td>\n",
       "      <td>Fred Astaire</td>\n",
       "      <td>1899-01-01</td>\n",
       "      <td>1987-01-01</td>\n",
       "      <td>NaN</td>\n",
       "      <td>NaN</td>\n",
       "      <td>NaT</td>\n",
       "    </tr>\n",
       "    <tr>\n",
       "      <th>1</th>\n",
       "      <td>nm0000002</td>\n",
       "      <td>Lauren Bacall</td>\n",
       "      <td>1924-01-01</td>\n",
       "      <td>2014-01-01</td>\n",
       "      <td>NaN</td>\n",
       "      <td>NaN</td>\n",
       "      <td>NaT</td>\n",
       "    </tr>\n",
       "    <tr>\n",
       "      <th>2</th>\n",
       "      <td>nm0000003</td>\n",
       "      <td>Brigitte Bardot</td>\n",
       "      <td>1934-01-01</td>\n",
       "      <td>NaT</td>\n",
       "      <td>NaN</td>\n",
       "      <td>NaN</td>\n",
       "      <td>NaT</td>\n",
       "    </tr>\n",
       "    <tr>\n",
       "      <th>3</th>\n",
       "      <td>nm0000004</td>\n",
       "      <td>John Belushi</td>\n",
       "      <td>1949-01-01</td>\n",
       "      <td>1982-01-01</td>\n",
       "      <td>NaN</td>\n",
       "      <td>NaN</td>\n",
       "      <td>NaT</td>\n",
       "    </tr>\n",
       "    <tr>\n",
       "      <th>4</th>\n",
       "      <td>nm0000005</td>\n",
       "      <td>Ingmar Bergman</td>\n",
       "      <td>1918-01-01</td>\n",
       "      <td>2007-01-01</td>\n",
       "      <td>NaN</td>\n",
       "      <td>NaN</td>\n",
       "      <td>NaT</td>\n",
       "    </tr>\n",
       "    <tr>\n",
       "      <th>...</th>\n",
       "      <td>...</td>\n",
       "      <td>...</td>\n",
       "      <td>...</td>\n",
       "      <td>...</td>\n",
       "      <td>...</td>\n",
       "      <td>...</td>\n",
       "      <td>...</td>\n",
       "    </tr>\n",
       "    <tr>\n",
       "      <th>10473337</th>\n",
       "      <td>nm9993714</td>\n",
       "      <td>Romeo del Rosario</td>\n",
       "      <td>NaT</td>\n",
       "      <td>NaT</td>\n",
       "      <td>NaN</td>\n",
       "      <td>NaN</td>\n",
       "      <td>NaT</td>\n",
       "    </tr>\n",
       "    <tr>\n",
       "      <th>10473338</th>\n",
       "      <td>nm9993716</td>\n",
       "      <td>Essias Loberg</td>\n",
       "      <td>NaT</td>\n",
       "      <td>NaT</td>\n",
       "      <td>NaN</td>\n",
       "      <td>NaN</td>\n",
       "      <td>NaT</td>\n",
       "    </tr>\n",
       "    <tr>\n",
       "      <th>10473339</th>\n",
       "      <td>nm9993717</td>\n",
       "      <td>Harikrishnan Rajan</td>\n",
       "      <td>NaT</td>\n",
       "      <td>NaT</td>\n",
       "      <td>NaN</td>\n",
       "      <td>NaN</td>\n",
       "      <td>NaT</td>\n",
       "    </tr>\n",
       "    <tr>\n",
       "      <th>10473340</th>\n",
       "      <td>nm9993718</td>\n",
       "      <td>Aayush Nair</td>\n",
       "      <td>NaT</td>\n",
       "      <td>NaT</td>\n",
       "      <td>NaN</td>\n",
       "      <td>NaN</td>\n",
       "      <td>NaT</td>\n",
       "    </tr>\n",
       "    <tr>\n",
       "      <th>10473341</th>\n",
       "      <td>nm9993719</td>\n",
       "      <td>Andre Hill</td>\n",
       "      <td>NaT</td>\n",
       "      <td>NaT</td>\n",
       "      <td>NaN</td>\n",
       "      <td>NaN</td>\n",
       "      <td>NaT</td>\n",
       "    </tr>\n",
       "  </tbody>\n",
       "</table>\n",
       "<p>10473342 rows × 7 columns</p>\n",
       "</div>"
      ],
      "text/plain": [
       "             nconst         primaryName  birthYear  deathYear  noofmovies  \\\n",
       "0         nm0000001        Fred Astaire 1899-01-01 1987-01-01         NaN   \n",
       "1         nm0000002       Lauren Bacall 1924-01-01 2014-01-01         NaN   \n",
       "2         nm0000003     Brigitte Bardot 1934-01-01        NaT         NaN   \n",
       "3         nm0000004        John Belushi 1949-01-01 1982-01-01         NaN   \n",
       "4         nm0000005      Ingmar Bergman 1918-01-01 2007-01-01         NaN   \n",
       "...             ...                 ...        ...        ...         ...   \n",
       "10473337  nm9993714   Romeo del Rosario        NaT        NaT         NaN   \n",
       "10473338  nm9993716       Essias Loberg        NaT        NaT         NaN   \n",
       "10473339  nm9993717  Harikrishnan Rajan        NaT        NaT         NaN   \n",
       "10473340  nm9993718         Aayush Nair        NaT        NaT         NaN   \n",
       "10473341  nm9993719          Andre Hill        NaT        NaT         NaN   \n",
       "\n",
       "          age currentdate  \n",
       "0         NaN         NaT  \n",
       "1         NaN         NaT  \n",
       "2         NaN         NaT  \n",
       "3         NaN         NaT  \n",
       "4         NaN         NaT  \n",
       "...       ...         ...  \n",
       "10473337  NaN         NaT  \n",
       "10473338  NaN         NaT  \n",
       "10473339  NaN         NaT  \n",
       "10473340  NaN         NaT  \n",
       "10473341  NaN         NaT  \n",
       "\n",
       "[10473342 rows x 7 columns]"
      ]
     },
     "execution_count": 71,
     "metadata": {},
     "output_type": "execute_result"
    }
   ],
   "source": [
    "name_basics_preprocessed"
   ]
  },
  {
   "cell_type": "code",
   "execution_count": 44,
   "metadata": {},
   "outputs": [
    {
     "data": {
      "text/plain": [
       "list"
      ]
     },
     "execution_count": 44,
     "metadata": {},
     "output_type": "execute_result"
    }
   ],
   "source": [
    "type(list(name_basics_preprocessed.columns[0]))"
   ]
  },
  {
   "cell_type": "code",
   "execution_count": 72,
   "metadata": {},
   "outputs": [],
   "source": [
    "#for col in name_basics_preprocessed.columns: \n",
    "    #print(str(col).iloc[0])\n",
    "\n",
    "name_basics_preprocessed_new=name_basics_preprocessed.rename(columns={\"nconst\": \"%snconst\"})\n"
   ]
  },
  {
   "cell_type": "code",
   "execution_count": 46,
   "metadata": {},
   "outputs": [
    {
     "name": "stdout",
     "output_type": "stream",
     "text": [
      "<class 'pandas.core.frame.DataFrame'>\n",
      "RangeIndex: 10473342 entries, 0 to 10473341\n",
      "Data columns (total 7 columns):\n",
      " #   Column       Dtype         \n",
      "---  ------       -----         \n",
      " 0   nconst       object        \n",
      " 1   primaryName  object        \n",
      " 2   birthYear    datetime64[ns]\n",
      " 3   deathYear    datetime64[ns]\n",
      " 4   noofmovies   float64       \n",
      " 5   age          float64       \n",
      " 6   currentdate  datetime64[ns]\n",
      "dtypes: datetime64[ns](3), float64(2), object(2)\n",
      "memory usage: 559.3+ MB\n"
     ]
    }
   ],
   "source": [
    "name_basics_preprocessed.info()"
   ]
  },
  {
   "cell_type": "markdown",
   "metadata": {},
   "source": [
    "## Approach 1- With sql alchemy ##"
   ]
  },
  {
   "cell_type": "code",
   "execution_count": 73,
   "metadata": {},
   "outputs": [
    {
     "name": "stderr",
     "output_type": "stream",
     "text": [
      "100%|██████████| 105/105 [03:41<00:00,  2.11s/it]\n"
     ]
    }
   ],
   "source": [
    "batch_size=100000\n",
    "length=len(name_basics_preprocessed)//batch_size+1\n",
    "for chunk in tqdm(batch(name_basics_preprocessed,batch_size),total=length):\n",
    "    load_dataframe(chunk,'namebasics')"
   ]
  },
  {
   "cell_type": "code",
   "execution_count": 80,
   "metadata": {},
   "outputs": [],
   "source": [
    "mydb = mysql.connector.connect(\n",
    "    host=\"localhost\",\n",
    "    user=\"root\",\n",
    "    passwd=\"alupizzo92\",\n",
    "    database=\"imbd_application\"\n",
    ")\n",
    "mycursor = mydb.cursor()\n",
    "\n",
    "query = \"DESCRIBE namebasics; SELECT * FROM namebasics LIMIT 1;\"\n",
    "mycursor.execute(query)"
   ]
  },
  {
   "cell_type": "markdown",
   "metadata": {},
   "source": [
    "## Approach 2- Without sql alchemy ##"
   ]
  },
  {
   "cell_type": "code",
   "execution_count": 206,
   "metadata": {},
   "outputs": [
    {
     "name": "stderr",
     "output_type": "stream",
     "text": [
      "  0%|          | 0/105 [00:40<?, ?it/s]\n"
     ]
    },
    {
     "ename": "AttributeError",
     "evalue": "'Timestamp' object has no attribute 'translate'",
     "output_type": "error",
     "traceback": [
      "\u001b[0;31m---------------------------------------------------------------------------\u001b[0m",
      "\u001b[0;31mAttributeError\u001b[0m                            Traceback (most recent call last)",
      "\u001b[0;32m<ipython-input-206-9fec92689033>\u001b[0m in \u001b[0;36m<module>\u001b[0;34m\u001b[0m\n\u001b[1;32m      8\u001b[0m     \u001b[0;32mfor\u001b[0m \u001b[0mi\u001b[0m\u001b[0;34m,\u001b[0m\u001b[0mrow\u001b[0m \u001b[0;32min\u001b[0m \u001b[0mname_basics_preprocessed\u001b[0m\u001b[0;34m.\u001b[0m\u001b[0miterrows\u001b[0m\u001b[0;34m(\u001b[0m\u001b[0;34m)\u001b[0m\u001b[0;34m:\u001b[0m\u001b[0;34m\u001b[0m\u001b[0;34m\u001b[0m\u001b[0m\n\u001b[1;32m      9\u001b[0m         \u001b[0msql\u001b[0m \u001b[0;34m=\u001b[0m \u001b[0;34m\"INSERT INTO `namebasics` (`\"\u001b[0m \u001b[0;34m+\u001b[0m\u001b[0mcols\u001b[0m \u001b[0;34m+\u001b[0m \u001b[0;34m\"`) VALUES (\"\u001b[0m \u001b[0;34m+\u001b[0m \u001b[0;34m\"%s,\"\u001b[0m\u001b[0;34m*\u001b[0m\u001b[0;34m(\u001b[0m\u001b[0mlen\u001b[0m\u001b[0;34m(\u001b[0m\u001b[0mrow\u001b[0m\u001b[0;34m)\u001b[0m\u001b[0;34m-\u001b[0m\u001b[0;36m1\u001b[0m\u001b[0;34m)\u001b[0m \u001b[0;34m+\u001b[0m \u001b[0;34m\"%s)\"\u001b[0m\u001b[0;34m\u001b[0m\u001b[0;34m\u001b[0m\u001b[0m\n\u001b[0;32m---> 10\u001b[0;31m         \u001b[0mcursor\u001b[0m\u001b[0;34m.\u001b[0m\u001b[0mexecute\u001b[0m\u001b[0;34m(\u001b[0m\u001b[0msql\u001b[0m\u001b[0;34m,\u001b[0m \u001b[0mtuple\u001b[0m\u001b[0;34m(\u001b[0m\u001b[0mrow\u001b[0m\u001b[0;34m)\u001b[0m\u001b[0;34m)\u001b[0m\u001b[0;34m\u001b[0m\u001b[0;34m\u001b[0m\u001b[0m\n\u001b[0m\u001b[1;32m     11\u001b[0m \u001b[0;34m\u001b[0m\u001b[0m\n\u001b[1;32m     12\u001b[0m     \u001b[0;31m# the connection is not autocommitted by default, so we must commit to save our changes\u001b[0m\u001b[0;34m\u001b[0m\u001b[0;34m\u001b[0m\u001b[0;34m\u001b[0m\u001b[0m\n",
      "\u001b[0;32m/opt/anaconda3/lib/python3.8/site-packages/pymysql/cursors.py\u001b[0m in \u001b[0;36mexecute\u001b[0;34m(self, query, args)\u001b[0m\n\u001b[1;32m    159\u001b[0m             \u001b[0;32mpass\u001b[0m\u001b[0;34m\u001b[0m\u001b[0;34m\u001b[0m\u001b[0m\n\u001b[1;32m    160\u001b[0m \u001b[0;34m\u001b[0m\u001b[0m\n\u001b[0;32m--> 161\u001b[0;31m         \u001b[0mquery\u001b[0m \u001b[0;34m=\u001b[0m \u001b[0mself\u001b[0m\u001b[0;34m.\u001b[0m\u001b[0mmogrify\u001b[0m\u001b[0;34m(\u001b[0m\u001b[0mquery\u001b[0m\u001b[0;34m,\u001b[0m \u001b[0margs\u001b[0m\u001b[0;34m)\u001b[0m\u001b[0;34m\u001b[0m\u001b[0;34m\u001b[0m\u001b[0m\n\u001b[0m\u001b[1;32m    162\u001b[0m \u001b[0;34m\u001b[0m\u001b[0m\n\u001b[1;32m    163\u001b[0m         \u001b[0mresult\u001b[0m \u001b[0;34m=\u001b[0m \u001b[0mself\u001b[0m\u001b[0;34m.\u001b[0m\u001b[0m_query\u001b[0m\u001b[0;34m(\u001b[0m\u001b[0mquery\u001b[0m\u001b[0;34m)\u001b[0m\u001b[0;34m\u001b[0m\u001b[0;34m\u001b[0m\u001b[0m\n",
      "\u001b[0;32m/opt/anaconda3/lib/python3.8/site-packages/pymysql/cursors.py\u001b[0m in \u001b[0;36mmogrify\u001b[0;34m(self, query, args)\u001b[0m\n\u001b[1;32m    138\u001b[0m \u001b[0;34m\u001b[0m\u001b[0m\n\u001b[1;32m    139\u001b[0m         \u001b[0;32mif\u001b[0m \u001b[0margs\u001b[0m \u001b[0;32mis\u001b[0m \u001b[0;32mnot\u001b[0m \u001b[0;32mNone\u001b[0m\u001b[0;34m:\u001b[0m\u001b[0;34m\u001b[0m\u001b[0;34m\u001b[0m\u001b[0m\n\u001b[0;32m--> 140\u001b[0;31m             \u001b[0mquery\u001b[0m \u001b[0;34m=\u001b[0m \u001b[0mquery\u001b[0m \u001b[0;34m%\u001b[0m \u001b[0mself\u001b[0m\u001b[0;34m.\u001b[0m\u001b[0m_escape_args\u001b[0m\u001b[0;34m(\u001b[0m\u001b[0margs\u001b[0m\u001b[0;34m,\u001b[0m \u001b[0mconn\u001b[0m\u001b[0;34m)\u001b[0m\u001b[0;34m\u001b[0m\u001b[0;34m\u001b[0m\u001b[0m\n\u001b[0m\u001b[1;32m    141\u001b[0m \u001b[0;34m\u001b[0m\u001b[0m\n\u001b[1;32m    142\u001b[0m         \u001b[0;32mreturn\u001b[0m \u001b[0mquery\u001b[0m\u001b[0;34m\u001b[0m\u001b[0;34m\u001b[0m\u001b[0m\n",
      "\u001b[0;32m/opt/anaconda3/lib/python3.8/site-packages/pymysql/cursors.py\u001b[0m in \u001b[0;36m_escape_args\u001b[0;34m(self, args, conn)\u001b[0m\n\u001b[1;32m    113\u001b[0m             \u001b[0;32mif\u001b[0m \u001b[0mPY2\u001b[0m\u001b[0;34m:\u001b[0m\u001b[0;34m\u001b[0m\u001b[0;34m\u001b[0m\u001b[0m\n\u001b[1;32m    114\u001b[0m                 \u001b[0margs\u001b[0m \u001b[0;34m=\u001b[0m \u001b[0mtuple\u001b[0m\u001b[0;34m(\u001b[0m\u001b[0mmap\u001b[0m\u001b[0;34m(\u001b[0m\u001b[0mensure_bytes\u001b[0m\u001b[0;34m,\u001b[0m \u001b[0margs\u001b[0m\u001b[0;34m)\u001b[0m\u001b[0;34m)\u001b[0m\u001b[0;34m\u001b[0m\u001b[0;34m\u001b[0m\u001b[0m\n\u001b[0;32m--> 115\u001b[0;31m             \u001b[0;32mreturn\u001b[0m \u001b[0mtuple\u001b[0m\u001b[0;34m(\u001b[0m\u001b[0mconn\u001b[0m\u001b[0;34m.\u001b[0m\u001b[0mliteral\u001b[0m\u001b[0;34m(\u001b[0m\u001b[0marg\u001b[0m\u001b[0;34m)\u001b[0m \u001b[0;32mfor\u001b[0m \u001b[0marg\u001b[0m \u001b[0;32min\u001b[0m \u001b[0margs\u001b[0m\u001b[0;34m)\u001b[0m\u001b[0;34m\u001b[0m\u001b[0;34m\u001b[0m\u001b[0m\n\u001b[0m\u001b[1;32m    116\u001b[0m         \u001b[0;32melif\u001b[0m \u001b[0misinstance\u001b[0m\u001b[0;34m(\u001b[0m\u001b[0margs\u001b[0m\u001b[0;34m,\u001b[0m \u001b[0mdict\u001b[0m\u001b[0;34m)\u001b[0m\u001b[0;34m:\u001b[0m\u001b[0;34m\u001b[0m\u001b[0;34m\u001b[0m\u001b[0m\n\u001b[1;32m    117\u001b[0m             \u001b[0;32mif\u001b[0m \u001b[0mPY2\u001b[0m\u001b[0;34m:\u001b[0m\u001b[0;34m\u001b[0m\u001b[0;34m\u001b[0m\u001b[0m\n",
      "\u001b[0;32m/opt/anaconda3/lib/python3.8/site-packages/pymysql/cursors.py\u001b[0m in \u001b[0;36m<genexpr>\u001b[0;34m(.0)\u001b[0m\n\u001b[1;32m    113\u001b[0m             \u001b[0;32mif\u001b[0m \u001b[0mPY2\u001b[0m\u001b[0;34m:\u001b[0m\u001b[0;34m\u001b[0m\u001b[0;34m\u001b[0m\u001b[0m\n\u001b[1;32m    114\u001b[0m                 \u001b[0margs\u001b[0m \u001b[0;34m=\u001b[0m \u001b[0mtuple\u001b[0m\u001b[0;34m(\u001b[0m\u001b[0mmap\u001b[0m\u001b[0;34m(\u001b[0m\u001b[0mensure_bytes\u001b[0m\u001b[0;34m,\u001b[0m \u001b[0margs\u001b[0m\u001b[0;34m)\u001b[0m\u001b[0;34m)\u001b[0m\u001b[0;34m\u001b[0m\u001b[0;34m\u001b[0m\u001b[0m\n\u001b[0;32m--> 115\u001b[0;31m             \u001b[0;32mreturn\u001b[0m \u001b[0mtuple\u001b[0m\u001b[0;34m(\u001b[0m\u001b[0mconn\u001b[0m\u001b[0;34m.\u001b[0m\u001b[0mliteral\u001b[0m\u001b[0;34m(\u001b[0m\u001b[0marg\u001b[0m\u001b[0;34m)\u001b[0m \u001b[0;32mfor\u001b[0m \u001b[0marg\u001b[0m \u001b[0;32min\u001b[0m \u001b[0margs\u001b[0m\u001b[0;34m)\u001b[0m\u001b[0;34m\u001b[0m\u001b[0;34m\u001b[0m\u001b[0m\n\u001b[0m\u001b[1;32m    116\u001b[0m         \u001b[0;32melif\u001b[0m \u001b[0misinstance\u001b[0m\u001b[0;34m(\u001b[0m\u001b[0margs\u001b[0m\u001b[0;34m,\u001b[0m \u001b[0mdict\u001b[0m\u001b[0;34m)\u001b[0m\u001b[0;34m:\u001b[0m\u001b[0;34m\u001b[0m\u001b[0;34m\u001b[0m\u001b[0m\n\u001b[1;32m    117\u001b[0m             \u001b[0;32mif\u001b[0m \u001b[0mPY2\u001b[0m\u001b[0;34m:\u001b[0m\u001b[0;34m\u001b[0m\u001b[0;34m\u001b[0m\u001b[0m\n",
      "\u001b[0;32m/opt/anaconda3/lib/python3.8/site-packages/pymysql/connections.py\u001b[0m in \u001b[0;36mliteral\u001b[0;34m(self, obj)\u001b[0m\n\u001b[1;32m    467\u001b[0m         \u001b[0mNon\u001b[0m\u001b[0;34m-\u001b[0m\u001b[0mstandard\u001b[0m\u001b[0;34m,\u001b[0m \u001b[0;32mfor\u001b[0m \u001b[0minternal\u001b[0m \u001b[0muse\u001b[0m\u001b[0;34m;\u001b[0m \u001b[0mdo\u001b[0m \u001b[0;32mnot\u001b[0m \u001b[0muse\u001b[0m \u001b[0mthis\u001b[0m \u001b[0;32min\u001b[0m \u001b[0myour\u001b[0m \u001b[0mapplications\u001b[0m\u001b[0;34m.\u001b[0m\u001b[0;34m\u001b[0m\u001b[0;34m\u001b[0m\u001b[0m\n\u001b[1;32m    468\u001b[0m         \"\"\"\n\u001b[0;32m--> 469\u001b[0;31m         \u001b[0;32mreturn\u001b[0m \u001b[0mself\u001b[0m\u001b[0;34m.\u001b[0m\u001b[0mescape\u001b[0m\u001b[0;34m(\u001b[0m\u001b[0mobj\u001b[0m\u001b[0;34m,\u001b[0m \u001b[0mself\u001b[0m\u001b[0;34m.\u001b[0m\u001b[0mencoders\u001b[0m\u001b[0;34m)\u001b[0m\u001b[0;34m\u001b[0m\u001b[0;34m\u001b[0m\u001b[0m\n\u001b[0m\u001b[1;32m    470\u001b[0m \u001b[0;34m\u001b[0m\u001b[0m\n\u001b[1;32m    471\u001b[0m     \u001b[0;32mdef\u001b[0m \u001b[0mescape_string\u001b[0m\u001b[0;34m(\u001b[0m\u001b[0mself\u001b[0m\u001b[0;34m,\u001b[0m \u001b[0ms\u001b[0m\u001b[0;34m)\u001b[0m\u001b[0;34m:\u001b[0m\u001b[0;34m\u001b[0m\u001b[0;34m\u001b[0m\u001b[0m\n",
      "\u001b[0;32m/opt/anaconda3/lib/python3.8/site-packages/pymysql/connections.py\u001b[0m in \u001b[0;36mescape\u001b[0;34m(self, obj, mapping)\u001b[0m\n\u001b[1;32m    460\u001b[0m                 \u001b[0mret\u001b[0m \u001b[0;34m=\u001b[0m \u001b[0;34m\"_binary\"\u001b[0m \u001b[0;34m+\u001b[0m \u001b[0mret\u001b[0m\u001b[0;34m\u001b[0m\u001b[0;34m\u001b[0m\u001b[0m\n\u001b[1;32m    461\u001b[0m             \u001b[0;32mreturn\u001b[0m \u001b[0mret\u001b[0m\u001b[0;34m\u001b[0m\u001b[0;34m\u001b[0m\u001b[0m\n\u001b[0;32m--> 462\u001b[0;31m         \u001b[0;32mreturn\u001b[0m \u001b[0mconverters\u001b[0m\u001b[0;34m.\u001b[0m\u001b[0mescape_item\u001b[0m\u001b[0;34m(\u001b[0m\u001b[0mobj\u001b[0m\u001b[0;34m,\u001b[0m \u001b[0mself\u001b[0m\u001b[0;34m.\u001b[0m\u001b[0mcharset\u001b[0m\u001b[0;34m,\u001b[0m \u001b[0mmapping\u001b[0m\u001b[0;34m=\u001b[0m\u001b[0mmapping\u001b[0m\u001b[0;34m)\u001b[0m\u001b[0;34m\u001b[0m\u001b[0;34m\u001b[0m\u001b[0m\n\u001b[0m\u001b[1;32m    463\u001b[0m \u001b[0;34m\u001b[0m\u001b[0m\n\u001b[1;32m    464\u001b[0m     \u001b[0;32mdef\u001b[0m \u001b[0mliteral\u001b[0m\u001b[0;34m(\u001b[0m\u001b[0mself\u001b[0m\u001b[0;34m,\u001b[0m \u001b[0mobj\u001b[0m\u001b[0;34m)\u001b[0m\u001b[0;34m:\u001b[0m\u001b[0;34m\u001b[0m\u001b[0;34m\u001b[0m\u001b[0m\n",
      "\u001b[0;32m/opt/anaconda3/lib/python3.8/site-packages/pymysql/converters.py\u001b[0m in \u001b[0;36mescape_item\u001b[0;34m(val, charset, mapping)\u001b[0m\n\u001b[1;32m     25\u001b[0m         \u001b[0mval\u001b[0m \u001b[0;34m=\u001b[0m \u001b[0mencoder\u001b[0m\u001b[0;34m(\u001b[0m\u001b[0mval\u001b[0m\u001b[0;34m,\u001b[0m \u001b[0mcharset\u001b[0m\u001b[0;34m,\u001b[0m \u001b[0mmapping\u001b[0m\u001b[0;34m)\u001b[0m\u001b[0;34m\u001b[0m\u001b[0;34m\u001b[0m\u001b[0m\n\u001b[1;32m     26\u001b[0m     \u001b[0;32melse\u001b[0m\u001b[0;34m:\u001b[0m\u001b[0;34m\u001b[0m\u001b[0;34m\u001b[0m\u001b[0m\n\u001b[0;32m---> 27\u001b[0;31m         \u001b[0mval\u001b[0m \u001b[0;34m=\u001b[0m \u001b[0mencoder\u001b[0m\u001b[0;34m(\u001b[0m\u001b[0mval\u001b[0m\u001b[0;34m,\u001b[0m \u001b[0mmapping\u001b[0m\u001b[0;34m)\u001b[0m\u001b[0;34m\u001b[0m\u001b[0;34m\u001b[0m\u001b[0m\n\u001b[0m\u001b[1;32m     28\u001b[0m     \u001b[0;32mreturn\u001b[0m \u001b[0mval\u001b[0m\u001b[0;34m\u001b[0m\u001b[0;34m\u001b[0m\u001b[0m\n\u001b[1;32m     29\u001b[0m \u001b[0;34m\u001b[0m\u001b[0m\n",
      "\u001b[0;32m/opt/anaconda3/lib/python3.8/site-packages/pymysql/converters.py\u001b[0m in \u001b[0;36mescape_unicode\u001b[0;34m(value, mapping)\u001b[0m\n\u001b[1;32m    121\u001b[0m \u001b[0;34m\u001b[0m\u001b[0m\n\u001b[1;32m    122\u001b[0m \u001b[0;32mdef\u001b[0m \u001b[0mescape_unicode\u001b[0m\u001b[0;34m(\u001b[0m\u001b[0mvalue\u001b[0m\u001b[0;34m,\u001b[0m \u001b[0mmapping\u001b[0m\u001b[0;34m=\u001b[0m\u001b[0;32mNone\u001b[0m\u001b[0;34m)\u001b[0m\u001b[0;34m:\u001b[0m\u001b[0;34m\u001b[0m\u001b[0;34m\u001b[0m\u001b[0m\n\u001b[0;32m--> 123\u001b[0;31m     \u001b[0;32mreturn\u001b[0m \u001b[0;34mu\"'%s'\"\u001b[0m \u001b[0;34m%\u001b[0m \u001b[0m_escape_unicode\u001b[0m\u001b[0;34m(\u001b[0m\u001b[0mvalue\u001b[0m\u001b[0;34m)\u001b[0m\u001b[0;34m\u001b[0m\u001b[0;34m\u001b[0m\u001b[0m\n\u001b[0m\u001b[1;32m    124\u001b[0m \u001b[0;34m\u001b[0m\u001b[0m\n\u001b[1;32m    125\u001b[0m \u001b[0;32mdef\u001b[0m \u001b[0mescape_str\u001b[0m\u001b[0;34m(\u001b[0m\u001b[0mvalue\u001b[0m\u001b[0;34m,\u001b[0m \u001b[0mmapping\u001b[0m\u001b[0;34m=\u001b[0m\u001b[0;32mNone\u001b[0m\u001b[0;34m)\u001b[0m\u001b[0;34m:\u001b[0m\u001b[0;34m\u001b[0m\u001b[0;34m\u001b[0m\u001b[0m\n",
      "\u001b[0;32m/opt/anaconda3/lib/python3.8/site-packages/pymysql/converters.py\u001b[0m in \u001b[0;36m_escape_unicode\u001b[0;34m(value, mapping)\u001b[0m\n\u001b[1;32m     76\u001b[0m     \u001b[0mValue\u001b[0m \u001b[0mshould\u001b[0m \u001b[0mbe\u001b[0m \u001b[0municode\u001b[0m\u001b[0;34m\u001b[0m\u001b[0;34m\u001b[0m\u001b[0m\n\u001b[1;32m     77\u001b[0m     \"\"\"\n\u001b[0;32m---> 78\u001b[0;31m     \u001b[0;32mreturn\u001b[0m \u001b[0mvalue\u001b[0m\u001b[0;34m.\u001b[0m\u001b[0mtranslate\u001b[0m\u001b[0;34m(\u001b[0m\u001b[0m_escape_table\u001b[0m\u001b[0;34m)\u001b[0m\u001b[0;34m\u001b[0m\u001b[0;34m\u001b[0m\u001b[0m\n\u001b[0m\u001b[1;32m     79\u001b[0m \u001b[0;34m\u001b[0m\u001b[0m\n\u001b[1;32m     80\u001b[0m \u001b[0;32mif\u001b[0m \u001b[0mPY2\u001b[0m\u001b[0;34m:\u001b[0m\u001b[0;34m\u001b[0m\u001b[0;34m\u001b[0m\u001b[0m\n",
      "\u001b[0;31mAttributeError\u001b[0m: 'Timestamp' object has no attribute 'translate'"
     ]
    }
   ],
   "source": [
    "df = df.apply(lambda col: col.astype(str) if col.dtype == 'datetime64[ns]' else col)\n",
    "\n",
    "batch_size=100000\n",
    "length=len(name_basics_preprocessed)//batch_size+1\n",
    "for chunk in tqdm(batch(name_basics_preprocessed,batch_size),total=length):\n",
    "    #load_dataframe(chunk,'namebasics')\n",
    "    cols = \"`,`\".join([str(i) for i in name_basics_preprocessed.columns.tolist()])\n",
    "\n",
    "    # Insert DataFrame recrds one by one.\n",
    "    for i,row in name_basics_preprocessed.iterrows():\n",
    "        sql = \"INSERT INTO `namebasics` (`\" +cols + \"`) VALUES (\" + \"%s,\"*(len(row)-1) + \"%s)\"\n",
    "        cursor.execute(sql, tuple(row))\n",
    "\n",
    "    # the connection is not autocommitted by default, so we must commit to save our changes\n",
    "        connection.commit()"
   ]
  },
  {
   "cell_type": "markdown",
   "metadata": {},
   "source": [
    "## Approach 3-with sql alchemy- still failing "
   ]
  },
  {
   "cell_type": "code",
   "execution_count": 227,
   "metadata": {},
   "outputs": [],
   "source": [
    "def load_dataframe(data_frame,table_name):\n",
    "    data_frame_new=data_frame\n",
    "    \n",
    "    data_frame_new.to_sql(table_name,con=database_connection, if_exists='append',index=False)\n",
    "    \n",
    "   # engine.execute('INSERT INTO namebasics VALUES (:data_frame_new.nconst, :data_frame_new.primaryName, :data_frame_new.birthYear, :data_frame_new.deathYear, :data_frame_new.noofmovies, :data_frame_new.age, :data_frame_new.currentdate' )\n",
    "    return "
   ]
  },
  {
   "cell_type": "code",
   "execution_count": 213,
   "metadata": {},
   "outputs": [
    {
     "name": "stderr",
     "output_type": "stream",
     "text": [
      "  0%|          | 0/240 [00:01<?, ?it/s]\n"
     ]
    },
    {
     "ename": "ProgrammingError",
     "evalue": "(mysql.connector.errors.ProgrammingError) 1054 (42S22): Unknown column 'nconst' in 'field list'\n[SQL: INSERT INTO namebasics (nconst, `primaryName`, `birthYear`, `deathYear`, noofmovies, age, currentdate) VALUES (%(nconst)s, %(primaryName)s, %(birthYear)s, %(deathYear)s, %(noofmovies)s, %(age)s, %(currentdate)s)]\n[parameters: ({'nconst': 'nm0000001', 'primaryName': 'Fred Astaire', 'birthYear': datetime.datetime(1899, 1, 1, 0, 0), 'deathYear': datetime.datetime(1987, 1, 1, 0, 0), 'noofmovies': None, 'age': None, 'currentdate': None}, {'nconst': 'nm0000002', 'primaryName': 'Lauren Bacall', 'birthYear': datetime.datetime(1924, 1, 1, 0, 0), 'deathYear': datetime.datetime(2014, 1, 1, 0, 0), 'noofmovies': None, 'age': None, 'currentdate': None}, {'nconst': 'nm0000003', 'primaryName': 'Brigitte Bardot', 'birthYear': datetime.datetime(1934, 1, 1, 0, 0), 'deathYear': None, 'noofmovies': None, 'age': None, 'currentdate': None}, {'nconst': 'nm0000004', 'primaryName': 'John Belushi', 'birthYear': datetime.datetime(1949, 1, 1, 0, 0), 'deathYear': datetime.datetime(1982, 1, 1, 0, 0), 'noofmovies': None, 'age': None, 'currentdate': None}, {'nconst': 'nm0000005', 'primaryName': 'Ingmar Bergman', 'birthYear': datetime.datetime(1918, 1, 1, 0, 0), 'deathYear': datetime.datetime(2007, 1, 1, 0, 0), 'noofmovies': None, 'age': None, 'currentdate': None}, {'nconst': 'nm0000006', 'primaryName': 'Ingrid Bergman', 'birthYear': datetime.datetime(1915, 1, 1, 0, 0), 'deathYear': datetime.datetime(1982, 1, 1, 0, 0), 'noofmovies': None, 'age': None, 'currentdate': None}, {'nconst': 'nm0000007', 'primaryName': 'Humphrey Bogart', 'birthYear': datetime.datetime(1899, 1, 1, 0, 0), 'deathYear': datetime.datetime(1957, 1, 1, 0, 0), 'noofmovies': None, 'age': None, 'currentdate': None}, {'nconst': 'nm0000008', 'primaryName': 'Marlon Brando', 'birthYear': datetime.datetime(1924, 1, 1, 0, 0), 'deathYear': datetime.datetime(2004, 1, 1, 0, 0), 'noofmovies': None, 'age': None, 'currentdate': None}  ... displaying 10 of 100000 total bound parameter sets ...  {'nconst': 'nm0104781', 'primaryName': 'Mack Brandon', 'birthYear': None, 'deathYear': None, 'noofmovies': None, 'age': None, 'currentdate': None}, {'nconst': 'nm0104783', 'primaryName': 'Maryann Brandon', 'birthYear': None, 'deathYear': None, 'noofmovies': None, 'age': None, 'currentdate': None})]\n(Background on this error at: http://sqlalche.me/e/13/f405)",
     "output_type": "error",
     "traceback": [
      "\u001b[0;31m---------------------------------------------------------------------------\u001b[0m",
      "\u001b[0;31mMySQLInterfaceError\u001b[0m                       Traceback (most recent call last)",
      "\u001b[0;32m/opt/anaconda3/lib/python3.8/site-packages/mysql/connector/connection_cext.py\u001b[0m in \u001b[0;36mcmd_query\u001b[0;34m(self, query, raw, buffered, raw_as_string)\u001b[0m\n\u001b[1;32m    503\u001b[0m                 \u001b[0mquery\u001b[0m \u001b[0;34m=\u001b[0m \u001b[0mquery\u001b[0m\u001b[0;34m.\u001b[0m\u001b[0mencode\u001b[0m\u001b[0;34m(\u001b[0m\u001b[0;34m'utf-8'\u001b[0m\u001b[0;34m)\u001b[0m\u001b[0;34m\u001b[0m\u001b[0;34m\u001b[0m\u001b[0m\n\u001b[0;32m--> 504\u001b[0;31m             self._cmysql.query(query,\n\u001b[0m\u001b[1;32m    505\u001b[0m                                \u001b[0mraw\u001b[0m\u001b[0;34m=\u001b[0m\u001b[0mraw\u001b[0m\u001b[0;34m,\u001b[0m \u001b[0mbuffered\u001b[0m\u001b[0;34m=\u001b[0m\u001b[0mbuffered\u001b[0m\u001b[0;34m,\u001b[0m\u001b[0;34m\u001b[0m\u001b[0;34m\u001b[0m\u001b[0m\n",
      "\u001b[0;31mMySQLInterfaceError\u001b[0m: Unknown column 'nconst' in 'field list'",
      "\nDuring handling of the above exception, another exception occurred:\n",
      "\u001b[0;31mProgrammingError\u001b[0m                          Traceback (most recent call last)",
      "\u001b[0;32m/opt/anaconda3/lib/python3.8/site-packages/sqlalchemy/engine/base.py\u001b[0m in \u001b[0;36m_execute_context\u001b[0;34m(self, dialect, constructor, statement, parameters, *args)\u001b[0m\n\u001b[1;32m   1256\u001b[0m                 \u001b[0;32mif\u001b[0m \u001b[0;32mnot\u001b[0m \u001b[0mevt_handled\u001b[0m\u001b[0;34m:\u001b[0m\u001b[0;34m\u001b[0m\u001b[0;34m\u001b[0m\u001b[0m\n\u001b[0;32m-> 1257\u001b[0;31m                     self.dialect.do_executemany(\n\u001b[0m\u001b[1;32m   1258\u001b[0m                         \u001b[0mcursor\u001b[0m\u001b[0;34m,\u001b[0m \u001b[0mstatement\u001b[0m\u001b[0;34m,\u001b[0m \u001b[0mparameters\u001b[0m\u001b[0;34m,\u001b[0m \u001b[0mcontext\u001b[0m\u001b[0;34m\u001b[0m\u001b[0;34m\u001b[0m\u001b[0m\n",
      "\u001b[0;32m/opt/anaconda3/lib/python3.8/site-packages/sqlalchemy/engine/default.py\u001b[0m in \u001b[0;36mdo_executemany\u001b[0;34m(self, cursor, statement, parameters, context)\u001b[0m\n\u001b[1;32m    589\u001b[0m     \u001b[0;32mdef\u001b[0m \u001b[0mdo_executemany\u001b[0m\u001b[0;34m(\u001b[0m\u001b[0mself\u001b[0m\u001b[0;34m,\u001b[0m \u001b[0mcursor\u001b[0m\u001b[0;34m,\u001b[0m \u001b[0mstatement\u001b[0m\u001b[0;34m,\u001b[0m \u001b[0mparameters\u001b[0m\u001b[0;34m,\u001b[0m \u001b[0mcontext\u001b[0m\u001b[0;34m=\u001b[0m\u001b[0;32mNone\u001b[0m\u001b[0;34m)\u001b[0m\u001b[0;34m:\u001b[0m\u001b[0;34m\u001b[0m\u001b[0;34m\u001b[0m\u001b[0m\n\u001b[0;32m--> 590\u001b[0;31m         \u001b[0mcursor\u001b[0m\u001b[0;34m.\u001b[0m\u001b[0mexecutemany\u001b[0m\u001b[0;34m(\u001b[0m\u001b[0mstatement\u001b[0m\u001b[0;34m,\u001b[0m \u001b[0mparameters\u001b[0m\u001b[0;34m)\u001b[0m\u001b[0;34m\u001b[0m\u001b[0;34m\u001b[0m\u001b[0m\n\u001b[0m\u001b[1;32m    591\u001b[0m \u001b[0;34m\u001b[0m\u001b[0m\n",
      "\u001b[0;32m/opt/anaconda3/lib/python3.8/site-packages/mysql/connector/cursor_cext.py\u001b[0m in \u001b[0;36mexecutemany\u001b[0;34m(self, operation, seq_params)\u001b[0m\n\u001b[1;32m    351\u001b[0m             \u001b[0;32mif\u001b[0m \u001b[0mstmt\u001b[0m \u001b[0;32mis\u001b[0m \u001b[0;32mnot\u001b[0m \u001b[0;32mNone\u001b[0m\u001b[0;34m:\u001b[0m\u001b[0;34m\u001b[0m\u001b[0;34m\u001b[0m\u001b[0m\n\u001b[0;32m--> 352\u001b[0;31m                 \u001b[0;32mreturn\u001b[0m \u001b[0mself\u001b[0m\u001b[0;34m.\u001b[0m\u001b[0mexecute\u001b[0m\u001b[0;34m(\u001b[0m\u001b[0mstmt\u001b[0m\u001b[0;34m)\u001b[0m\u001b[0;34m\u001b[0m\u001b[0;34m\u001b[0m\u001b[0m\n\u001b[0m\u001b[1;32m    353\u001b[0m \u001b[0;34m\u001b[0m\u001b[0m\n",
      "\u001b[0;32m/opt/anaconda3/lib/python3.8/site-packages/mysql/connector/cursor_cext.py\u001b[0m in \u001b[0;36mexecute\u001b[0;34m(self, operation, params, multi)\u001b[0m\n\u001b[1;32m    263\u001b[0m         \u001b[0;32mtry\u001b[0m\u001b[0;34m:\u001b[0m\u001b[0;34m\u001b[0m\u001b[0;34m\u001b[0m\u001b[0m\n\u001b[0;32m--> 264\u001b[0;31m             result = self._cnx.cmd_query(stmt, raw=self._raw,\n\u001b[0m\u001b[1;32m    265\u001b[0m                                          \u001b[0mbuffered\u001b[0m\u001b[0;34m=\u001b[0m\u001b[0mself\u001b[0m\u001b[0;34m.\u001b[0m\u001b[0m_buffered\u001b[0m\u001b[0;34m,\u001b[0m\u001b[0;34m\u001b[0m\u001b[0;34m\u001b[0m\u001b[0m\n",
      "\u001b[0;32m/opt/anaconda3/lib/python3.8/site-packages/mysql/connector/connection_cext.py\u001b[0m in \u001b[0;36mcmd_query\u001b[0;34m(self, query, raw, buffered, raw_as_string)\u001b[0m\n\u001b[1;32m    507\u001b[0m         \u001b[0;32mexcept\u001b[0m \u001b[0mMySQLInterfaceError\u001b[0m \u001b[0;32mas\u001b[0m \u001b[0mexc\u001b[0m\u001b[0;34m:\u001b[0m\u001b[0;34m\u001b[0m\u001b[0;34m\u001b[0m\u001b[0m\n\u001b[0;32m--> 508\u001b[0;31m             raise errors.get_mysql_exception(exc.errno, msg=exc.msg,\n\u001b[0m\u001b[1;32m    509\u001b[0m                                              sqlstate=exc.sqlstate)\n",
      "\u001b[0;31mProgrammingError\u001b[0m: 1054 (42S22): Unknown column 'nconst' in 'field list'",
      "\nThe above exception was the direct cause of the following exception:\n",
      "\u001b[0;31mProgrammingError\u001b[0m                          Traceback (most recent call last)",
      "\u001b[0;32m<ipython-input-213-b01b84358280>\u001b[0m in \u001b[0;36m<module>\u001b[0;34m\u001b[0m\n\u001b[1;32m      2\u001b[0m \u001b[0mlength\u001b[0m\u001b[0;34m=\u001b[0m\u001b[0mlen\u001b[0m\u001b[0;34m(\u001b[0m\u001b[0mtitle_akas_preprocessed\u001b[0m\u001b[0;34m)\u001b[0m\u001b[0;34m//\u001b[0m\u001b[0mbatch_size\u001b[0m\u001b[0;34m+\u001b[0m\u001b[0;36m1\u001b[0m\u001b[0;34m\u001b[0m\u001b[0;34m\u001b[0m\u001b[0m\n\u001b[1;32m      3\u001b[0m \u001b[0;32mfor\u001b[0m \u001b[0mchunk\u001b[0m \u001b[0;32min\u001b[0m \u001b[0mtqdm\u001b[0m\u001b[0;34m(\u001b[0m\u001b[0mbatch\u001b[0m\u001b[0;34m(\u001b[0m\u001b[0mname_basics_preprocessed\u001b[0m\u001b[0;34m,\u001b[0m\u001b[0mbatch_size\u001b[0m\u001b[0;34m)\u001b[0m\u001b[0;34m,\u001b[0m\u001b[0mtotal\u001b[0m\u001b[0;34m=\u001b[0m\u001b[0mlength\u001b[0m\u001b[0;34m)\u001b[0m\u001b[0;34m:\u001b[0m\u001b[0;34m\u001b[0m\u001b[0;34m\u001b[0m\u001b[0m\n\u001b[0;32m----> 4\u001b[0;31m     \u001b[0mload_dataframe\u001b[0m\u001b[0;34m(\u001b[0m\u001b[0mchunk\u001b[0m\u001b[0;34m,\u001b[0m\u001b[0;34m'namebasics'\u001b[0m\u001b[0;34m)\u001b[0m\u001b[0;34m\u001b[0m\u001b[0;34m\u001b[0m\u001b[0m\n\u001b[0m",
      "\u001b[0;32m<ipython-input-212-fb377135797d>\u001b[0m in \u001b[0;36mload_dataframe\u001b[0;34m(data_frame, table_name)\u001b[0m\n\u001b[1;32m      2\u001b[0m     \u001b[0mdata_frame_new\u001b[0m\u001b[0;34m=\u001b[0m\u001b[0mdata_frame\u001b[0m\u001b[0;34m\u001b[0m\u001b[0;34m\u001b[0m\u001b[0m\n\u001b[1;32m      3\u001b[0m \u001b[0;34m\u001b[0m\u001b[0m\n\u001b[0;32m----> 4\u001b[0;31m     \u001b[0mdata_frame_new\u001b[0m\u001b[0;34m.\u001b[0m\u001b[0mto_sql\u001b[0m\u001b[0;34m(\u001b[0m\u001b[0mtable_name\u001b[0m\u001b[0;34m,\u001b[0m\u001b[0mcon\u001b[0m\u001b[0;34m=\u001b[0m\u001b[0mdatabase_connection\u001b[0m\u001b[0;34m,\u001b[0m \u001b[0mif_exists\u001b[0m\u001b[0;34m=\u001b[0m\u001b[0;34m'append'\u001b[0m\u001b[0;34m,\u001b[0m\u001b[0mindex\u001b[0m\u001b[0;34m=\u001b[0m\u001b[0;32mFalse\u001b[0m\u001b[0;34m)\u001b[0m\u001b[0;34m\u001b[0m\u001b[0;34m\u001b[0m\u001b[0m\n\u001b[0m\u001b[1;32m      5\u001b[0m \u001b[0;34m\u001b[0m\u001b[0m\n\u001b[1;32m      6\u001b[0m     \u001b[0mengine\u001b[0m\u001b[0;34m.\u001b[0m\u001b[0mexecute\u001b[0m\u001b[0;34m(\u001b[0m\u001b[0;34m'INSERT INTO namebasics VALUES (:data_frame_new.nconst, :data_frame_new.primaryName, :data_frame_new.birthYear, :data_frame_new.deathYear, :data_frame_new.noofmovies, :data_frame_new.age, :data_frame_new.currentdate'\u001b[0m \u001b[0;34m)\u001b[0m\u001b[0;34m\u001b[0m\u001b[0;34m\u001b[0m\u001b[0m\n",
      "\u001b[0;32m/opt/anaconda3/lib/python3.8/site-packages/pandas/core/generic.py\u001b[0m in \u001b[0;36mto_sql\u001b[0;34m(self, name, con, schema, if_exists, index, index_label, chunksize, dtype, method)\u001b[0m\n\u001b[1;32m   2651\u001b[0m         \u001b[0;32mfrom\u001b[0m \u001b[0mpandas\u001b[0m\u001b[0;34m.\u001b[0m\u001b[0mio\u001b[0m \u001b[0;32mimport\u001b[0m \u001b[0msql\u001b[0m\u001b[0;34m\u001b[0m\u001b[0;34m\u001b[0m\u001b[0m\n\u001b[1;32m   2652\u001b[0m \u001b[0;34m\u001b[0m\u001b[0m\n\u001b[0;32m-> 2653\u001b[0;31m         sql.to_sql(\n\u001b[0m\u001b[1;32m   2654\u001b[0m             \u001b[0mself\u001b[0m\u001b[0;34m,\u001b[0m\u001b[0;34m\u001b[0m\u001b[0;34m\u001b[0m\u001b[0m\n\u001b[1;32m   2655\u001b[0m             \u001b[0mname\u001b[0m\u001b[0;34m,\u001b[0m\u001b[0;34m\u001b[0m\u001b[0;34m\u001b[0m\u001b[0m\n",
      "\u001b[0;32m/opt/anaconda3/lib/python3.8/site-packages/pandas/io/sql.py\u001b[0m in \u001b[0;36mto_sql\u001b[0;34m(frame, name, con, schema, if_exists, index, index_label, chunksize, dtype, method)\u001b[0m\n\u001b[1;32m    510\u001b[0m         )\n\u001b[1;32m    511\u001b[0m \u001b[0;34m\u001b[0m\u001b[0m\n\u001b[0;32m--> 512\u001b[0;31m     pandas_sql.to_sql(\n\u001b[0m\u001b[1;32m    513\u001b[0m         \u001b[0mframe\u001b[0m\u001b[0;34m,\u001b[0m\u001b[0;34m\u001b[0m\u001b[0;34m\u001b[0m\u001b[0m\n\u001b[1;32m    514\u001b[0m         \u001b[0mname\u001b[0m\u001b[0;34m,\u001b[0m\u001b[0;34m\u001b[0m\u001b[0;34m\u001b[0m\u001b[0m\n",
      "\u001b[0;32m/opt/anaconda3/lib/python3.8/site-packages/pandas/io/sql.py\u001b[0m in \u001b[0;36mto_sql\u001b[0;34m(self, frame, name, if_exists, index, index_label, schema, chunksize, dtype, method)\u001b[0m\n\u001b[1;32m   1315\u001b[0m         )\n\u001b[1;32m   1316\u001b[0m         \u001b[0mtable\u001b[0m\u001b[0;34m.\u001b[0m\u001b[0mcreate\u001b[0m\u001b[0;34m(\u001b[0m\u001b[0;34m)\u001b[0m\u001b[0;34m\u001b[0m\u001b[0;34m\u001b[0m\u001b[0m\n\u001b[0;32m-> 1317\u001b[0;31m         \u001b[0mtable\u001b[0m\u001b[0;34m.\u001b[0m\u001b[0minsert\u001b[0m\u001b[0;34m(\u001b[0m\u001b[0mchunksize\u001b[0m\u001b[0;34m,\u001b[0m \u001b[0mmethod\u001b[0m\u001b[0;34m=\u001b[0m\u001b[0mmethod\u001b[0m\u001b[0;34m)\u001b[0m\u001b[0;34m\u001b[0m\u001b[0;34m\u001b[0m\u001b[0m\n\u001b[0m\u001b[1;32m   1318\u001b[0m         \u001b[0;32mif\u001b[0m \u001b[0;32mnot\u001b[0m \u001b[0mname\u001b[0m\u001b[0;34m.\u001b[0m\u001b[0misdigit\u001b[0m\u001b[0;34m(\u001b[0m\u001b[0;34m)\u001b[0m \u001b[0;32mand\u001b[0m \u001b[0;32mnot\u001b[0m \u001b[0mname\u001b[0m\u001b[0;34m.\u001b[0m\u001b[0mislower\u001b[0m\u001b[0;34m(\u001b[0m\u001b[0;34m)\u001b[0m\u001b[0;34m:\u001b[0m\u001b[0;34m\u001b[0m\u001b[0;34m\u001b[0m\u001b[0m\n\u001b[1;32m   1319\u001b[0m             \u001b[0;31m# check for potentially case sensitivity issues (GH7815)\u001b[0m\u001b[0;34m\u001b[0m\u001b[0;34m\u001b[0m\u001b[0;34m\u001b[0m\u001b[0m\n",
      "\u001b[0;32m/opt/anaconda3/lib/python3.8/site-packages/pandas/io/sql.py\u001b[0m in \u001b[0;36minsert\u001b[0;34m(self, chunksize, method)\u001b[0m\n\u001b[1;32m    753\u001b[0m \u001b[0;34m\u001b[0m\u001b[0m\n\u001b[1;32m    754\u001b[0m                 \u001b[0mchunk_iter\u001b[0m \u001b[0;34m=\u001b[0m \u001b[0mzip\u001b[0m\u001b[0;34m(\u001b[0m\u001b[0;34m*\u001b[0m\u001b[0;34m[\u001b[0m\u001b[0marr\u001b[0m\u001b[0;34m[\u001b[0m\u001b[0mstart_i\u001b[0m\u001b[0;34m:\u001b[0m\u001b[0mend_i\u001b[0m\u001b[0;34m]\u001b[0m \u001b[0;32mfor\u001b[0m \u001b[0marr\u001b[0m \u001b[0;32min\u001b[0m \u001b[0mdata_list\u001b[0m\u001b[0;34m]\u001b[0m\u001b[0;34m)\u001b[0m\u001b[0;34m\u001b[0m\u001b[0;34m\u001b[0m\u001b[0m\n\u001b[0;32m--> 755\u001b[0;31m                 \u001b[0mexec_insert\u001b[0m\u001b[0;34m(\u001b[0m\u001b[0mconn\u001b[0m\u001b[0;34m,\u001b[0m \u001b[0mkeys\u001b[0m\u001b[0;34m,\u001b[0m \u001b[0mchunk_iter\u001b[0m\u001b[0;34m)\u001b[0m\u001b[0;34m\u001b[0m\u001b[0;34m\u001b[0m\u001b[0m\n\u001b[0m\u001b[1;32m    756\u001b[0m \u001b[0;34m\u001b[0m\u001b[0m\n\u001b[1;32m    757\u001b[0m     def _query_iterator(\n",
      "\u001b[0;32m/opt/anaconda3/lib/python3.8/site-packages/pandas/io/sql.py\u001b[0m in \u001b[0;36m_execute_insert\u001b[0;34m(self, conn, keys, data_iter)\u001b[0m\n\u001b[1;32m    667\u001b[0m         \"\"\"\n\u001b[1;32m    668\u001b[0m         \u001b[0mdata\u001b[0m \u001b[0;34m=\u001b[0m \u001b[0;34m[\u001b[0m\u001b[0mdict\u001b[0m\u001b[0;34m(\u001b[0m\u001b[0mzip\u001b[0m\u001b[0;34m(\u001b[0m\u001b[0mkeys\u001b[0m\u001b[0;34m,\u001b[0m \u001b[0mrow\u001b[0m\u001b[0;34m)\u001b[0m\u001b[0;34m)\u001b[0m \u001b[0;32mfor\u001b[0m \u001b[0mrow\u001b[0m \u001b[0;32min\u001b[0m \u001b[0mdata_iter\u001b[0m\u001b[0;34m]\u001b[0m\u001b[0;34m\u001b[0m\u001b[0;34m\u001b[0m\u001b[0m\n\u001b[0;32m--> 669\u001b[0;31m         \u001b[0mconn\u001b[0m\u001b[0;34m.\u001b[0m\u001b[0mexecute\u001b[0m\u001b[0;34m(\u001b[0m\u001b[0mself\u001b[0m\u001b[0;34m.\u001b[0m\u001b[0mtable\u001b[0m\u001b[0;34m.\u001b[0m\u001b[0minsert\u001b[0m\u001b[0;34m(\u001b[0m\u001b[0;34m)\u001b[0m\u001b[0;34m,\u001b[0m \u001b[0mdata\u001b[0m\u001b[0;34m)\u001b[0m\u001b[0;34m\u001b[0m\u001b[0;34m\u001b[0m\u001b[0m\n\u001b[0m\u001b[1;32m    670\u001b[0m \u001b[0;34m\u001b[0m\u001b[0m\n\u001b[1;32m    671\u001b[0m     \u001b[0;32mdef\u001b[0m \u001b[0m_execute_insert_multi\u001b[0m\u001b[0;34m(\u001b[0m\u001b[0mself\u001b[0m\u001b[0;34m,\u001b[0m \u001b[0mconn\u001b[0m\u001b[0;34m,\u001b[0m \u001b[0mkeys\u001b[0m\u001b[0;34m,\u001b[0m \u001b[0mdata_iter\u001b[0m\u001b[0;34m)\u001b[0m\u001b[0;34m:\u001b[0m\u001b[0;34m\u001b[0m\u001b[0;34m\u001b[0m\u001b[0m\n",
      "\u001b[0;32m/opt/anaconda3/lib/python3.8/site-packages/sqlalchemy/engine/base.py\u001b[0m in \u001b[0;36mexecute\u001b[0;34m(self, object_, *multiparams, **params)\u001b[0m\n\u001b[1;32m   1012\u001b[0m             )\n\u001b[1;32m   1013\u001b[0m         \u001b[0;32melse\u001b[0m\u001b[0;34m:\u001b[0m\u001b[0;34m\u001b[0m\u001b[0;34m\u001b[0m\u001b[0m\n\u001b[0;32m-> 1014\u001b[0;31m             \u001b[0;32mreturn\u001b[0m \u001b[0mmeth\u001b[0m\u001b[0;34m(\u001b[0m\u001b[0mself\u001b[0m\u001b[0;34m,\u001b[0m \u001b[0mmultiparams\u001b[0m\u001b[0;34m,\u001b[0m \u001b[0mparams\u001b[0m\u001b[0;34m)\u001b[0m\u001b[0;34m\u001b[0m\u001b[0;34m\u001b[0m\u001b[0m\n\u001b[0m\u001b[1;32m   1015\u001b[0m \u001b[0;34m\u001b[0m\u001b[0m\n\u001b[1;32m   1016\u001b[0m     \u001b[0;32mdef\u001b[0m \u001b[0m_execute_function\u001b[0m\u001b[0;34m(\u001b[0m\u001b[0mself\u001b[0m\u001b[0;34m,\u001b[0m \u001b[0mfunc\u001b[0m\u001b[0;34m,\u001b[0m \u001b[0mmultiparams\u001b[0m\u001b[0;34m,\u001b[0m \u001b[0mparams\u001b[0m\u001b[0;34m)\u001b[0m\u001b[0;34m:\u001b[0m\u001b[0;34m\u001b[0m\u001b[0;34m\u001b[0m\u001b[0m\n",
      "\u001b[0;32m/opt/anaconda3/lib/python3.8/site-packages/sqlalchemy/sql/elements.py\u001b[0m in \u001b[0;36m_execute_on_connection\u001b[0;34m(self, connection, multiparams, params)\u001b[0m\n\u001b[1;32m    296\u001b[0m     \u001b[0;32mdef\u001b[0m \u001b[0m_execute_on_connection\u001b[0m\u001b[0;34m(\u001b[0m\u001b[0mself\u001b[0m\u001b[0;34m,\u001b[0m \u001b[0mconnection\u001b[0m\u001b[0;34m,\u001b[0m \u001b[0mmultiparams\u001b[0m\u001b[0;34m,\u001b[0m \u001b[0mparams\u001b[0m\u001b[0;34m)\u001b[0m\u001b[0;34m:\u001b[0m\u001b[0;34m\u001b[0m\u001b[0;34m\u001b[0m\u001b[0m\n\u001b[1;32m    297\u001b[0m         \u001b[0;32mif\u001b[0m \u001b[0mself\u001b[0m\u001b[0;34m.\u001b[0m\u001b[0msupports_execution\u001b[0m\u001b[0;34m:\u001b[0m\u001b[0;34m\u001b[0m\u001b[0;34m\u001b[0m\u001b[0m\n\u001b[0;32m--> 298\u001b[0;31m             \u001b[0;32mreturn\u001b[0m \u001b[0mconnection\u001b[0m\u001b[0;34m.\u001b[0m\u001b[0m_execute_clauseelement\u001b[0m\u001b[0;34m(\u001b[0m\u001b[0mself\u001b[0m\u001b[0;34m,\u001b[0m \u001b[0mmultiparams\u001b[0m\u001b[0;34m,\u001b[0m \u001b[0mparams\u001b[0m\u001b[0;34m)\u001b[0m\u001b[0;34m\u001b[0m\u001b[0;34m\u001b[0m\u001b[0m\n\u001b[0m\u001b[1;32m    299\u001b[0m         \u001b[0;32melse\u001b[0m\u001b[0;34m:\u001b[0m\u001b[0;34m\u001b[0m\u001b[0;34m\u001b[0m\u001b[0m\n\u001b[1;32m    300\u001b[0m             \u001b[0;32mraise\u001b[0m \u001b[0mexc\u001b[0m\u001b[0;34m.\u001b[0m\u001b[0mObjectNotExecutableError\u001b[0m\u001b[0;34m(\u001b[0m\u001b[0mself\u001b[0m\u001b[0;34m)\u001b[0m\u001b[0;34m\u001b[0m\u001b[0;34m\u001b[0m\u001b[0m\n",
      "\u001b[0;32m/opt/anaconda3/lib/python3.8/site-packages/sqlalchemy/engine/base.py\u001b[0m in \u001b[0;36m_execute_clauseelement\u001b[0;34m(self, elem, multiparams, params)\u001b[0m\n\u001b[1;32m   1125\u001b[0m             )\n\u001b[1;32m   1126\u001b[0m \u001b[0;34m\u001b[0m\u001b[0m\n\u001b[0;32m-> 1127\u001b[0;31m         ret = self._execute_context(\n\u001b[0m\u001b[1;32m   1128\u001b[0m             \u001b[0mdialect\u001b[0m\u001b[0;34m,\u001b[0m\u001b[0;34m\u001b[0m\u001b[0;34m\u001b[0m\u001b[0m\n\u001b[1;32m   1129\u001b[0m             \u001b[0mdialect\u001b[0m\u001b[0;34m.\u001b[0m\u001b[0mexecution_ctx_cls\u001b[0m\u001b[0;34m.\u001b[0m\u001b[0m_init_compiled\u001b[0m\u001b[0;34m,\u001b[0m\u001b[0;34m\u001b[0m\u001b[0;34m\u001b[0m\u001b[0m\n",
      "\u001b[0;32m/opt/anaconda3/lib/python3.8/site-packages/sqlalchemy/engine/base.py\u001b[0m in \u001b[0;36m_execute_context\u001b[0;34m(self, dialect, constructor, statement, parameters, *args)\u001b[0m\n\u001b[1;32m   1315\u001b[0m \u001b[0;34m\u001b[0m\u001b[0m\n\u001b[1;32m   1316\u001b[0m         \u001b[0;32mexcept\u001b[0m \u001b[0mBaseException\u001b[0m \u001b[0;32mas\u001b[0m \u001b[0me\u001b[0m\u001b[0;34m:\u001b[0m\u001b[0;34m\u001b[0m\u001b[0;34m\u001b[0m\u001b[0m\n\u001b[0;32m-> 1317\u001b[0;31m             self._handle_dbapi_exception(\n\u001b[0m\u001b[1;32m   1318\u001b[0m                 \u001b[0me\u001b[0m\u001b[0;34m,\u001b[0m \u001b[0mstatement\u001b[0m\u001b[0;34m,\u001b[0m \u001b[0mparameters\u001b[0m\u001b[0;34m,\u001b[0m \u001b[0mcursor\u001b[0m\u001b[0;34m,\u001b[0m \u001b[0mcontext\u001b[0m\u001b[0;34m\u001b[0m\u001b[0;34m\u001b[0m\u001b[0m\n\u001b[1;32m   1319\u001b[0m             )\n",
      "\u001b[0;32m/opt/anaconda3/lib/python3.8/site-packages/sqlalchemy/engine/base.py\u001b[0m in \u001b[0;36m_handle_dbapi_exception\u001b[0;34m(self, e, statement, parameters, cursor, context)\u001b[0m\n\u001b[1;32m   1509\u001b[0m                 \u001b[0mutil\u001b[0m\u001b[0;34m.\u001b[0m\u001b[0mraise_\u001b[0m\u001b[0;34m(\u001b[0m\u001b[0mnewraise\u001b[0m\u001b[0;34m,\u001b[0m \u001b[0mwith_traceback\u001b[0m\u001b[0;34m=\u001b[0m\u001b[0mexc_info\u001b[0m\u001b[0;34m[\u001b[0m\u001b[0;36m2\u001b[0m\u001b[0;34m]\u001b[0m\u001b[0;34m,\u001b[0m \u001b[0mfrom_\u001b[0m\u001b[0;34m=\u001b[0m\u001b[0me\u001b[0m\u001b[0;34m)\u001b[0m\u001b[0;34m\u001b[0m\u001b[0;34m\u001b[0m\u001b[0m\n\u001b[1;32m   1510\u001b[0m             \u001b[0;32melif\u001b[0m \u001b[0mshould_wrap\u001b[0m\u001b[0;34m:\u001b[0m\u001b[0;34m\u001b[0m\u001b[0;34m\u001b[0m\u001b[0m\n\u001b[0;32m-> 1511\u001b[0;31m                 util.raise_(\n\u001b[0m\u001b[1;32m   1512\u001b[0m                     \u001b[0msqlalchemy_exception\u001b[0m\u001b[0;34m,\u001b[0m \u001b[0mwith_traceback\u001b[0m\u001b[0;34m=\u001b[0m\u001b[0mexc_info\u001b[0m\u001b[0;34m[\u001b[0m\u001b[0;36m2\u001b[0m\u001b[0;34m]\u001b[0m\u001b[0;34m,\u001b[0m \u001b[0mfrom_\u001b[0m\u001b[0;34m=\u001b[0m\u001b[0me\u001b[0m\u001b[0;34m\u001b[0m\u001b[0;34m\u001b[0m\u001b[0m\n\u001b[1;32m   1513\u001b[0m                 )\n",
      "\u001b[0;32m/opt/anaconda3/lib/python3.8/site-packages/sqlalchemy/util/compat.py\u001b[0m in \u001b[0;36mraise_\u001b[0;34m(***failed resolving arguments***)\u001b[0m\n\u001b[1;32m    176\u001b[0m \u001b[0;34m\u001b[0m\u001b[0m\n\u001b[1;32m    177\u001b[0m         \u001b[0;32mtry\u001b[0m\u001b[0;34m:\u001b[0m\u001b[0;34m\u001b[0m\u001b[0;34m\u001b[0m\u001b[0m\n\u001b[0;32m--> 178\u001b[0;31m             \u001b[0;32mraise\u001b[0m \u001b[0mexception\u001b[0m\u001b[0;34m\u001b[0m\u001b[0;34m\u001b[0m\u001b[0m\n\u001b[0m\u001b[1;32m    179\u001b[0m         \u001b[0;32mfinally\u001b[0m\u001b[0;34m:\u001b[0m\u001b[0;34m\u001b[0m\u001b[0;34m\u001b[0m\u001b[0m\n\u001b[1;32m    180\u001b[0m             \u001b[0;31m# credit to\u001b[0m\u001b[0;34m\u001b[0m\u001b[0;34m\u001b[0m\u001b[0;34m\u001b[0m\u001b[0m\n",
      "\u001b[0;32m/opt/anaconda3/lib/python3.8/site-packages/sqlalchemy/engine/base.py\u001b[0m in \u001b[0;36m_execute_context\u001b[0;34m(self, dialect, constructor, statement, parameters, *args)\u001b[0m\n\u001b[1;32m   1255\u001b[0m                             \u001b[0;32mbreak\u001b[0m\u001b[0;34m\u001b[0m\u001b[0;34m\u001b[0m\u001b[0m\n\u001b[1;32m   1256\u001b[0m                 \u001b[0;32mif\u001b[0m \u001b[0;32mnot\u001b[0m \u001b[0mevt_handled\u001b[0m\u001b[0;34m:\u001b[0m\u001b[0;34m\u001b[0m\u001b[0;34m\u001b[0m\u001b[0m\n\u001b[0;32m-> 1257\u001b[0;31m                     self.dialect.do_executemany(\n\u001b[0m\u001b[1;32m   1258\u001b[0m                         \u001b[0mcursor\u001b[0m\u001b[0;34m,\u001b[0m \u001b[0mstatement\u001b[0m\u001b[0;34m,\u001b[0m \u001b[0mparameters\u001b[0m\u001b[0;34m,\u001b[0m \u001b[0mcontext\u001b[0m\u001b[0;34m\u001b[0m\u001b[0;34m\u001b[0m\u001b[0m\n\u001b[1;32m   1259\u001b[0m                     )\n",
      "\u001b[0;32m/opt/anaconda3/lib/python3.8/site-packages/sqlalchemy/engine/default.py\u001b[0m in \u001b[0;36mdo_executemany\u001b[0;34m(self, cursor, statement, parameters, context)\u001b[0m\n\u001b[1;32m    588\u001b[0m \u001b[0;34m\u001b[0m\u001b[0m\n\u001b[1;32m    589\u001b[0m     \u001b[0;32mdef\u001b[0m \u001b[0mdo_executemany\u001b[0m\u001b[0;34m(\u001b[0m\u001b[0mself\u001b[0m\u001b[0;34m,\u001b[0m \u001b[0mcursor\u001b[0m\u001b[0;34m,\u001b[0m \u001b[0mstatement\u001b[0m\u001b[0;34m,\u001b[0m \u001b[0mparameters\u001b[0m\u001b[0;34m,\u001b[0m \u001b[0mcontext\u001b[0m\u001b[0;34m=\u001b[0m\u001b[0;32mNone\u001b[0m\u001b[0;34m)\u001b[0m\u001b[0;34m:\u001b[0m\u001b[0;34m\u001b[0m\u001b[0;34m\u001b[0m\u001b[0m\n\u001b[0;32m--> 590\u001b[0;31m         \u001b[0mcursor\u001b[0m\u001b[0;34m.\u001b[0m\u001b[0mexecutemany\u001b[0m\u001b[0;34m(\u001b[0m\u001b[0mstatement\u001b[0m\u001b[0;34m,\u001b[0m \u001b[0mparameters\u001b[0m\u001b[0;34m)\u001b[0m\u001b[0;34m\u001b[0m\u001b[0;34m\u001b[0m\u001b[0m\n\u001b[0m\u001b[1;32m    591\u001b[0m \u001b[0;34m\u001b[0m\u001b[0m\n\u001b[1;32m    592\u001b[0m     \u001b[0;32mdef\u001b[0m \u001b[0mdo_execute\u001b[0m\u001b[0;34m(\u001b[0m\u001b[0mself\u001b[0m\u001b[0;34m,\u001b[0m \u001b[0mcursor\u001b[0m\u001b[0;34m,\u001b[0m \u001b[0mstatement\u001b[0m\u001b[0;34m,\u001b[0m \u001b[0mparameters\u001b[0m\u001b[0;34m,\u001b[0m \u001b[0mcontext\u001b[0m\u001b[0;34m=\u001b[0m\u001b[0;32mNone\u001b[0m\u001b[0;34m)\u001b[0m\u001b[0;34m:\u001b[0m\u001b[0;34m\u001b[0m\u001b[0;34m\u001b[0m\u001b[0m\n",
      "\u001b[0;32m/opt/anaconda3/lib/python3.8/site-packages/mysql/connector/cursor_cext.py\u001b[0m in \u001b[0;36mexecutemany\u001b[0;34m(self, operation, seq_params)\u001b[0m\n\u001b[1;32m    350\u001b[0m             \u001b[0mstmt\u001b[0m \u001b[0;34m=\u001b[0m \u001b[0mself\u001b[0m\u001b[0;34m.\u001b[0m\u001b[0m_batch_insert\u001b[0m\u001b[0;34m(\u001b[0m\u001b[0moperation\u001b[0m\u001b[0;34m,\u001b[0m \u001b[0mseq_params\u001b[0m\u001b[0;34m)\u001b[0m\u001b[0;34m\u001b[0m\u001b[0;34m\u001b[0m\u001b[0m\n\u001b[1;32m    351\u001b[0m             \u001b[0;32mif\u001b[0m \u001b[0mstmt\u001b[0m \u001b[0;32mis\u001b[0m \u001b[0;32mnot\u001b[0m \u001b[0;32mNone\u001b[0m\u001b[0;34m:\u001b[0m\u001b[0;34m\u001b[0m\u001b[0;34m\u001b[0m\u001b[0m\n\u001b[0;32m--> 352\u001b[0;31m                 \u001b[0;32mreturn\u001b[0m \u001b[0mself\u001b[0m\u001b[0;34m.\u001b[0m\u001b[0mexecute\u001b[0m\u001b[0;34m(\u001b[0m\u001b[0mstmt\u001b[0m\u001b[0;34m)\u001b[0m\u001b[0;34m\u001b[0m\u001b[0;34m\u001b[0m\u001b[0m\n\u001b[0m\u001b[1;32m    353\u001b[0m \u001b[0;34m\u001b[0m\u001b[0m\n\u001b[1;32m    354\u001b[0m         \u001b[0mrowcnt\u001b[0m \u001b[0;34m=\u001b[0m \u001b[0;36m0\u001b[0m\u001b[0;34m\u001b[0m\u001b[0;34m\u001b[0m\u001b[0m\n",
      "\u001b[0;32m/opt/anaconda3/lib/python3.8/site-packages/mysql/connector/cursor_cext.py\u001b[0m in \u001b[0;36mexecute\u001b[0;34m(self, operation, params, multi)\u001b[0m\n\u001b[1;32m    262\u001b[0m \u001b[0;34m\u001b[0m\u001b[0m\n\u001b[1;32m    263\u001b[0m         \u001b[0;32mtry\u001b[0m\u001b[0;34m:\u001b[0m\u001b[0;34m\u001b[0m\u001b[0;34m\u001b[0m\u001b[0m\n\u001b[0;32m--> 264\u001b[0;31m             result = self._cnx.cmd_query(stmt, raw=self._raw,\n\u001b[0m\u001b[1;32m    265\u001b[0m                                          \u001b[0mbuffered\u001b[0m\u001b[0;34m=\u001b[0m\u001b[0mself\u001b[0m\u001b[0;34m.\u001b[0m\u001b[0m_buffered\u001b[0m\u001b[0;34m,\u001b[0m\u001b[0;34m\u001b[0m\u001b[0;34m\u001b[0m\u001b[0m\n\u001b[1;32m    266\u001b[0m                                          raw_as_string=self._raw_as_string)\n",
      "\u001b[0;32m/opt/anaconda3/lib/python3.8/site-packages/mysql/connector/connection_cext.py\u001b[0m in \u001b[0;36mcmd_query\u001b[0;34m(self, query, raw, buffered, raw_as_string)\u001b[0m\n\u001b[1;32m    506\u001b[0m                                raw_as_string=raw_as_string)\n\u001b[1;32m    507\u001b[0m         \u001b[0;32mexcept\u001b[0m \u001b[0mMySQLInterfaceError\u001b[0m \u001b[0;32mas\u001b[0m \u001b[0mexc\u001b[0m\u001b[0;34m:\u001b[0m\u001b[0;34m\u001b[0m\u001b[0;34m\u001b[0m\u001b[0m\n\u001b[0;32m--> 508\u001b[0;31m             raise errors.get_mysql_exception(exc.errno, msg=exc.msg,\n\u001b[0m\u001b[1;32m    509\u001b[0m                                              sqlstate=exc.sqlstate)\n\u001b[1;32m    510\u001b[0m         \u001b[0;32mexcept\u001b[0m \u001b[0mAttributeError\u001b[0m\u001b[0;34m:\u001b[0m\u001b[0;34m\u001b[0m\u001b[0;34m\u001b[0m\u001b[0m\n",
      "\u001b[0;31mProgrammingError\u001b[0m: (mysql.connector.errors.ProgrammingError) 1054 (42S22): Unknown column 'nconst' in 'field list'\n[SQL: INSERT INTO namebasics (nconst, `primaryName`, `birthYear`, `deathYear`, noofmovies, age, currentdate) VALUES (%(nconst)s, %(primaryName)s, %(birthYear)s, %(deathYear)s, %(noofmovies)s, %(age)s, %(currentdate)s)]\n[parameters: ({'nconst': 'nm0000001', 'primaryName': 'Fred Astaire', 'birthYear': datetime.datetime(1899, 1, 1, 0, 0), 'deathYear': datetime.datetime(1987, 1, 1, 0, 0), 'noofmovies': None, 'age': None, 'currentdate': None}, {'nconst': 'nm0000002', 'primaryName': 'Lauren Bacall', 'birthYear': datetime.datetime(1924, 1, 1, 0, 0), 'deathYear': datetime.datetime(2014, 1, 1, 0, 0), 'noofmovies': None, 'age': None, 'currentdate': None}, {'nconst': 'nm0000003', 'primaryName': 'Brigitte Bardot', 'birthYear': datetime.datetime(1934, 1, 1, 0, 0), 'deathYear': None, 'noofmovies': None, 'age': None, 'currentdate': None}, {'nconst': 'nm0000004', 'primaryName': 'John Belushi', 'birthYear': datetime.datetime(1949, 1, 1, 0, 0), 'deathYear': datetime.datetime(1982, 1, 1, 0, 0), 'noofmovies': None, 'age': None, 'currentdate': None}, {'nconst': 'nm0000005', 'primaryName': 'Ingmar Bergman', 'birthYear': datetime.datetime(1918, 1, 1, 0, 0), 'deathYear': datetime.datetime(2007, 1, 1, 0, 0), 'noofmovies': None, 'age': None, 'currentdate': None}, {'nconst': 'nm0000006', 'primaryName': 'Ingrid Bergman', 'birthYear': datetime.datetime(1915, 1, 1, 0, 0), 'deathYear': datetime.datetime(1982, 1, 1, 0, 0), 'noofmovies': None, 'age': None, 'currentdate': None}, {'nconst': 'nm0000007', 'primaryName': 'Humphrey Bogart', 'birthYear': datetime.datetime(1899, 1, 1, 0, 0), 'deathYear': datetime.datetime(1957, 1, 1, 0, 0), 'noofmovies': None, 'age': None, 'currentdate': None}, {'nconst': 'nm0000008', 'primaryName': 'Marlon Brando', 'birthYear': datetime.datetime(1924, 1, 1, 0, 0), 'deathYear': datetime.datetime(2004, 1, 1, 0, 0), 'noofmovies': None, 'age': None, 'currentdate': None}  ... displaying 10 of 100000 total bound parameter sets ...  {'nconst': 'nm0104781', 'primaryName': 'Mack Brandon', 'birthYear': None, 'deathYear': None, 'noofmovies': None, 'age': None, 'currentdate': None}, {'nconst': 'nm0104783', 'primaryName': 'Maryann Brandon', 'birthYear': None, 'deathYear': None, 'noofmovies': None, 'age': None, 'currentdate': None})]\n(Background on this error at: http://sqlalche.me/e/13/f405)"
     ]
    }
   ],
   "source": [
    "batch_size=100000\n",
    "length=len(title_akas_preprocessed)//batch_size+1\n",
    "for chunk in tqdm(batch(name_basics_preprocessed,batch_size),total=length):\n",
    "    load_dataframe(chunk,'namebasics')"
   ]
  },
  {
   "cell_type": "markdown",
   "metadata": {},
   "source": [
    "## Principals-will insert when nconst is in the right format  ##"
   ]
  },
  {
   "cell_type": "code",
   "execution_count": null,
   "metadata": {},
   "outputs": [],
   "source": []
  },
  {
   "cell_type": "code",
   "execution_count": null,
   "metadata": {},
   "outputs": [],
   "source": []
  },
  {
   "cell_type": "markdown",
   "metadata": {},
   "source": [
    "## Title crew ##"
   ]
  },
  {
   "cell_type": "code",
   "execution_count": 33,
   "metadata": {},
   "outputs": [
    {
     "data": {
      "text/html": [
       "<div>\n",
       "<style scoped>\n",
       "    .dataframe tbody tr th:only-of-type {\n",
       "        vertical-align: middle;\n",
       "    }\n",
       "\n",
       "    .dataframe tbody tr th {\n",
       "        vertical-align: top;\n",
       "    }\n",
       "\n",
       "    .dataframe thead th {\n",
       "        text-align: right;\n",
       "    }\n",
       "</style>\n",
       "<table border=\"1\" class=\"dataframe\">\n",
       "  <thead>\n",
       "    <tr style=\"text-align: right;\">\n",
       "      <th></th>\n",
       "      <th>tconst</th>\n",
       "      <th>directors</th>\n",
       "      <th>writers</th>\n",
       "    </tr>\n",
       "  </thead>\n",
       "  <tbody>\n",
       "    <tr>\n",
       "      <th>0</th>\n",
       "      <td>tt0000001</td>\n",
       "      <td>nm0005690</td>\n",
       "      <td>\\N</td>\n",
       "    </tr>\n",
       "    <tr>\n",
       "      <th>1</th>\n",
       "      <td>tt0000002</td>\n",
       "      <td>nm0721526</td>\n",
       "      <td>\\N</td>\n",
       "    </tr>\n",
       "    <tr>\n",
       "      <th>2</th>\n",
       "      <td>tt0000003</td>\n",
       "      <td>nm0721526</td>\n",
       "      <td>\\N</td>\n",
       "    </tr>\n",
       "    <tr>\n",
       "      <th>3</th>\n",
       "      <td>tt0000004</td>\n",
       "      <td>nm0721526</td>\n",
       "      <td>\\N</td>\n",
       "    </tr>\n",
       "    <tr>\n",
       "      <th>4</th>\n",
       "      <td>tt0000005</td>\n",
       "      <td>nm0005690</td>\n",
       "      <td>\\N</td>\n",
       "    </tr>\n",
       "    <tr>\n",
       "      <th>...</th>\n",
       "      <td>...</td>\n",
       "      <td>...</td>\n",
       "      <td>...</td>\n",
       "    </tr>\n",
       "    <tr>\n",
       "      <th>7303225</th>\n",
       "      <td>tt9916848</td>\n",
       "      <td>nm5519454,nm5519375</td>\n",
       "      <td>nm6182221,nm1628284,nm2921377</td>\n",
       "    </tr>\n",
       "    <tr>\n",
       "      <th>7303226</th>\n",
       "      <td>tt9916850</td>\n",
       "      <td>nm5519375,nm5519454</td>\n",
       "      <td>nm6182221,nm1628284,nm2921377</td>\n",
       "    </tr>\n",
       "    <tr>\n",
       "      <th>7303227</th>\n",
       "      <td>tt9916852</td>\n",
       "      <td>nm5519375,nm5519454</td>\n",
       "      <td>nm6182221,nm1628284,nm2921377</td>\n",
       "    </tr>\n",
       "    <tr>\n",
       "      <th>7303228</th>\n",
       "      <td>tt9916856</td>\n",
       "      <td>nm10538645</td>\n",
       "      <td>nm6951431</td>\n",
       "    </tr>\n",
       "    <tr>\n",
       "      <th>7303229</th>\n",
       "      <td>tt9916880</td>\n",
       "      <td>nm0996406</td>\n",
       "      <td>nm1482639,nm2586970</td>\n",
       "    </tr>\n",
       "  </tbody>\n",
       "</table>\n",
       "<p>7303230 rows × 3 columns</p>\n",
       "</div>"
      ],
      "text/plain": [
       "            tconst            directors                        writers\n",
       "0        tt0000001            nm0005690                             \\N\n",
       "1        tt0000002            nm0721526                             \\N\n",
       "2        tt0000003            nm0721526                             \\N\n",
       "3        tt0000004            nm0721526                             \\N\n",
       "4        tt0000005            nm0005690                             \\N\n",
       "...            ...                  ...                            ...\n",
       "7303225  tt9916848  nm5519454,nm5519375  nm6182221,nm1628284,nm2921377\n",
       "7303226  tt9916850  nm5519375,nm5519454  nm6182221,nm1628284,nm2921377\n",
       "7303227  tt9916852  nm5519375,nm5519454  nm6182221,nm1628284,nm2921377\n",
       "7303228  tt9916856           nm10538645                      nm6951431\n",
       "7303229  tt9916880            nm0996406            nm1482639,nm2586970\n",
       "\n",
       "[7303230 rows x 3 columns]"
      ]
     },
     "execution_count": 33,
     "metadata": {},
     "output_type": "execute_result"
    }
   ],
   "source": [
    "title_crew"
   ]
  },
  {
   "cell_type": "code",
   "execution_count": 49,
   "metadata": {},
   "outputs": [],
   "source": [
    "title_crew_processed=title_crew.drop(['directors'],axis=1)\n",
    "title_crew_processed=title_crew.drop(['writers'],axis=1)\n"
   ]
  },
  {
   "cell_type": "code",
   "execution_count": 50,
   "metadata": {},
   "outputs": [
    {
     "ename": "NameError",
     "evalue": "name 'batch' is not defined",
     "output_type": "error",
     "traceback": [
      "\u001b[0;31m---------------------------------------------------------------------------\u001b[0m",
      "\u001b[0;31mNameError\u001b[0m                                 Traceback (most recent call last)",
      "\u001b[0;32m<ipython-input-50-7026de80c9ca>\u001b[0m in \u001b[0;36m<module>\u001b[0;34m\u001b[0m\n\u001b[1;32m      1\u001b[0m \u001b[0mbatch_size\u001b[0m\u001b[0;34m=\u001b[0m\u001b[0;36m100000\u001b[0m\u001b[0;34m\u001b[0m\u001b[0;34m\u001b[0m\u001b[0m\n\u001b[1;32m      2\u001b[0m \u001b[0mlength\u001b[0m\u001b[0;34m=\u001b[0m\u001b[0mlen\u001b[0m\u001b[0;34m(\u001b[0m\u001b[0mtitle_crew_processed\u001b[0m\u001b[0;34m)\u001b[0m\u001b[0;34m//\u001b[0m\u001b[0mbatch_size\u001b[0m\u001b[0;34m+\u001b[0m\u001b[0;36m1\u001b[0m\u001b[0;34m\u001b[0m\u001b[0;34m\u001b[0m\u001b[0m\n\u001b[0;32m----> 3\u001b[0;31m \u001b[0;32mfor\u001b[0m \u001b[0mchunk\u001b[0m \u001b[0;32min\u001b[0m \u001b[0mtqdm\u001b[0m\u001b[0;34m(\u001b[0m\u001b[0mbatch\u001b[0m\u001b[0;34m(\u001b[0m\u001b[0mtitle_crew_processed\u001b[0m\u001b[0;34m,\u001b[0m\u001b[0mbatch_size\u001b[0m\u001b[0;34m)\u001b[0m\u001b[0;34m,\u001b[0m\u001b[0mtotal\u001b[0m\u001b[0;34m=\u001b[0m\u001b[0mlength\u001b[0m\u001b[0;34m)\u001b[0m\u001b[0;34m:\u001b[0m\u001b[0;34m\u001b[0m\u001b[0;34m\u001b[0m\u001b[0m\n\u001b[0m\u001b[1;32m      4\u001b[0m     \u001b[0mload_dataframe\u001b[0m\u001b[0;34m(\u001b[0m\u001b[0mchunk\u001b[0m\u001b[0;34m,\u001b[0m\u001b[0;34m'titlecrew'\u001b[0m\u001b[0;34m)\u001b[0m\u001b[0;34m\u001b[0m\u001b[0;34m\u001b[0m\u001b[0m\n",
      "\u001b[0;31mNameError\u001b[0m: name 'batch' is not defined"
     ]
    }
   ],
   "source": [
    "batch_size=100000\n",
    "length=len(title_crew_processed)//batch_size+1\n",
    "for chunk in tqdm(batch(title_crew_processed,batch_size),total=length):\n",
    "    load_dataframe(chunk,'titlecrew')"
   ]
  },
  {
   "cell_type": "code",
   "execution_count": null,
   "metadata": {},
   "outputs": [],
   "source": []
  },
  {
   "cell_type": "markdown",
   "metadata": {},
   "source": [
    "## Writers ##"
   ]
  },
  {
   "cell_type": "code",
   "execution_count": 239,
   "metadata": {},
   "outputs": [],
   "source": [
    "def preprocess_dataframe_parsing(data_frame, column_name):\n",
    "    \n",
    "    data_frame=data_frame.to_frame()\n",
    "    data_frame=data_frame.assign(name=data_frame[column_name].str.split(\",\"))\n",
    "    #type(x.iloc[0,1])\n",
    "    data_frame=data_frame.explode('name')\n",
    "    \n",
    "    return data_frame\n",
    "writers_preprocessed=preprocess_dataframe_parsing(title_crew.writers, \"writers\")"
   ]
  },
  {
   "cell_type": "code",
   "execution_count": 228,
   "metadata": {},
   "outputs": [
    {
     "name": "stderr",
     "output_type": "stream",
     "text": [
      "100%|██████████| 121/121 [02:24<00:00,  1.19s/it]\n"
     ]
    }
   ],
   "source": [
    "batch_size=100000\n",
    "length=len(writers_preprocessed)//batch_size+1\n",
    "for chunk in tqdm(batch(writers_preprocessed,batch_size),total=length):\n",
    "    load_dataframe(chunk,'writers')"
   ]
  },
  {
   "cell_type": "markdown",
   "metadata": {},
   "source": [
    "## Directors ##"
   ]
  },
  {
   "cell_type": "code",
   "execution_count": 222,
   "metadata": {},
   "outputs": [],
   "source": [
    "directors_preprocessed=preprocess_dataframe_parsing(title_crew.directors, \"directors\")"
   ]
  },
  {
   "cell_type": "code",
   "execution_count": 229,
   "metadata": {},
   "outputs": [
    {
     "name": "stderr",
     "output_type": "stream",
     "text": [
      "100%|██████████| 87/87 [01:37<00:00,  1.12s/it]\n"
     ]
    }
   ],
   "source": [
    "batch_size=100000\n",
    "length=len(directors_preprocessed)//batch_size+1\n",
    "for chunk in tqdm(batch(directors_preprocessed,batch_size),total=length):\n",
    "    load_dataframe(chunk,'directors')"
   ]
  },
  {
   "cell_type": "markdown",
   "metadata": {},
   "source": [
    "## Genres ##"
   ]
  },
  {
   "cell_type": "code",
   "execution_count": 232,
   "metadata": {},
   "outputs": [],
   "source": [
    "genres_preprocessed=preprocess_dataframe_parsing(title_basics.genres, \"genres\")"
   ]
  },
  {
   "cell_type": "code",
   "execution_count": 233,
   "metadata": {},
   "outputs": [
    {
     "name": "stderr",
     "output_type": "stream",
     "text": [
      "100%|██████████| 116/116 [02:06<00:00,  1.09s/it]\n"
     ]
    }
   ],
   "source": [
    "batch_size=100000\n",
    "length=len(genres_preprocessed)//batch_size+1\n",
    "for chunk in tqdm(batch(genres_preprocessed,batch_size),total=length):\n",
    "    load_dataframe(chunk,'genres')"
   ]
  },
  {
   "cell_type": "markdown",
   "metadata": {},
   "source": [
    "## Known for titles ##"
   ]
  },
  {
   "cell_type": "code",
   "execution_count": 235,
   "metadata": {},
   "outputs": [],
   "source": [
    "knownForTitles_preprocessed=preprocess_dataframe_parsing(name_basics.knownForTitles, \"knownForTitles\")"
   ]
  },
  {
   "cell_type": "code",
   "execution_count": 236,
   "metadata": {},
   "outputs": [
    {
     "name": "stderr",
     "output_type": "stream",
     "text": [
      "100%|██████████| 184/184 [03:27<00:00,  1.13s/it]\n"
     ]
    }
   ],
   "source": [
    "batch_size=100000\n",
    "length=len(knownForTitles_preprocessed)//batch_size+1\n",
    "for chunk in tqdm(batch(knownForTitles_preprocessed,batch_size),total=length):\n",
    "    load_dataframe(chunk,'knownForTitles')"
   ]
  },
  {
   "cell_type": "markdown",
   "metadata": {},
   "source": [
    "## primary profession ##"
   ]
  },
  {
   "cell_type": "code",
   "execution_count": 237,
   "metadata": {},
   "outputs": [],
   "source": [
    "pprofession_preprocessed=preprocess_dataframe_parsing(name_basics.primaryProfession, \"primaryProfession\")"
   ]
  },
  {
   "cell_type": "code",
   "execution_count": 238,
   "metadata": {},
   "outputs": [
    {
     "name": "stderr",
     "output_type": "stream",
     "text": [
      "100%|██████████| 136/136 [02:23<00:00,  1.05s/it]\n"
     ]
    }
   ],
   "source": [
    "batch_size=100000\n",
    "length=len(pprofession_preprocessed)//batch_size+1\n",
    "for chunk in tqdm(batch(pprofession_preprocessed,batch_size),total=length):\n",
    "    load_dataframe(chunk,'primaryProfession')"
   ]
  },
  {
   "cell_type": "markdown",
   "metadata": {},
   "source": [
    "## types ## "
   ]
  },
  {
   "cell_type": "code",
   "execution_count": 240,
   "metadata": {},
   "outputs": [],
   "source": [
    "types_preprocessed=preprocess_dataframe_parsing(title_akas.types, \"types\")"
   ]
  },
  {
   "cell_type": "code",
   "execution_count": 241,
   "metadata": {},
   "outputs": [
    {
     "name": "stderr",
     "output_type": "stream",
     "text": [
      "100%|██████████| 240/240 [04:11<00:00,  1.05s/it]\n"
     ]
    }
   ],
   "source": [
    "batch_size=100000\n",
    "length=len(types_preprocessed)//batch_size+1\n",
    "for chunk in tqdm(batch(types_preprocessed,batch_size),total=length):\n",
    "    load_dataframe(chunk,'types')"
   ]
  },
  {
   "cell_type": "markdown",
   "metadata": {},
   "source": [
    "## attributes ##"
   ]
  },
  {
   "cell_type": "code",
   "execution_count": 242,
   "metadata": {},
   "outputs": [],
   "source": [
    "attributes_preprocessed=preprocess_dataframe_parsing(title_akas.attributes, \"attributes\")"
   ]
  },
  {
   "cell_type": "markdown",
   "metadata": {},
   "source": [
    "batch_size=100000\n",
    "length=len(types_preprocessed)//batch_size+1\n",
    "for chunk in tqdm(batch(types_preprocessed,batch_size),total=length):\n",
    "    load_dataframe(chunk,'attributes')"
   ]
  },
  {
   "cell_type": "markdown",
   "metadata": {},
   "source": [
    "## Characters ##"
   ]
  },
  {
   "cell_type": "code",
   "execution_count": 247,
   "metadata": {},
   "outputs": [],
   "source": [
    "def preprocess_dataframe_parsing(data_frame, column_name):\n",
    "    \n",
    "    data_frame=data_frame.to_frame()\n",
    "    data_frame=data_frame.assign(=data_frame[column_name].str.replace('[\\[\\]\"]',\"\").str.split(\",\"))\n",
    "    #type(x.iloc[0,1])\n",
    "    data_frame=data_frame.explode('name')\n",
    "    \n",
    "    return data_frame\n",
    "characters_preprocessed=preprocess_dataframe_parsing(title_principals.characters, \"characters\")"
   ]
  },
  {
   "cell_type": "code",
   "execution_count": 248,
   "metadata": {},
   "outputs": [
    {
     "name": "stderr",
     "output_type": "stream",
     "text": [
      " 27%|██▋       | 116/427 [02:15<06:02,  1.17s/it]\n"
     ]
    }
   ],
   "source": [
    "batch_size=100000\n",
    "length=len(characters_preprocessed)//batch_size+1\n",
    "for chunk in tqdm(batch(directors_preprocessed,batch_size),total=length):\n",
    "    load_dataframe(chunk,'characters')"
   ]
  },
  {
   "cell_type": "code",
   "execution_count": null,
   "metadata": {},
   "outputs": [],
   "source": []
  }
 ],
 "metadata": {
  "kernelspec": {
   "display_name": "Python 3",
   "language": "python",
   "name": "python3"
  },
  "language_info": {
   "codemirror_mode": {
    "name": "ipython",
    "version": 3
   },
   "file_extension": ".py",
   "mimetype": "text/x-python",
   "name": "python",
   "nbconvert_exporter": "python",
   "pygments_lexer": "ipython3",
   "version": "3.8.3"
  }
 },
 "nbformat": 4,
 "nbformat_minor": 4
}
